{
  "cells": [
    {
      "cell_type": "markdown",
      "metadata": {
        "id": "mObFb0fGY4QS"
      },
      "source": [
        "# Credit Card Fraud Detection\n",
        "Anonymized credit card transactions labeled as fraudulent or genuine\n",
        "\n",
        "In this dataset, we have the feature 'Class,' which is what we're trying to predict. When 'Class' is equal to 1, it means the transaction is fraudulent, and when it's 0, it means the transaction is not fraudulent.\n",
        "\n",
        "The dataset comprises numerical features about the credit card transactions. We have features labeled V1 through V28, which are basically mathematical summaries of the transaction details obtained using a technique called PCA (Principal Component Analysis). Don't worry too much about what PCA is for now; just know that these features help us understand the transactions better.\n",
        "Credit card transaction datasets often contain a large number of features, such as transaction amount, merchant ID, location, time, and more. These features can result in high-dimensional data, making it challenging to analyze and build models effectively. PCA can also be used to anonymize sensitive data, such as credit card transaction details.\n",
        "\n",
        "Two features, 'Time' and 'Amount', are not transformed using PCA. 'Time' tells us how much time has passed since the first transaction, but we won't use it in our training. 'Amount' tells us the transaction amount, and we will do some transformations on it to make it more useful for our analysis.\n",
        "\n",
        "Dataset: https://www.kaggle.com/datasets/mlg-ulb/creditcardfraud"
      ]
    },
    {
      "cell_type": "markdown",
      "metadata": {
        "id": "Ax6LxoKLbKAf"
      },
      "source": [
        "## Libraries used"
      ]
    },
    {
      "cell_type": "code",
      "execution_count": null,
      "metadata": {
        "id": "fiXi_6w1YlXl"
      },
      "outputs": [],
      "source": [
        "from keras.src.metrics.confusion_metrics import FalsePositives\n",
        "from sklearn.model_selection import train_test_split\n",
        "from sklearn.preprocessing import StandardScaler, MinMaxScaler, RobustScaler, Normalizer\n",
        "from keras.models import Sequential\n",
        "from keras.layers import Dense\n",
        "from keras.layers import Input\n",
        "from sklearn.metrics import confusion_matrix\n",
        "from keras.metrics import FalseNegatives, FalsePositives, TrueNegatives, TruePositives, Precision, Recall, BinaryAccuracy\n",
        "import pandas as pd\n",
        "import seaborn as sns\n",
        "import matplotlib.pyplot as plt"
      ]
    },
    {
      "cell_type": "markdown",
      "metadata": {
        "id": "I4--0aItb4Oi"
      },
      "source": [
        "# Load the dataset"
      ]
    },
    {
      "cell_type": "markdown",
      "metadata": {
        "id": "CqEeKwVX9ByY"
      },
      "source": [
        "Load the data from the csv file creditcard.csv into a pandas dataframe. Use the variable df for the dataframe.\n",
        "Display the first 5 records in the dataframe."
      ]
    },
    {
      "cell_type": "code",
      "execution_count": null,
      "metadata": {
        "id": "DRrYRxrJb6mQ"
      },
      "outputs": [],
      "source": [
        "file_path = \"creditcard_sample.csv\"\n",
        "df = pd.read_csv(file_path)"
      ]
    },
    {
      "cell_type": "code",
      "execution_count": null,
      "metadata": {
        "id": "4j3eEsBIcMod",
        "colab": {
          "base_uri": "https://localhost:8080/",
          "height": 443
        },
        "outputId": "c0f3a5f8-f208-4c88-c180-c2437dde8204"
      },
      "outputs": [
        {
          "output_type": "execute_result",
          "data": {
            "text/plain": [
              "        Time        V1        V2        V3        V4        V5        V6  \\\n",
              "0          0 -1.359807 -0.072781  2.536347  1.378155 -0.338321  0.462388   \n",
              "1          0  1.191857  0.266151  0.166480  0.448154  0.060018 -0.082361   \n",
              "2          1 -1.358354 -1.340163  1.773209  0.379780 -0.503198  1.800499   \n",
              "3          1 -0.966272 -0.185226  1.792993 -0.863291 -0.010309  1.247203   \n",
              "4          2 -1.158233  0.877737  1.548718  0.403034 -0.407193  0.095921   \n",
              "...      ...       ...       ...       ...       ...       ...       ...   \n",
              "19995  30714 -2.574861 -3.159709 -0.066802 -2.342403 -4.109518  1.277935   \n",
              "19996  30716  1.172969  0.221508  0.622677  0.650761 -0.406620 -0.690456   \n",
              "19997  30716 -1.061245  0.721735  0.569426 -0.145278 -0.093611 -1.423052   \n",
              "19998  30717 -0.975430 -1.649324  1.581357 -1.379578 -0.152562 -0.201571   \n",
              "19999  30717  1.071615  0.013662  1.505439  1.409847 -0.960577 -0.015836   \n",
              "\n",
              "             V7        V8        V9  ...       V21       V22       V23  \\\n",
              "0      0.239599  0.098698  0.363787  ... -0.018307  0.277838 -0.110474   \n",
              "1     -0.078803  0.085102 -0.255425  ... -0.225775 -0.638672  0.101288   \n",
              "2      0.791461  0.247676 -1.514654  ...  0.247998  0.771679  0.909412   \n",
              "3      0.237609  0.377436 -1.387024  ... -0.108300  0.005274 -0.190321   \n",
              "4      0.592941 -0.270533  0.817739  ... -0.009431  0.798278 -0.137458   \n",
              "...         ...       ...       ...  ...       ...       ...       ...   \n",
              "19995  4.314675 -0.973984 -0.154314  ... -0.624611 -0.895640  0.757427   \n",
              "19996  0.049612 -0.127383 -0.079778  ... -0.194160 -0.523100  0.188783   \n",
              "19997  0.712580  0.209606 -0.392517  ...  0.169586  0.389166  0.094515   \n",
              "19998 -0.763894  0.004300 -2.281788  ... -0.406639 -0.458034  0.976208   \n",
              "19999 -0.549520  0.130743  0.683760  ...  0.013456  0.330622  0.076655   \n",
              "\n",
              "            V24       V25       V26       V27       V28   Amount  Class  \n",
              "0      0.066928  0.128539 -0.189115  0.133558 -0.021053   149.62      0  \n",
              "1     -0.339846  0.167170  0.125895 -0.008983  0.014724     2.69      0  \n",
              "2     -0.689281 -0.327642 -0.139097 -0.055353 -0.059752   378.66      0  \n",
              "3     -1.175575  0.647376 -0.221929  0.062723  0.061458   123.50      0  \n",
              "4      0.141267 -0.206010  0.502292  0.219422  0.215153    69.99      0  \n",
              "...         ...       ...       ...       ...       ...      ...    ...  \n",
              "19995  0.349402  0.108809 -0.341502  0.329811 -0.314936  1200.00      0  \n",
              "19996  0.413152  0.118688  0.100692 -0.010056  0.022251    12.99      0  \n",
              "19997  0.767622 -0.357250  0.267907  0.220411  0.121707    60.00      0  \n",
              "19998 -0.411276 -0.610035 -0.373744  0.016157 -0.172344    15.50      0  \n",
              "19999  0.634578  0.307968 -0.415722  0.096872  0.042688     9.99      0  \n",
              "\n",
              "[20000 rows x 31 columns]"
            ],
            "text/html": [
              "\n",
              "  <div id=\"df-ba33f702-ae99-4b49-a6e7-6314c6fc398d\" class=\"colab-df-container\">\n",
              "    <div>\n",
              "<style scoped>\n",
              "    .dataframe tbody tr th:only-of-type {\n",
              "        vertical-align: middle;\n",
              "    }\n",
              "\n",
              "    .dataframe tbody tr th {\n",
              "        vertical-align: top;\n",
              "    }\n",
              "\n",
              "    .dataframe thead th {\n",
              "        text-align: right;\n",
              "    }\n",
              "</style>\n",
              "<table border=\"1\" class=\"dataframe\">\n",
              "  <thead>\n",
              "    <tr style=\"text-align: right;\">\n",
              "      <th></th>\n",
              "      <th>Time</th>\n",
              "      <th>V1</th>\n",
              "      <th>V2</th>\n",
              "      <th>V3</th>\n",
              "      <th>V4</th>\n",
              "      <th>V5</th>\n",
              "      <th>V6</th>\n",
              "      <th>V7</th>\n",
              "      <th>V8</th>\n",
              "      <th>V9</th>\n",
              "      <th>...</th>\n",
              "      <th>V21</th>\n",
              "      <th>V22</th>\n",
              "      <th>V23</th>\n",
              "      <th>V24</th>\n",
              "      <th>V25</th>\n",
              "      <th>V26</th>\n",
              "      <th>V27</th>\n",
              "      <th>V28</th>\n",
              "      <th>Amount</th>\n",
              "      <th>Class</th>\n",
              "    </tr>\n",
              "  </thead>\n",
              "  <tbody>\n",
              "    <tr>\n",
              "      <th>0</th>\n",
              "      <td>0</td>\n",
              "      <td>-1.359807</td>\n",
              "      <td>-0.072781</td>\n",
              "      <td>2.536347</td>\n",
              "      <td>1.378155</td>\n",
              "      <td>-0.338321</td>\n",
              "      <td>0.462388</td>\n",
              "      <td>0.239599</td>\n",
              "      <td>0.098698</td>\n",
              "      <td>0.363787</td>\n",
              "      <td>...</td>\n",
              "      <td>-0.018307</td>\n",
              "      <td>0.277838</td>\n",
              "      <td>-0.110474</td>\n",
              "      <td>0.066928</td>\n",
              "      <td>0.128539</td>\n",
              "      <td>-0.189115</td>\n",
              "      <td>0.133558</td>\n",
              "      <td>-0.021053</td>\n",
              "      <td>149.62</td>\n",
              "      <td>0</td>\n",
              "    </tr>\n",
              "    <tr>\n",
              "      <th>1</th>\n",
              "      <td>0</td>\n",
              "      <td>1.191857</td>\n",
              "      <td>0.266151</td>\n",
              "      <td>0.166480</td>\n",
              "      <td>0.448154</td>\n",
              "      <td>0.060018</td>\n",
              "      <td>-0.082361</td>\n",
              "      <td>-0.078803</td>\n",
              "      <td>0.085102</td>\n",
              "      <td>-0.255425</td>\n",
              "      <td>...</td>\n",
              "      <td>-0.225775</td>\n",
              "      <td>-0.638672</td>\n",
              "      <td>0.101288</td>\n",
              "      <td>-0.339846</td>\n",
              "      <td>0.167170</td>\n",
              "      <td>0.125895</td>\n",
              "      <td>-0.008983</td>\n",
              "      <td>0.014724</td>\n",
              "      <td>2.69</td>\n",
              "      <td>0</td>\n",
              "    </tr>\n",
              "    <tr>\n",
              "      <th>2</th>\n",
              "      <td>1</td>\n",
              "      <td>-1.358354</td>\n",
              "      <td>-1.340163</td>\n",
              "      <td>1.773209</td>\n",
              "      <td>0.379780</td>\n",
              "      <td>-0.503198</td>\n",
              "      <td>1.800499</td>\n",
              "      <td>0.791461</td>\n",
              "      <td>0.247676</td>\n",
              "      <td>-1.514654</td>\n",
              "      <td>...</td>\n",
              "      <td>0.247998</td>\n",
              "      <td>0.771679</td>\n",
              "      <td>0.909412</td>\n",
              "      <td>-0.689281</td>\n",
              "      <td>-0.327642</td>\n",
              "      <td>-0.139097</td>\n",
              "      <td>-0.055353</td>\n",
              "      <td>-0.059752</td>\n",
              "      <td>378.66</td>\n",
              "      <td>0</td>\n",
              "    </tr>\n",
              "    <tr>\n",
              "      <th>3</th>\n",
              "      <td>1</td>\n",
              "      <td>-0.966272</td>\n",
              "      <td>-0.185226</td>\n",
              "      <td>1.792993</td>\n",
              "      <td>-0.863291</td>\n",
              "      <td>-0.010309</td>\n",
              "      <td>1.247203</td>\n",
              "      <td>0.237609</td>\n",
              "      <td>0.377436</td>\n",
              "      <td>-1.387024</td>\n",
              "      <td>...</td>\n",
              "      <td>-0.108300</td>\n",
              "      <td>0.005274</td>\n",
              "      <td>-0.190321</td>\n",
              "      <td>-1.175575</td>\n",
              "      <td>0.647376</td>\n",
              "      <td>-0.221929</td>\n",
              "      <td>0.062723</td>\n",
              "      <td>0.061458</td>\n",
              "      <td>123.50</td>\n",
              "      <td>0</td>\n",
              "    </tr>\n",
              "    <tr>\n",
              "      <th>4</th>\n",
              "      <td>2</td>\n",
              "      <td>-1.158233</td>\n",
              "      <td>0.877737</td>\n",
              "      <td>1.548718</td>\n",
              "      <td>0.403034</td>\n",
              "      <td>-0.407193</td>\n",
              "      <td>0.095921</td>\n",
              "      <td>0.592941</td>\n",
              "      <td>-0.270533</td>\n",
              "      <td>0.817739</td>\n",
              "      <td>...</td>\n",
              "      <td>-0.009431</td>\n",
              "      <td>0.798278</td>\n",
              "      <td>-0.137458</td>\n",
              "      <td>0.141267</td>\n",
              "      <td>-0.206010</td>\n",
              "      <td>0.502292</td>\n",
              "      <td>0.219422</td>\n",
              "      <td>0.215153</td>\n",
              "      <td>69.99</td>\n",
              "      <td>0</td>\n",
              "    </tr>\n",
              "    <tr>\n",
              "      <th>...</th>\n",
              "      <td>...</td>\n",
              "      <td>...</td>\n",
              "      <td>...</td>\n",
              "      <td>...</td>\n",
              "      <td>...</td>\n",
              "      <td>...</td>\n",
              "      <td>...</td>\n",
              "      <td>...</td>\n",
              "      <td>...</td>\n",
              "      <td>...</td>\n",
              "      <td>...</td>\n",
              "      <td>...</td>\n",
              "      <td>...</td>\n",
              "      <td>...</td>\n",
              "      <td>...</td>\n",
              "      <td>...</td>\n",
              "      <td>...</td>\n",
              "      <td>...</td>\n",
              "      <td>...</td>\n",
              "      <td>...</td>\n",
              "      <td>...</td>\n",
              "    </tr>\n",
              "    <tr>\n",
              "      <th>19995</th>\n",
              "      <td>30714</td>\n",
              "      <td>-2.574861</td>\n",
              "      <td>-3.159709</td>\n",
              "      <td>-0.066802</td>\n",
              "      <td>-2.342403</td>\n",
              "      <td>-4.109518</td>\n",
              "      <td>1.277935</td>\n",
              "      <td>4.314675</td>\n",
              "      <td>-0.973984</td>\n",
              "      <td>-0.154314</td>\n",
              "      <td>...</td>\n",
              "      <td>-0.624611</td>\n",
              "      <td>-0.895640</td>\n",
              "      <td>0.757427</td>\n",
              "      <td>0.349402</td>\n",
              "      <td>0.108809</td>\n",
              "      <td>-0.341502</td>\n",
              "      <td>0.329811</td>\n",
              "      <td>-0.314936</td>\n",
              "      <td>1200.00</td>\n",
              "      <td>0</td>\n",
              "    </tr>\n",
              "    <tr>\n",
              "      <th>19996</th>\n",
              "      <td>30716</td>\n",
              "      <td>1.172969</td>\n",
              "      <td>0.221508</td>\n",
              "      <td>0.622677</td>\n",
              "      <td>0.650761</td>\n",
              "      <td>-0.406620</td>\n",
              "      <td>-0.690456</td>\n",
              "      <td>0.049612</td>\n",
              "      <td>-0.127383</td>\n",
              "      <td>-0.079778</td>\n",
              "      <td>...</td>\n",
              "      <td>-0.194160</td>\n",
              "      <td>-0.523100</td>\n",
              "      <td>0.188783</td>\n",
              "      <td>0.413152</td>\n",
              "      <td>0.118688</td>\n",
              "      <td>0.100692</td>\n",
              "      <td>-0.010056</td>\n",
              "      <td>0.022251</td>\n",
              "      <td>12.99</td>\n",
              "      <td>0</td>\n",
              "    </tr>\n",
              "    <tr>\n",
              "      <th>19997</th>\n",
              "      <td>30716</td>\n",
              "      <td>-1.061245</td>\n",
              "      <td>0.721735</td>\n",
              "      <td>0.569426</td>\n",
              "      <td>-0.145278</td>\n",
              "      <td>-0.093611</td>\n",
              "      <td>-1.423052</td>\n",
              "      <td>0.712580</td>\n",
              "      <td>0.209606</td>\n",
              "      <td>-0.392517</td>\n",
              "      <td>...</td>\n",
              "      <td>0.169586</td>\n",
              "      <td>0.389166</td>\n",
              "      <td>0.094515</td>\n",
              "      <td>0.767622</td>\n",
              "      <td>-0.357250</td>\n",
              "      <td>0.267907</td>\n",
              "      <td>0.220411</td>\n",
              "      <td>0.121707</td>\n",
              "      <td>60.00</td>\n",
              "      <td>0</td>\n",
              "    </tr>\n",
              "    <tr>\n",
              "      <th>19998</th>\n",
              "      <td>30717</td>\n",
              "      <td>-0.975430</td>\n",
              "      <td>-1.649324</td>\n",
              "      <td>1.581357</td>\n",
              "      <td>-1.379578</td>\n",
              "      <td>-0.152562</td>\n",
              "      <td>-0.201571</td>\n",
              "      <td>-0.763894</td>\n",
              "      <td>0.004300</td>\n",
              "      <td>-2.281788</td>\n",
              "      <td>...</td>\n",
              "      <td>-0.406639</td>\n",
              "      <td>-0.458034</td>\n",
              "      <td>0.976208</td>\n",
              "      <td>-0.411276</td>\n",
              "      <td>-0.610035</td>\n",
              "      <td>-0.373744</td>\n",
              "      <td>0.016157</td>\n",
              "      <td>-0.172344</td>\n",
              "      <td>15.50</td>\n",
              "      <td>0</td>\n",
              "    </tr>\n",
              "    <tr>\n",
              "      <th>19999</th>\n",
              "      <td>30717</td>\n",
              "      <td>1.071615</td>\n",
              "      <td>0.013662</td>\n",
              "      <td>1.505439</td>\n",
              "      <td>1.409847</td>\n",
              "      <td>-0.960577</td>\n",
              "      <td>-0.015836</td>\n",
              "      <td>-0.549520</td>\n",
              "      <td>0.130743</td>\n",
              "      <td>0.683760</td>\n",
              "      <td>...</td>\n",
              "      <td>0.013456</td>\n",
              "      <td>0.330622</td>\n",
              "      <td>0.076655</td>\n",
              "      <td>0.634578</td>\n",
              "      <td>0.307968</td>\n",
              "      <td>-0.415722</td>\n",
              "      <td>0.096872</td>\n",
              "      <td>0.042688</td>\n",
              "      <td>9.99</td>\n",
              "      <td>0</td>\n",
              "    </tr>\n",
              "  </tbody>\n",
              "</table>\n",
              "<p>20000 rows × 31 columns</p>\n",
              "</div>\n",
              "    <div class=\"colab-df-buttons\">\n",
              "\n",
              "  <div class=\"colab-df-container\">\n",
              "    <button class=\"colab-df-convert\" onclick=\"convertToInteractive('df-ba33f702-ae99-4b49-a6e7-6314c6fc398d')\"\n",
              "            title=\"Convert this dataframe to an interactive table.\"\n",
              "            style=\"display:none;\">\n",
              "\n",
              "  <svg xmlns=\"http://www.w3.org/2000/svg\" height=\"24px\" viewBox=\"0 -960 960 960\">\n",
              "    <path d=\"M120-120v-720h720v720H120Zm60-500h600v-160H180v160Zm220 220h160v-160H400v160Zm0 220h160v-160H400v160ZM180-400h160v-160H180v160Zm440 0h160v-160H620v160ZM180-180h160v-160H180v160Zm440 0h160v-160H620v160Z\"/>\n",
              "  </svg>\n",
              "    </button>\n",
              "\n",
              "  <style>\n",
              "    .colab-df-container {\n",
              "      display:flex;\n",
              "      gap: 12px;\n",
              "    }\n",
              "\n",
              "    .colab-df-convert {\n",
              "      background-color: #E8F0FE;\n",
              "      border: none;\n",
              "      border-radius: 50%;\n",
              "      cursor: pointer;\n",
              "      display: none;\n",
              "      fill: #1967D2;\n",
              "      height: 32px;\n",
              "      padding: 0 0 0 0;\n",
              "      width: 32px;\n",
              "    }\n",
              "\n",
              "    .colab-df-convert:hover {\n",
              "      background-color: #E2EBFA;\n",
              "      box-shadow: 0px 1px 2px rgba(60, 64, 67, 0.3), 0px 1px 3px 1px rgba(60, 64, 67, 0.15);\n",
              "      fill: #174EA6;\n",
              "    }\n",
              "\n",
              "    .colab-df-buttons div {\n",
              "      margin-bottom: 4px;\n",
              "    }\n",
              "\n",
              "    [theme=dark] .colab-df-convert {\n",
              "      background-color: #3B4455;\n",
              "      fill: #D2E3FC;\n",
              "    }\n",
              "\n",
              "    [theme=dark] .colab-df-convert:hover {\n",
              "      background-color: #434B5C;\n",
              "      box-shadow: 0px 1px 3px 1px rgba(0, 0, 0, 0.15);\n",
              "      filter: drop-shadow(0px 1px 2px rgba(0, 0, 0, 0.3));\n",
              "      fill: #FFFFFF;\n",
              "    }\n",
              "  </style>\n",
              "\n",
              "    <script>\n",
              "      const buttonEl =\n",
              "        document.querySelector('#df-ba33f702-ae99-4b49-a6e7-6314c6fc398d button.colab-df-convert');\n",
              "      buttonEl.style.display =\n",
              "        google.colab.kernel.accessAllowed ? 'block' : 'none';\n",
              "\n",
              "      async function convertToInteractive(key) {\n",
              "        const element = document.querySelector('#df-ba33f702-ae99-4b49-a6e7-6314c6fc398d');\n",
              "        const dataTable =\n",
              "          await google.colab.kernel.invokeFunction('convertToInteractive',\n",
              "                                                    [key], {});\n",
              "        if (!dataTable) return;\n",
              "\n",
              "        const docLinkHtml = 'Like what you see? Visit the ' +\n",
              "          '<a target=\"_blank\" href=https://colab.research.google.com/notebooks/data_table.ipynb>data table notebook</a>'\n",
              "          + ' to learn more about interactive tables.';\n",
              "        element.innerHTML = '';\n",
              "        dataTable['output_type'] = 'display_data';\n",
              "        await google.colab.output.renderOutput(dataTable, element);\n",
              "        const docLink = document.createElement('div');\n",
              "        docLink.innerHTML = docLinkHtml;\n",
              "        element.appendChild(docLink);\n",
              "      }\n",
              "    </script>\n",
              "  </div>\n",
              "\n",
              "\n",
              "<div id=\"df-e9ac77f6-c177-4bee-8397-0e506c5e892d\">\n",
              "  <button class=\"colab-df-quickchart\" onclick=\"quickchart('df-e9ac77f6-c177-4bee-8397-0e506c5e892d')\"\n",
              "            title=\"Suggest charts\"\n",
              "            style=\"display:none;\">\n",
              "\n",
              "<svg xmlns=\"http://www.w3.org/2000/svg\" height=\"24px\"viewBox=\"0 0 24 24\"\n",
              "     width=\"24px\">\n",
              "    <g>\n",
              "        <path d=\"M19 3H5c-1.1 0-2 .9-2 2v14c0 1.1.9 2 2 2h14c1.1 0 2-.9 2-2V5c0-1.1-.9-2-2-2zM9 17H7v-7h2v7zm4 0h-2V7h2v10zm4 0h-2v-4h2v4z\"/>\n",
              "    </g>\n",
              "</svg>\n",
              "  </button>\n",
              "\n",
              "<style>\n",
              "  .colab-df-quickchart {\n",
              "      --bg-color: #E8F0FE;\n",
              "      --fill-color: #1967D2;\n",
              "      --hover-bg-color: #E2EBFA;\n",
              "      --hover-fill-color: #174EA6;\n",
              "      --disabled-fill-color: #AAA;\n",
              "      --disabled-bg-color: #DDD;\n",
              "  }\n",
              "\n",
              "  [theme=dark] .colab-df-quickchart {\n",
              "      --bg-color: #3B4455;\n",
              "      --fill-color: #D2E3FC;\n",
              "      --hover-bg-color: #434B5C;\n",
              "      --hover-fill-color: #FFFFFF;\n",
              "      --disabled-bg-color: #3B4455;\n",
              "      --disabled-fill-color: #666;\n",
              "  }\n",
              "\n",
              "  .colab-df-quickchart {\n",
              "    background-color: var(--bg-color);\n",
              "    border: none;\n",
              "    border-radius: 50%;\n",
              "    cursor: pointer;\n",
              "    display: none;\n",
              "    fill: var(--fill-color);\n",
              "    height: 32px;\n",
              "    padding: 0;\n",
              "    width: 32px;\n",
              "  }\n",
              "\n",
              "  .colab-df-quickchart:hover {\n",
              "    background-color: var(--hover-bg-color);\n",
              "    box-shadow: 0 1px 2px rgba(60, 64, 67, 0.3), 0 1px 3px 1px rgba(60, 64, 67, 0.15);\n",
              "    fill: var(--button-hover-fill-color);\n",
              "  }\n",
              "\n",
              "  .colab-df-quickchart-complete:disabled,\n",
              "  .colab-df-quickchart-complete:disabled:hover {\n",
              "    background-color: var(--disabled-bg-color);\n",
              "    fill: var(--disabled-fill-color);\n",
              "    box-shadow: none;\n",
              "  }\n",
              "\n",
              "  .colab-df-spinner {\n",
              "    border: 2px solid var(--fill-color);\n",
              "    border-color: transparent;\n",
              "    border-bottom-color: var(--fill-color);\n",
              "    animation:\n",
              "      spin 1s steps(1) infinite;\n",
              "  }\n",
              "\n",
              "  @keyframes spin {\n",
              "    0% {\n",
              "      border-color: transparent;\n",
              "      border-bottom-color: var(--fill-color);\n",
              "      border-left-color: var(--fill-color);\n",
              "    }\n",
              "    20% {\n",
              "      border-color: transparent;\n",
              "      border-left-color: var(--fill-color);\n",
              "      border-top-color: var(--fill-color);\n",
              "    }\n",
              "    30% {\n",
              "      border-color: transparent;\n",
              "      border-left-color: var(--fill-color);\n",
              "      border-top-color: var(--fill-color);\n",
              "      border-right-color: var(--fill-color);\n",
              "    }\n",
              "    40% {\n",
              "      border-color: transparent;\n",
              "      border-right-color: var(--fill-color);\n",
              "      border-top-color: var(--fill-color);\n",
              "    }\n",
              "    60% {\n",
              "      border-color: transparent;\n",
              "      border-right-color: var(--fill-color);\n",
              "    }\n",
              "    80% {\n",
              "      border-color: transparent;\n",
              "      border-right-color: var(--fill-color);\n",
              "      border-bottom-color: var(--fill-color);\n",
              "    }\n",
              "    90% {\n",
              "      border-color: transparent;\n",
              "      border-bottom-color: var(--fill-color);\n",
              "    }\n",
              "  }\n",
              "</style>\n",
              "\n",
              "  <script>\n",
              "    async function quickchart(key) {\n",
              "      const quickchartButtonEl =\n",
              "        document.querySelector('#' + key + ' button');\n",
              "      quickchartButtonEl.disabled = true;  // To prevent multiple clicks.\n",
              "      quickchartButtonEl.classList.add('colab-df-spinner');\n",
              "      try {\n",
              "        const charts = await google.colab.kernel.invokeFunction(\n",
              "            'suggestCharts', [key], {});\n",
              "      } catch (error) {\n",
              "        console.error('Error during call to suggestCharts:', error);\n",
              "      }\n",
              "      quickchartButtonEl.classList.remove('colab-df-spinner');\n",
              "      quickchartButtonEl.classList.add('colab-df-quickchart-complete');\n",
              "    }\n",
              "    (() => {\n",
              "      let quickchartButtonEl =\n",
              "        document.querySelector('#df-e9ac77f6-c177-4bee-8397-0e506c5e892d button');\n",
              "      quickchartButtonEl.style.display =\n",
              "        google.colab.kernel.accessAllowed ? 'block' : 'none';\n",
              "    })();\n",
              "  </script>\n",
              "</div>\n",
              "    </div>\n",
              "  </div>\n"
            ]
          },
          "metadata": {},
          "execution_count": 37
        }
      ],
      "source": [
        "df"
      ]
    },
    {
      "cell_type": "markdown",
      "metadata": {
        "id": "0oID2Q3lgnUx"
      },
      "source": [
        "# Class distribution in the dataset\n",
        "Use pandas' `value_counts` to determine the Class distribution in the dataset. Then, create a [countplot](https://seaborn.pydata.org/generated/seaborn.countplot.html) using seaborn to visualize the class distribution. Based on your analysis, is the dataset balanced or imbalanced?"
      ]
    },
    {
      "cell_type": "code",
      "execution_count": null,
      "metadata": {
        "id": "IycebKqWczcN",
        "colab": {
          "base_uri": "https://localhost:8080/"
        },
        "outputId": "3691acc7-7556-44c4-b971-632f654ce27f"
      },
      "outputs": [
        {
          "output_type": "execute_result",
          "data": {
            "text/plain": [
              "0    19915\n",
              "1       85\n",
              "Name: Class, dtype: int64"
            ]
          },
          "metadata": {},
          "execution_count": 38
        }
      ],
      "source": [
        "df['Class'].value_counts()"
      ]
    },
    {
      "cell_type": "code",
      "execution_count": null,
      "metadata": {
        "id": "CCP9cdfndYF_",
        "colab": {
          "base_uri": "https://localhost:8080/",
          "height": 472
        },
        "outputId": "ba090985-5e2d-4962-c8ee-319fa58ce054"
      },
      "outputs": [
        {
          "output_type": "display_data",
          "data": {
            "text/plain": [
              "<Figure size 640x480 with 1 Axes>"
            ],
            "image/png": "[encoded data removed]"
          },
          "metadata": {}
        }
      ],
      "source": [
        "# Create the countplot\n",
        "sns.countplot(x='Class', data=df)\n",
        "\n",
        "# Enhance the plot with labels and title (optional)\n",
        "plt.xlabel('Class')\n",
        "plt.ylabel('Count')\n",
        "plt.title('Countplot of Class Distribution')\n",
        "\n",
        "# Display the plot\n",
        "plt.show()"
      ]
    },
    {
      "cell_type": "markdown",
      "metadata": {
        "id": "Vg2uGdRnjQcV"
      },
      "source": [
        "## Data processing\n",
        "Remove feature 'Time' from the dataset."
      ]
    },
    {
      "cell_type": "code",
      "execution_count": null,
      "metadata": {
        "id": "mQhedyHwztHp"
      },
      "outputs": [],
      "source": [
        "df = df.drop('Time', axis=1)"
      ]
    },
    {
      "cell_type": "markdown",
      "metadata": {
        "id": "Z_wbHwjth5Qr"
      },
      "source": [
        "## Split the dataset"
      ]
    },
    {
      "cell_type": "code",
      "execution_count": null,
      "metadata": {
        "id": "iZOpsXq7ZDZr"
      },
      "outputs": [],
      "source": [
        "X = df.drop(columns=[\"Class\"], axis=1)\n",
        "y = df[\"Class\"]"
      ]
    },
    {
      "cell_type": "markdown",
      "metadata": {
        "id": "t_f2ISCx9pqN"
      },
      "source": [
        "Split the dataset in a trainingset and a testset."
      ]
    },
    {
      "cell_type": "code",
      "execution_count": null,
      "metadata": {
        "id": "wwEnoZgA2EnJ"
      },
      "outputs": [],
      "source": [
        "X_train, X_test, y_train, y_test =  train_test_split(X, y, test_size=0.2)"
      ]
    },
    {
      "cell_type": "markdown",
      "metadata": {
        "id": "5JRj6ynG2eQy"
      },
      "source": [
        "How many features are there in the (training) data?"
      ]
    },
    {
      "cell_type": "code",
      "execution_count": null,
      "metadata": {
        "id": "Q0JpxygA2kls",
        "colab": {
          "base_uri": "https://localhost:8080/"
        },
        "outputId": "a7dd7abc-d677-4e67-db78-e4782115dc04"
      },
      "outputs": [
        {
          "output_type": "stream",
          "name": "stdout",
          "text": [
            "Number of features: 29\n",
            "Number of features: 29\n"
          ]
        }
      ],
      "source": [
        "num_features = len(X_train.columns)\n",
        "print(f\"Number of features: {num_features}\")\n",
        "# OR\n",
        "num_features = X_train.shape[1]\n",
        "print(f\"Number of features: {num_features}\")"
      ]
    },
    {
      "cell_type": "markdown",
      "metadata": {
        "id": "RUYaKHSoz6h-"
      },
      "source": [
        "## Data processing\n",
        "What is the range of the variable 'Amount'?"
      ]
    },
    {
      "cell_type": "code",
      "execution_count": null,
      "metadata": {
        "id": "ciDIlfoH97wf",
        "colab": {
          "base_uri": "https://localhost:8080/"
        },
        "outputId": "0e1ff6eb-cb5c-4b59-8e12-b73d0d53b929"
      },
      "outputs": [
        {
          "output_type": "execute_result",
          "data": {
            "text/plain": [
              "count    16000.000000\n",
              "mean         0.008806\n",
              "std          0.025965\n",
              "min          0.000000\n",
              "25%          0.000742\n",
              "50%          0.002027\n",
              "75%          0.007602\n",
              "max          1.000000\n",
              "Name: Amount, dtype: float64"
            ]
          },
          "metadata": {},
          "execution_count": 42
        }
      ],
      "source": [
        "X_train['Amount'].describe()"
      ]
    },
    {
      "cell_type": "markdown",
      "metadata": {
        "id": "P-Cgp4jp-Am5"
      },
      "source": [
        "Reduce this wide range using Normalization or Standardization. It is important to note that the scaler should be fitted to the training and the test data, rather than to the entire dataset, in order to prevent leakage of information from the test data."
      ]
    },
    {
      "cell_type": "code",
      "execution_count": null,
      "metadata": {
        "id": "7SFdysJLyNYE"
      },
      "outputs": [],
      "source": [
        "# Min-Max normalization\n",
        "# Use Min-Max normalization if you need to bound values between 0 and 1 and when you know the approximate upper and lower bounds of your data.\n",
        "min_max_scaler = MinMaxScaler()\n",
        "train_amount = min_max_scaler.fit_transform(X_train[[\"Amount\"]])\n",
        "X_train_scaled = X_train\n",
        "X_train_scaled[\"Amount\"] = train_amount\n",
        "\n",
        "test_amount =  min_max_scaler.transform(X_test[[\"Amount\"]])\n",
        "X_test_scaled = X_test\n",
        "X_test_scaled[\"Amount\"] = test_amount"
      ]
    },
    {
      "cell_type": "code",
      "execution_count": null,
      "metadata": {
        "colab": {
          "base_uri": "https://localhost:8080/",
          "height": 443
        },
        "id": "eg4swALgR5X6",
        "outputId": "f11b8673-4f5f-4db8-bd99-26fc805acdea"
      },
      "outputs": [
        {
          "output_type": "execute_result",
          "data": {
            "text/plain": [
              "             V1        V2        V3        V4        V5        V6        V7  \\\n",
              "19493  1.202871 -0.063828  0.380373 -0.178302 -0.485050 -0.537898 -0.173654   \n",
              "11884 -2.322010 -2.691396  0.754978  0.021225 -1.669255  0.253903  2.046121   \n",
              "13269 -2.039728  0.965692  2.166568 -0.005581 -0.086848 -0.098832 -0.216829   \n",
              "11158 -0.442487  1.289264  1.782040  1.202763 -0.242006 -0.843543  0.519311   \n",
              "8477  -0.872882  0.880470  2.213435 -1.216853  0.287125 -0.337387  0.662548   \n",
              "...         ...       ...       ...       ...       ...       ...       ...   \n",
              "15779 -0.666814  0.490791  1.008168  0.919200  0.411510 -0.820747  0.570446   \n",
              "11114 -0.360520  0.708974  1.840150  0.945089 -0.272527 -0.196333  0.338953   \n",
              "4668  -0.714847  1.288490  1.714777  0.146772  0.016590 -0.588978  0.536608   \n",
              "8391   1.126968  0.707538 -0.012331  2.555788  0.734877 -0.005958  0.513535   \n",
              "9459  -0.737115  1.529211  1.870745  2.924363  0.960891  0.102382  0.816626   \n",
              "\n",
              "             V8        V9       V10  ...       V20       V21       V22  \\\n",
              "19493  0.060239  0.032004 -0.054713  ... -0.147665 -0.147288 -0.453937   \n",
              "11884 -0.230177 -0.538370 -0.661008  ...  1.483496  0.063118 -0.766524   \n",
              "13269  0.198205  1.605322  0.364846  ... -0.117448 -0.275567 -0.262577   \n",
              "11158 -0.371493  1.128661  0.005898  ...  0.219749 -0.397573 -0.757737   \n",
              "8477  -0.320847  0.939137 -0.767170  ...  0.003681 -0.216698 -0.386504   \n",
              "...         ...       ...       ...  ...       ...       ...       ...   \n",
              "15779  0.005280 -0.277012  0.018570  ...  0.271303  0.132533  0.273912   \n",
              "11114  0.038130  0.893430 -0.566848  ...  0.034892 -0.193584 -0.252039   \n",
              "4668  -0.031472  1.024068 -0.423195  ...  0.147270 -0.358926 -0.612018   \n",
              "8391  -0.257664  0.120131  0.273549  ... -0.064932 -0.129741 -0.179965   \n",
              "9459  -0.376531 -0.288826  0.849559  ...  0.200869 -0.576182 -1.103519   \n",
              "\n",
              "            V23       V24       V25       V26       V27       V28    Amount  \n",
              "19493  0.162943  0.247418  0.018129  0.849437 -0.078457 -0.009183  0.000127  \n",
              "11884  1.804665 -0.065243  0.324217  1.144459 -0.325676  0.121355  0.097680  \n",
              "13269 -0.351295  0.157698 -0.031629  0.211652  0.217463  0.219128  0.004611  \n",
              "11158  0.019546  0.577343 -0.623177  0.212147 -0.112359 -0.024295  0.000339  \n",
              "8477  -0.318667 -0.003705  0.076236  0.738860 -0.508286 -0.190278  0.001123  \n",
              "...         ...       ...       ...       ...       ...       ...       ...  \n",
              "15779  0.008159 -0.008056 -0.157407 -0.291639  0.375067  0.231056  0.006978  \n",
              "11114  0.014811  0.498893 -0.462534  0.273560  0.077768  0.126080  0.004257  \n",
              "4668   0.063119  0.322711 -0.275940  0.046264  0.367403  0.173506  0.000570  \n",
              "8391  -0.180365 -0.461488  0.711836  0.082436 -0.054350  0.005878  0.006819  \n",
              "9459  -0.138118  0.011695 -0.009279 -0.133738 -0.115985 -0.195896  0.002636  \n",
              "\n",
              "[16000 rows x 29 columns]"
            ],
            "text/html": [
              "\n",
              "  <div id=\"df-e6b90557-6445-4ebc-a3e0-9a47f54cb795\" class=\"colab-df-container\">\n",
              "    <div>\n",
              "<style scoped>\n",
              "    .dataframe tbody tr th:only-of-type {\n",
              "        vertical-align: middle;\n",
              "    }\n",
              "\n",
              "    .dataframe tbody tr th {\n",
              "        vertical-align: top;\n",
              "    }\n",
              "\n",
              "    .dataframe thead th {\n",
              "        text-align: right;\n",
              "    }\n",
              "</style>\n",
              "<table border=\"1\" class=\"dataframe\">\n",
              "  <thead>\n",
              "    <tr style=\"text-align: right;\">\n",
              "      <th></th>\n",
              "      <th>V1</th>\n",
              "      <th>V2</th>\n",
              "      <th>V3</th>\n",
              "      <th>V4</th>\n",
              "      <th>V5</th>\n",
              "      <th>V6</th>\n",
              "      <th>V7</th>\n",
              "      <th>V8</th>\n",
              "      <th>V9</th>\n",
              "      <th>V10</th>\n",
              "      <th>...</th>\n",
              "      <th>V20</th>\n",
              "      <th>V21</th>\n",
              "      <th>V22</th>\n",
              "      <th>V23</th>\n",
              "      <th>V24</th>\n",
              "      <th>V25</th>\n",
              "      <th>V26</th>\n",
              "      <th>V27</th>\n",
              "      <th>V28</th>\n",
              "      <th>Amount</th>\n",
              "    </tr>\n",
              "  </thead>\n",
              "  <tbody>\n",
              "    <tr>\n",
              "      <th>19493</th>\n",
              "      <td>1.202871</td>\n",
              "      <td>-0.063828</td>\n",
              "      <td>0.380373</td>\n",
              "      <td>-0.178302</td>\n",
              "      <td>-0.485050</td>\n",
              "      <td>-0.537898</td>\n",
              "      <td>-0.173654</td>\n",
              "      <td>0.060239</td>\n",
              "      <td>0.032004</td>\n",
              "      <td>-0.054713</td>\n",
              "      <td>...</td>\n",
              "      <td>-0.147665</td>\n",
              "      <td>-0.147288</td>\n",
              "      <td>-0.453937</td>\n",
              "      <td>0.162943</td>\n",
              "      <td>0.247418</td>\n",
              "      <td>0.018129</td>\n",
              "      <td>0.849437</td>\n",
              "      <td>-0.078457</td>\n",
              "      <td>-0.009183</td>\n",
              "      <td>0.000127</td>\n",
              "    </tr>\n",
              "    <tr>\n",
              "      <th>11884</th>\n",
              "      <td>-2.322010</td>\n",
              "      <td>-2.691396</td>\n",
              "      <td>0.754978</td>\n",
              "      <td>0.021225</td>\n",
              "      <td>-1.669255</td>\n",
              "      <td>0.253903</td>\n",
              "      <td>2.046121</td>\n",
              "      <td>-0.230177</td>\n",
              "      <td>-0.538370</td>\n",
              "      <td>-0.661008</td>\n",
              "      <td>...</td>\n",
              "      <td>1.483496</td>\n",
              "      <td>0.063118</td>\n",
              "      <td>-0.766524</td>\n",
              "      <td>1.804665</td>\n",
              "      <td>-0.065243</td>\n",
              "      <td>0.324217</td>\n",
              "      <td>1.144459</td>\n",
              "      <td>-0.325676</td>\n",
              "      <td>0.121355</td>\n",
              "      <td>0.097680</td>\n",
              "    </tr>\n",
              "    <tr>\n",
              "      <th>13269</th>\n",
              "      <td>-2.039728</td>\n",
              "      <td>0.965692</td>\n",
              "      <td>2.166568</td>\n",
              "      <td>-0.005581</td>\n",
              "      <td>-0.086848</td>\n",
              "      <td>-0.098832</td>\n",
              "      <td>-0.216829</td>\n",
              "      <td>0.198205</td>\n",
              "      <td>1.605322</td>\n",
              "      <td>0.364846</td>\n",
              "      <td>...</td>\n",
              "      <td>-0.117448</td>\n",
              "      <td>-0.275567</td>\n",
              "      <td>-0.262577</td>\n",
              "      <td>-0.351295</td>\n",
              "      <td>0.157698</td>\n",
              "      <td>-0.031629</td>\n",
              "      <td>0.211652</td>\n",
              "      <td>0.217463</td>\n",
              "      <td>0.219128</td>\n",
              "      <td>0.004611</td>\n",
              "    </tr>\n",
              "    <tr>\n",
              "      <th>11158</th>\n",
              "      <td>-0.442487</td>\n",
              "      <td>1.289264</td>\n",
              "      <td>1.782040</td>\n",
              "      <td>1.202763</td>\n",
              "      <td>-0.242006</td>\n",
              "      <td>-0.843543</td>\n",
              "      <td>0.519311</td>\n",
              "      <td>-0.371493</td>\n",
              "      <td>1.128661</td>\n",
              "      <td>0.005898</td>\n",
              "      <td>...</td>\n",
              "      <td>0.219749</td>\n",
              "      <td>-0.397573</td>\n",
              "      <td>-0.757737</td>\n",
              "      <td>0.019546</td>\n",
              "      <td>0.577343</td>\n",
              "      <td>-0.623177</td>\n",
              "      <td>0.212147</td>\n",
              "      <td>-0.112359</td>\n",
              "      <td>-0.024295</td>\n",
              "      <td>0.000339</td>\n",
              "    </tr>\n",
              "    <tr>\n",
              "      <th>8477</th>\n",
              "      <td>-0.872882</td>\n",
              "      <td>0.880470</td>\n",
              "      <td>2.213435</td>\n",
              "      <td>-1.216853</td>\n",
              "      <td>0.287125</td>\n",
              "      <td>-0.337387</td>\n",
              "      <td>0.662548</td>\n",
              "      <td>-0.320847</td>\n",
              "      <td>0.939137</td>\n",
              "      <td>-0.767170</td>\n",
              "      <td>...</td>\n",
              "      <td>0.003681</td>\n",
              "      <td>-0.216698</td>\n",
              "      <td>-0.386504</td>\n",
              "      <td>-0.318667</td>\n",
              "      <td>-0.003705</td>\n",
              "      <td>0.076236</td>\n",
              "      <td>0.738860</td>\n",
              "      <td>-0.508286</td>\n",
              "      <td>-0.190278</td>\n",
              "      <td>0.001123</td>\n",
              "    </tr>\n",
              "    <tr>\n",
              "      <th>...</th>\n",
              "      <td>...</td>\n",
              "      <td>...</td>\n",
              "      <td>...</td>\n",
              "      <td>...</td>\n",
              "      <td>...</td>\n",
              "      <td>...</td>\n",
              "      <td>...</td>\n",
              "      <td>...</td>\n",
              "      <td>...</td>\n",
              "      <td>...</td>\n",
              "      <td>...</td>\n",
              "      <td>...</td>\n",
              "      <td>...</td>\n",
              "      <td>...</td>\n",
              "      <td>...</td>\n",
              "      <td>...</td>\n",
              "      <td>...</td>\n",
              "      <td>...</td>\n",
              "      <td>...</td>\n",
              "      <td>...</td>\n",
              "      <td>...</td>\n",
              "    </tr>\n",
              "    <tr>\n",
              "      <th>15779</th>\n",
              "      <td>-0.666814</td>\n",
              "      <td>0.490791</td>\n",
              "      <td>1.008168</td>\n",
              "      <td>0.919200</td>\n",
              "      <td>0.411510</td>\n",
              "      <td>-0.820747</td>\n",
              "      <td>0.570446</td>\n",
              "      <td>0.005280</td>\n",
              "      <td>-0.277012</td>\n",
              "      <td>0.018570</td>\n",
              "      <td>...</td>\n",
              "      <td>0.271303</td>\n",
              "      <td>0.132533</td>\n",
              "      <td>0.273912</td>\n",
              "      <td>0.008159</td>\n",
              "      <td>-0.008056</td>\n",
              "      <td>-0.157407</td>\n",
              "      <td>-0.291639</td>\n",
              "      <td>0.375067</td>\n",
              "      <td>0.231056</td>\n",
              "      <td>0.006978</td>\n",
              "    </tr>\n",
              "    <tr>\n",
              "      <th>11114</th>\n",
              "      <td>-0.360520</td>\n",
              "      <td>0.708974</td>\n",
              "      <td>1.840150</td>\n",
              "      <td>0.945089</td>\n",
              "      <td>-0.272527</td>\n",
              "      <td>-0.196333</td>\n",
              "      <td>0.338953</td>\n",
              "      <td>0.038130</td>\n",
              "      <td>0.893430</td>\n",
              "      <td>-0.566848</td>\n",
              "      <td>...</td>\n",
              "      <td>0.034892</td>\n",
              "      <td>-0.193584</td>\n",
              "      <td>-0.252039</td>\n",
              "      <td>0.014811</td>\n",
              "      <td>0.498893</td>\n",
              "      <td>-0.462534</td>\n",
              "      <td>0.273560</td>\n",
              "      <td>0.077768</td>\n",
              "      <td>0.126080</td>\n",
              "      <td>0.004257</td>\n",
              "    </tr>\n",
              "    <tr>\n",
              "      <th>4668</th>\n",
              "      <td>-0.714847</td>\n",
              "      <td>1.288490</td>\n",
              "      <td>1.714777</td>\n",
              "      <td>0.146772</td>\n",
              "      <td>0.016590</td>\n",
              "      <td>-0.588978</td>\n",
              "      <td>0.536608</td>\n",
              "      <td>-0.031472</td>\n",
              "      <td>1.024068</td>\n",
              "      <td>-0.423195</td>\n",
              "      <td>...</td>\n",
              "      <td>0.147270</td>\n",
              "      <td>-0.358926</td>\n",
              "      <td>-0.612018</td>\n",
              "      <td>0.063119</td>\n",
              "      <td>0.322711</td>\n",
              "      <td>-0.275940</td>\n",
              "      <td>0.046264</td>\n",
              "      <td>0.367403</td>\n",
              "      <td>0.173506</td>\n",
              "      <td>0.000570</td>\n",
              "    </tr>\n",
              "    <tr>\n",
              "      <th>8391</th>\n",
              "      <td>1.126968</td>\n",
              "      <td>0.707538</td>\n",
              "      <td>-0.012331</td>\n",
              "      <td>2.555788</td>\n",
              "      <td>0.734877</td>\n",
              "      <td>-0.005958</td>\n",
              "      <td>0.513535</td>\n",
              "      <td>-0.257664</td>\n",
              "      <td>0.120131</td>\n",
              "      <td>0.273549</td>\n",
              "      <td>...</td>\n",
              "      <td>-0.064932</td>\n",
              "      <td>-0.129741</td>\n",
              "      <td>-0.179965</td>\n",
              "      <td>-0.180365</td>\n",
              "      <td>-0.461488</td>\n",
              "      <td>0.711836</td>\n",
              "      <td>0.082436</td>\n",
              "      <td>-0.054350</td>\n",
              "      <td>0.005878</td>\n",
              "      <td>0.006819</td>\n",
              "    </tr>\n",
              "    <tr>\n",
              "      <th>9459</th>\n",
              "      <td>-0.737115</td>\n",
              "      <td>1.529211</td>\n",
              "      <td>1.870745</td>\n",
              "      <td>2.924363</td>\n",
              "      <td>0.960891</td>\n",
              "      <td>0.102382</td>\n",
              "      <td>0.816626</td>\n",
              "      <td>-0.376531</td>\n",
              "      <td>-0.288826</td>\n",
              "      <td>0.849559</td>\n",
              "      <td>...</td>\n",
              "      <td>0.200869</td>\n",
              "      <td>-0.576182</td>\n",
              "      <td>-1.103519</td>\n",
              "      <td>-0.138118</td>\n",
              "      <td>0.011695</td>\n",
              "      <td>-0.009279</td>\n",
              "      <td>-0.133738</td>\n",
              "      <td>-0.115985</td>\n",
              "      <td>-0.195896</td>\n",
              "      <td>0.002636</td>\n",
              "    </tr>\n",
              "  </tbody>\n",
              "</table>\n",
              "<p>16000 rows × 29 columns</p>\n",
              "</div>\n",
              "    <div class=\"colab-df-buttons\">\n",
              "\n",
              "  <div class=\"colab-df-container\">\n",
              "    <button class=\"colab-df-convert\" onclick=\"convertToInteractive('df-e6b90557-6445-4ebc-a3e0-9a47f54cb795')\"\n",
              "            title=\"Convert this dataframe to an interactive table.\"\n",
              "            style=\"display:none;\">\n",
              "\n",
              "  <svg xmlns=\"http://www.w3.org/2000/svg\" height=\"24px\" viewBox=\"0 -960 960 960\">\n",
              "    <path d=\"M120-120v-720h720v720H120Zm60-500h600v-160H180v160Zm220 220h160v-160H400v160Zm0 220h160v-160H400v160ZM180-400h160v-160H180v160Zm440 0h160v-160H620v160ZM180-180h160v-160H180v160Zm440 0h160v-160H620v160Z\"/>\n",
              "  </svg>\n",
              "    </button>\n",
              "\n",
              "  <style>\n",
              "    .colab-df-container {\n",
              "      display:flex;\n",
              "      gap: 12px;\n",
              "    }\n",
              "\n",
              "    .colab-df-convert {\n",
              "      background-color: #E8F0FE;\n",
              "      border: none;\n",
              "      border-radius: 50%;\n",
              "      cursor: pointer;\n",
              "      display: none;\n",
              "      fill: #1967D2;\n",
              "      height: 32px;\n",
              "      padding: 0 0 0 0;\n",
              "      width: 32px;\n",
              "    }\n",
              "\n",
              "    .colab-df-convert:hover {\n",
              "      background-color: #E2EBFA;\n",
              "      box-shadow: 0px 1px 2px rgba(60, 64, 67, 0.3), 0px 1px 3px 1px rgba(60, 64, 67, 0.15);\n",
              "      fill: #174EA6;\n",
              "    }\n",
              "\n",
              "    .colab-df-buttons div {\n",
              "      margin-bottom: 4px;\n",
              "    }\n",
              "\n",
              "    [theme=dark] .colab-df-convert {\n",
              "      background-color: #3B4455;\n",
              "      fill: #D2E3FC;\n",
              "    }\n",
              "\n",
              "    [theme=dark] .colab-df-convert:hover {\n",
              "      background-color: #434B5C;\n",
              "      box-shadow: 0px 1px 3px 1px rgba(0, 0, 0, 0.15);\n",
              "      filter: drop-shadow(0px 1px 2px rgba(0, 0, 0, 0.3));\n",
              "      fill: #FFFFFF;\n",
              "    }\n",
              "  </style>\n",
              "\n",
              "    <script>\n",
              "      const buttonEl =\n",
              "        document.querySelector('#df-e6b90557-6445-4ebc-a3e0-9a47f54cb795 button.colab-df-convert');\n",
              "      buttonEl.style.display =\n",
              "        google.colab.kernel.accessAllowed ? 'block' : 'none';\n",
              "\n",
              "      async function convertToInteractive(key) {\n",
              "        const element = document.querySelector('#df-e6b90557-6445-4ebc-a3e0-9a47f54cb795');\n",
              "        const dataTable =\n",
              "          await google.colab.kernel.invokeFunction('convertToInteractive',\n",
              "                                                    [key], {});\n",
              "        if (!dataTable) return;\n",
              "\n",
              "        const docLinkHtml = 'Like what you see? Visit the ' +\n",
              "          '<a target=\"_blank\" href=https://colab.research.google.com/notebooks/data_table.ipynb>data table notebook</a>'\n",
              "          + ' to learn more about interactive tables.';\n",
              "        element.innerHTML = '';\n",
              "        dataTable['output_type'] = 'display_data';\n",
              "        await google.colab.output.renderOutput(dataTable, element);\n",
              "        const docLink = document.createElement('div');\n",
              "        docLink.innerHTML = docLinkHtml;\n",
              "        element.appendChild(docLink);\n",
              "      }\n",
              "    </script>\n",
              "  </div>\n",
              "\n",
              "\n",
              "<div id=\"df-b9087171-d4f7-40c9-9844-78f015e071be\">\n",
              "  <button class=\"colab-df-quickchart\" onclick=\"quickchart('df-b9087171-d4f7-40c9-9844-78f015e071be')\"\n",
              "            title=\"Suggest charts\"\n",
              "            style=\"display:none;\">\n",
              "\n",
              "<svg xmlns=\"http://www.w3.org/2000/svg\" height=\"24px\"viewBox=\"0 0 24 24\"\n",
              "     width=\"24px\">\n",
              "    <g>\n",
              "        <path d=\"M19 3H5c-1.1 0-2 .9-2 2v14c0 1.1.9 2 2 2h14c1.1 0 2-.9 2-2V5c0-1.1-.9-2-2-2zM9 17H7v-7h2v7zm4 0h-2V7h2v10zm4 0h-2v-4h2v4z\"/>\n",
              "    </g>\n",
              "</svg>\n",
              "  </button>\n",
              "\n",
              "<style>\n",
              "  .colab-df-quickchart {\n",
              "      --bg-color: #E8F0FE;\n",
              "      --fill-color: #1967D2;\n",
              "      --hover-bg-color: #E2EBFA;\n",
              "      --hover-fill-color: #174EA6;\n",
              "      --disabled-fill-color: #AAA;\n",
              "      --disabled-bg-color: #DDD;\n",
              "  }\n",
              "\n",
              "  [theme=dark] .colab-df-quickchart {\n",
              "      --bg-color: #3B4455;\n",
              "      --fill-color: #D2E3FC;\n",
              "      --hover-bg-color: #434B5C;\n",
              "      --hover-fill-color: #FFFFFF;\n",
              "      --disabled-bg-color: #3B4455;\n",
              "      --disabled-fill-color: #666;\n",
              "  }\n",
              "\n",
              "  .colab-df-quickchart {\n",
              "    background-color: var(--bg-color);\n",
              "    border: none;\n",
              "    border-radius: 50%;\n",
              "    cursor: pointer;\n",
              "    display: none;\n",
              "    fill: var(--fill-color);\n",
              "    height: 32px;\n",
              "    padding: 0;\n",
              "    width: 32px;\n",
              "  }\n",
              "\n",
              "  .colab-df-quickchart:hover {\n",
              "    background-color: var(--hover-bg-color);\n",
              "    box-shadow: 0 1px 2px rgba(60, 64, 67, 0.3), 0 1px 3px 1px rgba(60, 64, 67, 0.15);\n",
              "    fill: var(--button-hover-fill-color);\n",
              "  }\n",
              "\n",
              "  .colab-df-quickchart-complete:disabled,\n",
              "  .colab-df-quickchart-complete:disabled:hover {\n",
              "    background-color: var(--disabled-bg-color);\n",
              "    fill: var(--disabled-fill-color);\n",
              "    box-shadow: none;\n",
              "  }\n",
              "\n",
              "  .colab-df-spinner {\n",
              "    border: 2px solid var(--fill-color);\n",
              "    border-color: transparent;\n",
              "    border-bottom-color: var(--fill-color);\n",
              "    animation:\n",
              "      spin 1s steps(1) infinite;\n",
              "  }\n",
              "\n",
              "  @keyframes spin {\n",
              "    0% {\n",
              "      border-color: transparent;\n",
              "      border-bottom-color: var(--fill-color);\n",
              "      border-left-color: var(--fill-color);\n",
              "    }\n",
              "    20% {\n",
              "      border-color: transparent;\n",
              "      border-left-color: var(--fill-color);\n",
              "      border-top-color: var(--fill-color);\n",
              "    }\n",
              "    30% {\n",
              "      border-color: transparent;\n",
              "      border-left-color: var(--fill-color);\n",
              "      border-top-color: var(--fill-color);\n",
              "      border-right-color: var(--fill-color);\n",
              "    }\n",
              "    40% {\n",
              "      border-color: transparent;\n",
              "      border-right-color: var(--fill-color);\n",
              "      border-top-color: var(--fill-color);\n",
              "    }\n",
              "    60% {\n",
              "      border-color: transparent;\n",
              "      border-right-color: var(--fill-color);\n",
              "    }\n",
              "    80% {\n",
              "      border-color: transparent;\n",
              "      border-right-color: var(--fill-color);\n",
              "      border-bottom-color: var(--fill-color);\n",
              "    }\n",
              "    90% {\n",
              "      border-color: transparent;\n",
              "      border-bottom-color: var(--fill-color);\n",
              "    }\n",
              "  }\n",
              "</style>\n",
              "\n",
              "  <script>\n",
              "    async function quickchart(key) {\n",
              "      const quickchartButtonEl =\n",
              "        document.querySelector('#' + key + ' button');\n",
              "      quickchartButtonEl.disabled = true;  // To prevent multiple clicks.\n",
              "      quickchartButtonEl.classList.add('colab-df-spinner');\n",
              "      try {\n",
              "        const charts = await google.colab.kernel.invokeFunction(\n",
              "            'suggestCharts', [key], {});\n",
              "      } catch (error) {\n",
              "        console.error('Error during call to suggestCharts:', error);\n",
              "      }\n",
              "      quickchartButtonEl.classList.remove('colab-df-spinner');\n",
              "      quickchartButtonEl.classList.add('colab-df-quickchart-complete');\n",
              "    }\n",
              "    (() => {\n",
              "      let quickchartButtonEl =\n",
              "        document.querySelector('#df-b9087171-d4f7-40c9-9844-78f015e071be button');\n",
              "      quickchartButtonEl.style.display =\n",
              "        google.colab.kernel.accessAllowed ? 'block' : 'none';\n",
              "    })();\n",
              "  </script>\n",
              "</div>\n",
              "    </div>\n",
              "  </div>\n"
            ]
          },
          "metadata": {},
          "execution_count": 43
        }
      ],
      "source": [
        "X_train_scaled"
      ]
    },
    {
      "cell_type": "markdown",
      "metadata": {
        "id": "ZiviCdOF1CR6"
      },
      "source": [
        "Neural networks can't handle pandas dataframes, but the min_max_scaler output is a numpy array. Numpy array are usable as input for a neural network."
      ]
    },
    {
      "cell_type": "markdown",
      "metadata": {
        "id": "fD-yCjbSzY1u"
      },
      "source": [
        "## Build a binary classification model"
      ]
    },
    {
      "cell_type": "markdown",
      "metadata": {
        "id": "v9vtzuEZ3X0f"
      },
      "source": [
        "Create a neural network with an input layer with 32 neurons and ReLU activation, three hidden layers, each with 32 neurons and ReLU activation.\n",
        "And finally, the output layer. How many neurons do you need for a binary classifcation problem? Which activation function will you use?\n",
        "\n",
        "Create a summary of the network. How many trainable parameters are there?"
      ]
    },
    {
      "cell_type": "code",
      "execution_count": null,
      "metadata": {
        "id": "c61idHzOanoE"
      },
      "outputs": [],
      "source": [
        "# Define the model\n",
        "model = Sequential()\n",
        "\n",
        "model.add(Input(shape=(29,)))\n",
        "\n",
        "# Add 3 hidden layers with 32 neurons and ReLU activation\n",
        "model.add(Dense(32, activation='relu'))\n",
        "model.add(Dense(32, activation='relu'))\n",
        "model.add(Dense(32, activation='relu'))\n",
        "\n",
        "model.add(Dense(1, activation='sigmoid'))"
      ]
    },
    {
      "cell_type": "code",
      "execution_count": null,
      "metadata": {
        "id": "rnK5JV2B23mG",
        "colab": {
          "base_uri": "https://localhost:8080/"
        },
        "outputId": "c30d34fa-04a5-4f34-ef1a-bdd36aa97ab4"
      },
      "outputs": [
        {
          "output_type": "stream",
          "name": "stdout",
          "text": [
            "Model: \"sequential\"\n",
            "_________________________________________________________________\n",
            " Layer (type)                Output Shape              Param #   \n",
            "=================================================================\n",
            " dense (Dense)               (None, 32)                960       \n",
            "                                                                 \n",
            " dense_1 (Dense)             (None, 32)                1056      \n",
            "                                                                 \n",
            " dense_2 (Dense)             (None, 32)                1056      \n",
            "                                                                 \n",
            " dense_3 (Dense)             (None, 1)                 33        \n",
            "                                                                 \n",
            "=================================================================\n",
            "Total params: 3105 (12.13 KB)\n",
            "Trainable params: 3105 (12.13 KB)\n",
            "Non-trainable params: 0 (0.00 Byte)\n",
            "_________________________________________________________________\n"
          ]
        }
      ],
      "source": [
        "model.summary()"
      ]
    },
    {
      "cell_type": "markdown",
      "metadata": {
        "id": "9VhAE1d0alTJ"
      },
      "source": [
        "## Compile the model\n",
        "The next step is to compile the neural network. Provide two functions: a loss function and an optimizer. The loss function evaluates the set of weights by how well the model predicts, while the optimizer modifies the weights to reduce the loss. The list of metrics below is also provided to the compile() method. Metric values are displayed during fit() (training) and logged to the History-object returned by fit().\n"
      ]
    },
    {
      "cell_type": "code",
      "execution_count": null,
      "metadata": {
        "id": "toSIWWIx64Ku"
      },
      "outputs": [],
      "source": [
        "from keras.src.metrics import BinaryAccuracy\n",
        "metrics = [\n",
        "  FalseNegatives(name=\"fn\"),\n",
        "  FalsePositives(name=\"fp\"),\n",
        "  TrueNegatives(name=\"tn\"),\n",
        "  TruePositives(name=\"tp\"),\n",
        "  Precision(name=\"precision\"),\n",
        "  Recall(name=\"recall\"),\n",
        "  BinaryAccuracy(name=\"accuracy\")\n",
        "]"
      ]
    },
    {
      "cell_type": "code",
      "execution_count": null,
      "metadata": {
        "id": "FkPkji294gK5"
      },
      "outputs": [],
      "source": [
        "model.compile(loss='binary_crossentropy', optimizer='adam', metrics=metrics)"
      ]
    },
    {
      "cell_type": "markdown",
      "metadata": {
        "id": "APwWpZAU_rf1"
      },
      "source": [
        "**Remark:** When you pass the strings 'accuracy' or 'acc' to the metrics for , we convert this to one of tf.keras.metrics.BinaryAccuracy, tf.keras.metrics.CategoricalAccuracy, tf.keras.metrics.SparseCategoricalAccuracy based on the loss function used and the model output shape. We do a similar conversion for the strings 'crossentropy' and 'ce' as well. https://stackoverflow.com/questions/65023353/difference-between-keras-metrics-accuracy-and-accuracy"
      ]
    },
    {
      "cell_type": "markdown",
      "metadata": {
        "id": "2QoOt_Q9_vmW"
      },
      "source": [
        "## Train the model\n",
        "\n",
        "Call fit() to train the model. Use batches with batch_size 2048 and iterate 10 times over the entire dataset. Because you are coping with an imbalanced dataset, it's a good idea to provide different weights for each class when using the loss function."
      ]
    },
    {
      "cell_type": "code",
      "execution_count": null,
      "metadata": {
        "id": "N_D__U1EAi9D"
      },
      "outputs": [],
      "source": [
        "class_weight = {0: 0.5, 1: 5.}"
      ]
    },
    {
      "cell_type": "code",
      "execution_count": null,
      "metadata": {
        "id": "27Q5AZdq_8z9",
        "colab": {
          "base_uri": "https://localhost:8080/"
        },
        "outputId": "924c679f-cf69-4126-f596-41258bde3344"
      },
      "outputs": [
        {
          "output_type": "stream",
          "name": "stdout",
          "text": [
            "Epoch 1/10\n",
            "8/8 [==============================] - 3s 12ms/step - loss: 0.2783 - fn: 52.0000 - fp: 1404.0000 - tn: 14523.0000 - tp: 21.0000 - precision: 0.0147 - recall: 0.2877 - accuracy: 0.9090\n",
            "Epoch 2/10\n",
            "8/8 [==============================] - 0s 10ms/step - loss: 0.1891 - fn: 33.0000 - fp: 77.0000 - tn: 15850.0000 - tp: 40.0000 - precision: 0.3419 - recall: 0.5479 - accuracy: 0.9931\n",
            "Epoch 3/10\n",
            "8/8 [==============================] - 0s 11ms/step - loss: 0.1257 - fn: 33.0000 - fp: 29.0000 - tn: 15898.0000 - tp: 40.0000 - precision: 0.5797 - recall: 0.5479 - accuracy: 0.9961\n",
            "Epoch 4/10\n",
            "8/8 [==============================] - 0s 13ms/step - loss: 0.0846 - fn: 29.0000 - fp: 27.0000 - tn: 15900.0000 - tp: 44.0000 - precision: 0.6197 - recall: 0.6027 - accuracy: 0.9965\n",
            "Epoch 5/10\n",
            "8/8 [==============================] - 0s 11ms/step - loss: 0.0595 - fn: 23.0000 - fp: 27.0000 - tn: 15900.0000 - tp: 50.0000 - precision: 0.6494 - recall: 0.6849 - accuracy: 0.9969\n",
            "Epoch 6/10\n",
            "8/8 [==============================] - 0s 8ms/step - loss: 0.0443 - fn: 20.0000 - fp: 27.0000 - tn: 15900.0000 - tp: 53.0000 - precision: 0.6625 - recall: 0.7260 - accuracy: 0.9971\n",
            "Epoch 7/10\n",
            "8/8 [==============================] - 0s 10ms/step - loss: 0.0347 - fn: 14.0000 - fp: 27.0000 - tn: 15900.0000 - tp: 59.0000 - precision: 0.6860 - recall: 0.8082 - accuracy: 0.9974\n",
            "Epoch 8/10\n",
            "8/8 [==============================] - 0s 12ms/step - loss: 0.0290 - fn: 13.0000 - fp: 28.0000 - tn: 15899.0000 - tp: 60.0000 - precision: 0.6818 - recall: 0.8219 - accuracy: 0.9974\n",
            "Epoch 9/10\n",
            "8/8 [==============================] - 0s 9ms/step - loss: 0.0248 - fn: 12.0000 - fp: 27.0000 - tn: 15900.0000 - tp: 61.0000 - precision: 0.6932 - recall: 0.8356 - accuracy: 0.9976\n",
            "Epoch 10/10\n",
            "8/8 [==============================] - 0s 12ms/step - loss: 0.0222 - fn: 13.0000 - fp: 27.0000 - tn: 15900.0000 - tp: 60.0000 - precision: 0.6897 - recall: 0.8219 - accuracy: 0.9975\n"
          ]
        }
      ],
      "source": [
        "hist = model.fit(X_train_scaled, y_train, batch_size=2048, epochs=10, verbose=1, class_weight=class_weight)"
      ]
    },
    {
      "cell_type": "markdown",
      "metadata": {
        "id": "PVbWlLv_4otV"
      },
      "source": [
        "## Evaluate the model\n",
        "Evaluate the model on the test data using the methode 'evaluate'.\n",
        "Display the confusion matrix for the model on the test dataset."
      ]
    },
    {
      "cell_type": "code",
      "execution_count": null,
      "metadata": {
        "id": "ghl_q-jV5BGf",
        "colab": {
          "base_uri": "https://localhost:8080/"
        },
        "outputId": "c62535c9-369c-45b0-c11a-3572eb659c72"
      },
      "outputs": [
        {
          "output_type": "stream",
          "name": "stdout",
          "text": [
            "1/1 [==============================] - 1s 1s/step - loss: 0.0200 - fn: 1.0000 - fp: 6.0000 - tn: 3982.0000 - tp: 11.0000 - precision: 0.6471 - recall: 0.9167 - accuracy: 0.9983\n",
            "fn: 1.0\n",
            "fp: 6.0\n",
            "tn: 3982.0\n",
            "tp: 11.0\n",
            "accuracy: 0.9982500076293945\n"
          ]
        }
      ],
      "source": [
        "results = model.evaluate(X_test, y_test, batch_size=len(y_test))\n",
        "# Extracting and printing the metrics\n",
        "_, fn, fp, tn, tp, _, _, accuracy = results\n",
        "print(f\"fn: {fn}\")\n",
        "print(f\"fp: {fp}\")\n",
        "print(f\"tn: {tn}\")\n",
        "print(f\"tp: {tp}\")\n",
        "print(f\"accuracy: {accuracy}\")"
      ]
    },
    {
      "cell_type": "code",
      "execution_count": null,
      "metadata": {
        "colab": {
          "base_uri": "https://localhost:8080/",
          "height": 699
        },
        "id": "UGJV6JphR5X8",
        "outputId": "8aa6debc-2d4f-4a55-ca12-ccc9e4c3e6b2"
      },
      "outputs": [
        {
          "output_type": "display_data",
          "data": {
            "text/plain": [
              "<Figure size 1000x800 with 1 Axes>"
            ],
            "image/png": "[encoded data removed]"
          },
          "metadata": {}
        }
      ],
      "source": [
        "plt.figure(figsize=(10,8))\n",
        "plt.plot(hist.history['accuracy'], label='Accuracy')\n",
        "plt.plot(hist.history['loss'], label='Loss')\n",
        "plt.legend(loc='best')\n",
        "plt.title('Training Accuracy and Loss')\n",
        "plt.show()"
      ]
    },
    {
      "cell_type": "code",
      "execution_count": null,
      "metadata": {
        "id": "g1vdAhHD6Q22",
        "colab": {
          "base_uri": "https://localhost:8080/"
        },
        "outputId": "9c86fdd3-deb9-46a5-cf14-a7380d49e713"
      },
      "outputs": [
        {
          "output_type": "stream",
          "name": "stdout",
          "text": [
            "125/125 [==============================] - 1s 3ms/step\n"
          ]
        }
      ],
      "source": [
        "y_pred = model.predict(X_test)\n",
        "y_pred_binary = (y_pred > 0.5).astype(int)\n",
        "# Convert probabilities to binary predictions\n",
        "conf_matrix = confusion_matrix(y_test, y_pred_binary)"
      ]
    },
    {
      "cell_type": "code",
      "execution_count": null,
      "metadata": {
        "colab": {
          "base_uri": "https://localhost:8080/",
          "height": 410
        },
        "id": "d13Sn9MKR5YD",
        "outputId": "d0c30753-9bd7-4333-9088-7d78bba1aafd"
      },
      "outputs": [
        {
          "output_type": "display_data",
          "data": {
            "text/plain": [
              "<Figure size 600x400 with 1 Axes>"
            ],
            "image/png": "[encoded data removed]"
          },
          "metadata": {}
        }
      ],
      "source": [
        "plt.figure(figsize=(6, 4))\n",
        "sns.heatmap(conf_matrix, annot=True, fmt=\"d\", cmap=\"Blues\", cbar=False,\n",
        "            xticklabels=[\"Predicted 0\", \"Predicted 1\"],\n",
        "            yticklabels=[\"Actual 0\", \"Actual 1\"])\n",
        "plt.xlabel('Predicted')\n",
        "plt.ylabel('Actual')\n",
        "plt.title('Confusion Matrix')\n",
        "plt.show()"
      ]
    },
    {
      "cell_type": "code",
      "source": [],
      "metadata": {
        "id": "tygxstYFlmIa"
      },
      "execution_count": null,
      "outputs": []
    },
    {
      "cell_type": "markdown",
      "source": [
        "### (optional) Addressing the dataset imbalance"
      ],
      "metadata": {
        "id": "HVlvAt8Jlmjo"
      }
    },
    {
      "cell_type": "code",
      "source": [
        "from imblearn.under_sampling import RandomUnderSampler\n",
        "\n",
        "# Retrieve the count of fraudulent transactions from y_train\n",
        "fraudulent_transactions_count = y_train.value_counts()[1]  # Assuming 1 represents fraudulent transactions\n",
        "\n",
        "# Define the desired number of samples for the majority class\n",
        "desired_majority_class_samples = 500\n",
        "\n",
        "# Create the sampling strategy using the actual count of fraudulent transactions in y_train\n",
        "sampling_strategy = {0: desired_majority_class_samples, 1: fraudulent_transactions_count}\n",
        "\n",
        "# Initialize RandomUnderSampler with the correct sampling strategy\n",
        "rus = RandomUnderSampler(sampling_strategy=sampling_strategy, random_state=42)\n",
        "\n",
        "# Resample the data\n",
        "X_resampled, y_resampled = rus.fit_resample(X_train_scaled, y_train)\n",
        "\n",
        "# Check the new class distribution\n",
        "y_resampled.value_counts()"
      ],
      "metadata": {
        "colab": {
          "base_uri": "https://localhost:8080/"
        },
        "id": "Zlvd5qRjlsnf",
        "outputId": "26a9d18c-0ae2-47c2-c010-70ff2a37d342"
      },
      "execution_count": null,
      "outputs": [
        {
          "output_type": "execute_result",
          "data": {
            "text/plain": [
              "0    500\n",
              "1     73\n",
              "Name: Class, dtype: int64"
            ]
          },
          "metadata": {},
          "execution_count": 23
        }
      ]
    },
    {
      "cell_type": "code",
      "source": [
        "hist = model.fit(X_resampled, y_resampled, batch_size=32, epochs=10, verbose=1, class_weight=class_weight)"
      ],
      "metadata": {
        "colab": {
          "base_uri": "https://localhost:8080/"
        },
        "id": "rPrJPR0Gl0uE",
        "outputId": "3debabd3-a4b4-4581-b596-4b8e96f159e7"
      },
      "execution_count": null,
      "outputs": [
        {
          "output_type": "stream",
          "name": "stdout",
          "text": [
            "Epoch 1/10\n",
            "18/18 [==============================] - 0s 5ms/step - loss: 0.1900 - fn: 6.0000 - fp: 4.0000 - tn: 496.0000 - tp: 67.0000 - precision: 0.9437 - recall: 0.9178 - accuracy: 0.9825\n",
            "Epoch 2/10\n",
            "18/18 [==============================] - 0s 5ms/step - loss: 0.0985 - fn: 3.0000 - fp: 9.0000 - tn: 491.0000 - tp: 70.0000 - precision: 0.8861 - recall: 0.9589 - accuracy: 0.9791\n",
            "Epoch 3/10\n",
            "18/18 [==============================] - 0s 5ms/step - loss: 0.0760 - fn: 2.0000 - fp: 5.0000 - tn: 495.0000 - tp: 71.0000 - precision: 0.9342 - recall: 0.9726 - accuracy: 0.9878\n",
            "Epoch 4/10\n",
            "18/18 [==============================] - 0s 4ms/step - loss: 0.0589 - fn: 2.0000 - fp: 4.0000 - tn: 496.0000 - tp: 71.0000 - precision: 0.9467 - recall: 0.9726 - accuracy: 0.9895\n",
            "Epoch 5/10\n",
            "18/18 [==============================] - 0s 5ms/step - loss: 0.0481 - fn: 1.0000 - fp: 4.0000 - tn: 496.0000 - tp: 72.0000 - precision: 0.9474 - recall: 0.9863 - accuracy: 0.9913\n",
            "Epoch 6/10\n",
            "18/18 [==============================] - 0s 5ms/step - loss: 0.0413 - fn: 1.0000 - fp: 4.0000 - tn: 496.0000 - tp: 72.0000 - precision: 0.9474 - recall: 0.9863 - accuracy: 0.9913\n",
            "Epoch 7/10\n",
            "18/18 [==============================] - 0s 5ms/step - loss: 0.0341 - fn: 1.0000 - fp: 4.0000 - tn: 496.0000 - tp: 72.0000 - precision: 0.9474 - recall: 0.9863 - accuracy: 0.9913\n",
            "Epoch 8/10\n",
            "18/18 [==============================] - 0s 4ms/step - loss: 0.0284 - fn: 1.0000 - fp: 3.0000 - tn: 497.0000 - tp: 72.0000 - precision: 0.9600 - recall: 0.9863 - accuracy: 0.9930\n",
            "Epoch 9/10\n",
            "18/18 [==============================] - 0s 4ms/step - loss: 0.0237 - fn: 1.0000 - fp: 3.0000 - tn: 497.0000 - tp: 72.0000 - precision: 0.9600 - recall: 0.9863 - accuracy: 0.9930\n",
            "Epoch 10/10\n",
            "18/18 [==============================] - 0s 4ms/step - loss: 0.0199 - fn: 1.0000 - fp: 3.0000 - tn: 497.0000 - tp: 72.0000 - precision: 0.9600 - recall: 0.9863 - accuracy: 0.9930\n"
          ]
        }
      ]
    },
    {
      "cell_type": "code",
      "source": [
        "results = model.evaluate(X_test, y_test, batch_size=len(y_test))\n",
        "print(\"Test Loss: %.3f\\nTest Accuracy: %.3f\" %(results[0], results[1]))"
      ],
      "metadata": {
        "colab": {
          "base_uri": "https://localhost:8080/"
        },
        "id": "MZEuQQGTmXpp",
        "outputId": "08fd3d9e-81a6-494d-dbac-5787555cb670"
      },
      "execution_count": null,
      "outputs": [
        {
          "output_type": "stream",
          "name": "stdout",
          "text": [
            "1/1 [==============================] - 0s 78ms/step - loss: 0.0548 - fn: 0.0000e+00 - fp: 34.0000 - tn: 3954.0000 - tp: 12.0000 - precision: 0.2609 - recall: 1.0000 - accuracy: 0.9915\n",
            "Test Loss: 0.055\n",
            "Test Accuracy: 0.000\n"
          ]
        }
      ]
    },
    {
      "cell_type": "code",
      "source": [
        "y_pred = model.predict(X_test)\n",
        "y_pred_binary = (y_pred > 0.5).astype(int)\n",
        "# Convert probabilities to binary predictions\n",
        "conf_matrix = confusion_matrix(y_test, y_pred_binary)"
      ],
      "metadata": {
        "colab": {
          "base_uri": "https://localhost:8080/"
        },
        "id": "vwJKKuXqmX5w",
        "outputId": "798ffa10-244f-4d07-c129-bef692098acc"
      },
      "execution_count": null,
      "outputs": [
        {
          "output_type": "stream",
          "name": "stdout",
          "text": [
            "125/125 [==============================] - 0s 3ms/step\n"
          ]
        }
      ]
    },
    {
      "cell_type": "code",
      "source": [
        "plt.figure(figsize=(6, 4))\n",
        "sns.heatmap(conf_matrix, annot=True, fmt=\"d\", cmap=\"Blues\", cbar=False,\n",
        "            xticklabels=[\"Predicted 0\", \"Predicted 1\"],\n",
        "            yticklabels=[\"Actual 0\", \"Actual 1\"])\n",
        "plt.xlabel('Predicted')\n",
        "plt.ylabel('Actual')\n",
        "plt.title('Confusion Matrix')\n",
        "plt.show()"
      ],
      "metadata": {
        "colab": {
          "base_uri": "https://localhost:8080/",
          "height": 410
        },
        "id": "4bDy_topnHkt",
        "outputId": "8a470bab-ed78-45ae-b4aa-859cd2ca3b5a"
      },
      "execution_count": null,
      "outputs": [
        {
          "output_type": "display_data",
          "data": {
            "text/plain": [
              "<Figure size 600x400 with 1 Axes>"
            ],
            "image/png": "[encoded data removed]"
          },
          "metadata": {}
        }
      ]
    },
    {
      "cell_type": "code",
      "source": [],
      "metadata": {
        "id": "_pOgDAqhnK83"
      },
      "execution_count": null,
      "outputs": []
    }
  ],
  "metadata": {
    "colab": {
      "provenance": []
    },
    "kernelspec": {
      "display_name": "Python 3 (ipykernel)",
      "language": "python",
      "name": "python3"
    },
    "language_info": {
      "codemirror_mode": {
        "name": "ipython",
        "version": 3
      },
      "file_extension": ".py",
      "mimetype": "text/x-python",
      "name": "python",
      "nbconvert_exporter": "python",
      "pygments_lexer": "ipython3",
      "version": "3.11.0rc1"
    }
  },
  "nbformat": 4,
  "nbformat_minor": 0
}