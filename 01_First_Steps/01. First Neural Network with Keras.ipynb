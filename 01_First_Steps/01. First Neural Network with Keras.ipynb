{
 "cells": [
  {
   "cell_type": "markdown",
   "metadata": {
    "id": "3K5P7Ir3OYaz"
   },
   "source": [
    "# Introduction to Keras\n",
    "\n",
    "## What is Keras?\n",
    "Keras is a deep-learning framework that provides a convenient way to define and train almost any kind of deep-learning model. It is written in Python and can be run on top of TensorFlow, CNTK, or Theano. You are free to use it in commercial projects since it is distributed under the MIT license. One of the most important characteristics of Keras is its user-friendly API. You could develop a state of art deep learning model in no time.\n",
    "\n",
    "## The Model class\n",
    "\n",
    "The core data structure of Keras is the Model class. It is found under keras.models that gives you two ways to define models: The Sequential class and the Model class. The Sequential class builds the network layer by layer in a sequential order. The Model class allows for more complex network structures. In this exercise you will use the Sequential class."
   ]
  },
  {
   "cell_type": "markdown",
   "metadata": {
    "id": "OxLpTQpqSw4S"
   },
   "source": [
    "# Setup\n",
    "\n",
    "We start with importing all packages we will need."
   ]
  },
  {
   "cell_type": "code",
   "execution_count": 6,
   "metadata": {
    "colab": {
     "base_uri": "https://localhost:8080/"
    },
    "executionInfo": {
     "elapsed": 4998,
     "status": "ok",
     "timestamp": 1695632824403,
     "user": {
      "displayName": "Sam Van Rijn",
      "userId": "00448338825589433771"
     },
     "user_tz": -120
    },
    "id": "3qRfgfA6E9vz",
    "outputId": "faaf65f6-83c9-49af-f36e-44e27538d946"
   },
   "outputs": [
    {
     "name": "stderr",
     "output_type": "stream",
     "text": [
      "2024-01-07 11:41:16.143805: I tensorflow/core/util/port.cc:111] oneDNN custom operations are on. You may see slightly different numerical results due to floating-point round-off errors from different computation orders. To turn them off, set the environment variable `TF_ENABLE_ONEDNN_OPTS=0`.\n",
      "2024-01-07 11:41:16.209589: E tensorflow/compiler/xla/stream_executor/cuda/cuda_dnn.cc:9342] Unable to register cuDNN factory: Attempting to register factory for plugin cuDNN when one has already been registered\n",
      "2024-01-07 11:41:16.209670: E tensorflow/compiler/xla/stream_executor/cuda/cuda_fft.cc:609] Unable to register cuFFT factory: Attempting to register factory for plugin cuFFT when one has already been registered\n",
      "2024-01-07 11:41:16.209765: E tensorflow/compiler/xla/stream_executor/cuda/cuda_blas.cc:1518] Unable to register cuBLAS factory: Attempting to register factory for plugin cuBLAS when one has already been registered\n",
      "2024-01-07 11:41:16.240314: I tensorflow/core/platform/cpu_feature_guard.cc:182] This TensorFlow binary is optimized to use available CPU instructions in performance-critical operations.\n",
      "To enable the following instructions: AVX2 AVX512F AVX512_VNNI FMA, in other operations, rebuild TensorFlow with the appropriate compiler flags.\n"
     ]
    },
    {
     "name": "stdout",
     "output_type": "stream",
     "text": [
      "keras version: 2.14.0\n",
      "tensorflow version: 2.14.0\n"
     ]
    }
   ],
   "source": [
    "import numpy as np\n",
    "from sklearn.datasets import make_moons\n",
    "from sklearn.model_selection import train_test_split\n",
    "import matplotlib.pyplot as plt\n",
    "%matplotlib inline\n",
    "\n",
    "# Import keras modules\n",
    "from keras.models import Sequential\n",
    "from keras.layers import Dense\n",
    "from keras.initializers import random_normal\n",
    "import tensorflow as tf\n",
    "import keras as keras\n",
    "\n",
    "print('keras version:', keras.__version__)\n",
    "print('tensorflow version:', tf.__version__)"
   ]
  },
  {
   "cell_type": "markdown",
   "metadata": {
    "id": "VY0IrIDAFHbL"
   },
   "source": [
    "# Load the data\n",
    "\n",
    "The `make_moons()` method is used to generate data with a bit of noise.\n",
    "Divide this data into the train and test sets.\n",
    "[Documentation on make_moons()](https://scikit-learn.org/stable/modules/generated/sklearn.datasets.make_moons.html)\n",
    "\n",
    "Look [here](https://scikit-learn.org/stable/modules/classes.html#) for the correct function to split the data."
   ]
  },
  {
   "cell_type": "code",
   "execution_count": 7,
   "metadata": {
    "colab": {
     "base_uri": "https://localhost:8080/",
     "height": 145
    },
    "executionInfo": {
     "elapsed": 14,
     "status": "error",
     "timestamp": 1695632824404,
     "user": {
      "displayName": "Sam Van Rijn",
      "userId": "00448338825589433771"
     },
     "user_tz": -120
    },
    "id": "V6hO-4RdFCKN",
    "outputId": "0d933224-5e23-4894-efe2-ffd0c03191d3"
   },
   "outputs": [
    {
     "ename": "SyntaxError",
     "evalue": "invalid syntax (753493339.py, line 5)",
     "output_type": "error",
     "traceback": [
      "\u001b[0;36m  Cell \u001b[0;32mIn[7], line 5\u001b[0;36m\u001b[0m\n\u001b[0;31m    X_train, X_test, Y_train, Y_test =\u001b[0m\n\u001b[0m                                      ^\u001b[0m\n\u001b[0;31mSyntaxError\u001b[0m\u001b[0;31m:\u001b[0m invalid syntax\n"
     ]
    }
   ],
   "source": [
    "np.random.seed(0)\n",
    "X, Y = make_moons(500, noise=0.2)\n",
    "\n",
    "# TODO divide the data in train and test sets\n",
    "# Use test_size=0.2\n",
    "X_train, X_test, Y_train, Y_test ="
   ]
  },
  {
   "cell_type": "markdown",
   "metadata": {},
   "source": [
    "Let's create a [Mathplotlib Scatter plot](https://matplotlib.org/stable/api/_as_gen/matplotlib.pyplot.scatter.html) to visualize the generated training data."
   ]
  },
  {
   "cell_type": "code",
   "execution_count": null,
   "metadata": {
    "id": "-3QrHk-kFjn0"
   },
   "outputs": [],
   "source": [
    "plt.scatter(X_train[:, 0], X_train[:, 1], c=Y_train, s=40, cmap=plt.cm.Spectral)"
   ]
  },
  {
   "cell_type": "markdown",
   "metadata": {},
   "source": [
    "Let's create a second [Mathplotlib Scatter plot](https://matplotlib.org/stable/api/_as_gen/matplotlib.pyplot.scatter.html) to visualize the generated test data."
   ]
  },
  {
   "cell_type": "code",
   "execution_count": null,
   "metadata": {},
   "outputs": [],
   "source": [
    "# Insert your code here."
   ]
  },
  {
   "cell_type": "markdown",
   "metadata": {},
   "source": [
    "You can also compare it with the complete (undivided) generate data set."
   ]
  },
  {
   "cell_type": "code",
   "execution_count": 8,
   "metadata": {},
   "outputs": [],
   "source": [
    "# Insert your code here."
   ]
  },
  {
   "cell_type": "markdown",
   "metadata": {},
   "source": [
    "Inspect a few data points to get some insights into the generated data.\n",
    "The X data points will be the input of the neural network.\n",
    "The Y data points is the expected output."
   ]
  },
  {
   "cell_type": "code",
   "execution_count": 4,
   "metadata": {},
   "outputs": [
    {
     "ename": "NameError",
     "evalue": "name 'X' is not defined",
     "output_type": "error",
     "traceback": [
      "\u001b[0;31m---------------------------------------------------------------------------\u001b[0m",
      "\u001b[0;31mNameError\u001b[0m                                 Traceback (most recent call last)",
      "Cell \u001b[0;32mIn[4], line 1\u001b[0m\n\u001b[0;32m----> 1\u001b[0m \u001b[38;5;28mprint\u001b[39m(\u001b[43mX\u001b[49m[\u001b[38;5;241m0\u001b[39m:\u001b[38;5;241m5\u001b[39m])\n\u001b[1;32m      2\u001b[0m \u001b[38;5;28mprint\u001b[39m()\n\u001b[1;32m      3\u001b[0m \u001b[38;5;28mprint\u001b[39m(Y[\u001b[38;5;241m0\u001b[39m:\u001b[38;5;241m5\u001b[39m])\n",
      "\u001b[0;31mNameError\u001b[0m: name 'X' is not defined"
     ]
    }
   ],
   "source": [
    "print(X[0:5]) # print the first 5 elements in X\n",
    "print()\n",
    "print(Y[0:5]) # print the first 5 elements in Y"
   ]
  },
  {
   "cell_type": "markdown",
   "metadata": {},
   "source": [
    "Inspect the train and test data points."
   ]
  },
  {
   "cell_type": "code",
   "execution_count": 5,
   "metadata": {},
   "outputs": [],
   "source": [
    "# Insert your code here."
   ]
  },
  {
   "cell_type": "markdown",
   "metadata": {
    "id": "acazsBLqJS8F"
   },
   "source": [
    "## Define Keras Model\n",
    "\n",
    "Here is a schematic representation of the methods in the Model class we will use.\n",
    "\n",
    "![keras_model_lifecycle.jpg](data:image/jpeg;base64,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)\n",
    "\n",
    "Define the number of input nodes (input_dim) and the number of output node (output_dim).\n"
   ]
  },
  {
   "cell_type": "code",
   "execution_count": null,
   "metadata": {
    "id": "qRsxv8_nYQ3F"
   },
   "outputs": [],
   "source": [
    "input_dim = 0 # SET CORRECT VALUE\n",
    "output_dim = 0 # SET CORRECT VALUE"
   ]
  },
  {
   "cell_type": "markdown",
   "metadata": {
    "id": "pYcarjVnYgls"
   },
   "source": [
    "We create a Sequential model and add layers one at a time until we are happy with our network architecture.\n",
    "You start off with one hidden layer. In the hidden layer(s) you use a ReLU activation function. In the output layer you use a sigmoid activation function.\n",
    "Documentation on the Dense layers you add to the model can be found [here](https://keras.io/api/layers/core_layers/dense/).\n",
    "Use 32 as the amount of units."
   ]
  },
  {
   "cell_type": "code",
   "execution_count": null,
   "metadata": {
    "id": "CGZ9anxXIUjb"
   },
   "outputs": [],
   "source": [
    "model = Sequential()\n",
    "model.add(#FIRST LAYER HERE)\n",
    "model.add(#HIDDEN LAYER HERE)\n",
    "model.add(#OUTPUT LAYER HERE)"
   ]
  },
  {
   "cell_type": "markdown",
   "metadata": {
    "id": "en7pvhs1bkD3"
   },
   "source": [
    "Here is a short summary of the network you created."
   ]
  },
  {
   "cell_type": "code",
   "execution_count": null,
   "metadata": {
    "id": "0gFe_B2tZm6F"
   },
   "outputs": [],
   "source": [
    "model.summary()"
   ]
  },
  {
   "cell_type": "markdown",
   "metadata": {
    "id": "BwtS6dgpcRjz"
   },
   "source": [
    "Next step is to `compile` the model you created.\n",
    "Documentation on the compile method can be found [here](https://keras.io/api/models/model_training_apis/).\n",
    "\n",
    "Use the following configuration\n",
    "1.   loss: 'binary_crossentropy'\n",
    "2.   optimizer: 'sgd'\n",
    "3.   metrics: ['accuracy']\n",
    "\n"
   ]
  },
  {
   "cell_type": "code",
   "execution_count": null,
   "metadata": {
    "id": "WHfVKu_wJd8P"
   },
   "outputs": [],
   "source": [
    "# compile the model you created"
   ]
  },
  {
   "cell_type": "markdown",
   "metadata": {
    "id": "l7jwsC_OdPko"
   },
   "source": [
    "Now it's time to train the model for a fixed number of 300 epochs. Find out how the `fit()` method works."
   ]
  },
  {
   "cell_type": "code",
   "execution_count": null,
   "metadata": {
    "id": "sptXVvPadOoS"
   },
   "outputs": [],
   "source": [
    "hist = # train the model"
   ]
  },
  {
   "cell_type": "markdown",
   "metadata": {
    "id": "mTBZf-n3dyjb"
   },
   "source": [
    "Use the following code to plot the progress of accurarcy and loss while training the model."
   ]
  },
  {
   "cell_type": "code",
   "execution_count": null,
   "metadata": {
    "id": "gTsTbsx6J01h"
   },
   "outputs": [],
   "source": [
    "plt.figure(figsize=(10,8))\n",
    "plt.plot(hist.history['accuracy'], label='Accuracy')\n",
    "plt.plot(hist.history['loss'], label='Loss')\n",
    "plt.legend(loc='best')\n",
    "plt.title('Training Accuracy and Loss')\n",
    "plt.show()"
   ]
  },
  {
   "cell_type": "markdown",
   "metadata": {
    "id": "rg2h3_dTeN1n"
   },
   "source": [
    "Lookup the `evaluate()` function in the [documentation](https://keras.io/api/models/model_training_apis/) so you can use it to calculate the loss and accuracy of your model on the test set."
   ]
  },
  {
   "cell_type": "code",
   "execution_count": null,
   "metadata": {
    "id": "16Cm6hNNL2Jd"
   },
   "outputs": [],
   "source": [
    "# calculate loss and accuracy of you model on the test set"
   ]
  },
  {
   "cell_type": "markdown",
   "metadata": {
    "id": "Qh_8mojCeoeG"
   },
   "source": [
    "With the function `plot_decision_boundary()` you can visualize the decision boundary that the model learned.\n",
    "\n",
    "The decision boundary indicates how to decide to which class each data point belongs."
   ]
  },
  {
   "cell_type": "code",
   "execution_count": null,
   "metadata": {
    "id": "qB72Nb2TI6jB"
   },
   "outputs": [],
   "source": [
    "def plot_decision_boundary(prediction_model, X, Y):\n",
    "    # Plot the decision boundary\n",
    "    # Determine grid range in x and y directions\n",
    "    x_min, x_max = X[:, 0].min()-0.1, X[:, 0].max()+0.1\n",
    "    y_min, y_max = X[:, 1].min()-0.1, X[:, 1].max()+0.1\n",
    "\n",
    "    # Set grid spacing parameter\n",
    "    spacing = min(x_max - x_min, y_max - y_min) / 100\n",
    "\n",
    "    # Create grid\n",
    "    XX, YY = np.meshgrid(np.arange(x_min, x_max, spacing),\n",
    "                   np.arange(y_min, y_max, spacing))\n",
    "\n",
    "    # Concatenate data to match input\n",
    "    data = np.hstack((XX.ravel().reshape(-1,1),\n",
    "                      YY.ravel().reshape(-1,1)))\n",
    "    # Get decision boundary probabilities\n",
    "    db_prob = prediction_model.predict(data)\n",
    "\n",
    "    # Convert probabilities to classes\n",
    "    clf = np.where(db_prob<0.5,0,1)\n",
    "\n",
    "    Z = clf.reshape(XX.shape)\n",
    "\n",
    "    plt.figure(figsize=(10,8))\n",
    "    plt.contourf(XX, YY, Z, cmap=plt.cm.Spectral, alpha=0.8)\n",
    "    plt.scatter(X[:,0], X[:,1], c=Y,\n",
    "                cmap=plt.cm.Spectral)\n",
    "    plt.show()"
   ]
  },
  {
   "cell_type": "code",
   "execution_count": null,
   "metadata": {
    "id": "ES2HrXshJWIx"
   },
   "outputs": [],
   "source": [
    "plot_decision_boundary(model, X, Y)"
   ]
  }
 ],
 "metadata": {
  "colab": {
   "provenance": []
  },
  "kernelspec": {
   "display_name": "Python 3 (ipykernel)",
   "language": "python",
   "name": "python3"
  },
  "language_info": {
   "codemirror_mode": {
    "name": "ipython",
    "version": 3
   },
   "file_extension": ".py",
   "mimetype": "text/x-python",
   "name": "python",
   "nbconvert_exporter": "python",
   "pygments_lexer": "ipython3",
   "version": "3.11.0rc1"
  }
 },
 "nbformat": 4,
 "nbformat_minor": 4
}
