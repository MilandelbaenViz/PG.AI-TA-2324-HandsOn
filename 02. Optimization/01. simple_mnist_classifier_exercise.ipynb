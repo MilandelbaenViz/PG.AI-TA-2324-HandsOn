{
 "cells": [
  {
   "cell_type": "markdown",
   "metadata": {
    "id": "vEXMVuDZvN2Y"
   },
   "source": [
    "# 0. Import statements"
   ]
  },
  {
   "cell_type": "code",
   "execution_count": null,
   "metadata": {
    "id": "dEMv8B3TvN2g"
   },
   "outputs": [],
   "source": [
    "import keras\n",
    "from keras import models\n",
    "from keras import layers\n",
    "from keras.datasets import mnist\n",
    "from tensorflow.keras.utils import to_categorical\n",
    "import matplotlib.pyplot as plt\n",
    "import numpy as np\n",
    "import tensorflow as tf\n",
    "import pandas as pd\n",
    "import warnings\n",
    "\n",
    "warnings.filterwarnings('ignore')"
   ]
  },
  {
   "cell_type": "markdown",
   "metadata": {
    "id": "iOQo6q6hBdUY"
   },
   "source": [
    "Enable autocomplete (using tab)."
   ]
  },
  {
   "cell_type": "code",
   "execution_count": null,
   "metadata": {
    "id": "oXtyGiqIBdUY"
   },
   "outputs": [],
   "source": [
    "%config Completer.use_jedi = False"
   ]
  },
  {
   "cell_type": "markdown",
   "metadata": {
    "id": "oHhmCAZyvN2j"
   },
   "source": [
    "# 1. Load data"
   ]
  },
  {
   "cell_type": "markdown",
   "metadata": {
    "id": "Q5Wo4BblvN2j"
   },
   "source": [
    "In order to understand what happens in a computer vision model, we first have to understand how computers handle images. We'll use one of the most famous datasets in computer vision, MNIST, for our experiments. MNIST contains images of handwritten digits, collected by the National Institute of Standards and Technology and collated into a machine learning dataset by Yann Lecun and his colleagues. Lecun used MNIST in 1998 in Lenet-5, the first computer system to demonstrate practically useful recognition of handwritten digit sequences. This was one of the most important breakthroughs in the history of AI.\n",
    "\n",
    "The MNIST database of handwritten digit has a training set of 60,000 examples, and a test set of 10,000 examples. It is a subset of a larger set available from NIST. The digits have been size-normalized and centered in a fixed-size image.\n",
    "It is a good database for people who want to try learning techniques and pattern recognition methods on real-world data while spending minimal efforts on preprocessing and formatting."
   ]
  },
  {
   "cell_type": "code",
   "execution_count": null,
   "metadata": {
    "colab": {
     "base_uri": "https://localhost:8080/"
    },
    "executionInfo": {
     "elapsed": 2919,
     "status": "ok",
     "timestamp": 1695723087398,
     "user": {
      "displayName": "Sam Van Rijn",
      "userId": "00448338825589433771"
     },
     "user_tz": -120
    },
    "id": "6a-5ZoKdvN2k",
    "outputId": "ec99d759-81fa-4657-d2c9-beb8cc4760c9"
   },
   "outputs": [
    {
     "name": "stdout",
     "output_type": "stream",
     "text": [
      "Downloading data from https://storage.googleapis.com/tensorflow/tf-keras-datasets/mnist.npz\n",
      "11490434/11490434 [==============================] - 2s 0us/step\n"
     ]
    }
   ],
   "source": [
    "(train_images, train_labels), (test_images, test_labels) = mnist.load_data()"
   ]
  },
  {
   "cell_type": "markdown",
   "metadata": {
    "id": "zM4yYI9tvN2m"
   },
   "source": [
    "# 2. Inspect data"
   ]
  },
  {
   "cell_type": "markdown",
   "metadata": {
    "id": "dLMl_T_2vN2n"
   },
   "source": [
    "Try to get a feel for the data you are using to train and test your neural network."
   ]
  },
  {
   "cell_type": "markdown",
   "metadata": {
    "id": "q_2_n2vAvN2n"
   },
   "source": [
    "## Training data"
   ]
  },
  {
   "cell_type": "markdown",
   "metadata": {
    "id": "HtiYZ7yAvN2o"
   },
   "source": [
    "- Training data will be used to train our neural network to recognize hand-written digits.\n",
    "- MNIST provides 60000 labeled training images, each 28x28 pixels"
   ]
  },
  {
   "cell_type": "code",
   "execution_count": null,
   "metadata": {
    "colab": {
     "base_uri": "https://localhost:8080/"
    },
    "executionInfo": {
     "elapsed": 7,
     "status": "ok",
     "timestamp": 1695723087398,
     "user": {
      "displayName": "Sam Van Rijn",
      "userId": "00448338825589433771"
     },
     "user_tz": -120
    },
    "id": "vU1dadoSvN2p",
    "outputId": "3073185c-959a-4cfd-840a-51d9f1239137"
   },
   "outputs": [
    {
     "data": {
      "text/plain": [
       "(60000, 28, 28)"
      ]
     },
     "execution_count": 4,
     "metadata": {},
     "output_type": "execute_result"
    }
   ],
   "source": [
    "train_images.shape"
   ]
  },
  {
   "cell_type": "code",
   "execution_count": null,
   "metadata": {
    "colab": {
     "base_uri": "https://localhost:8080/"
    },
    "executionInfo": {
     "elapsed": 5,
     "status": "ok",
     "timestamp": 1695723087398,
     "user": {
      "displayName": "Sam Van Rijn",
      "userId": "00448338825589433771"
     },
     "user_tz": -120
    },
    "id": "ikXtFQtfvN2r",
    "outputId": "a3024da2-54c9-49c4-f918-9cf2287b0ace"
   },
   "outputs": [
    {
     "data": {
      "text/plain": [
       "(60000,)"
      ]
     },
     "execution_count": 5,
     "metadata": {},
     "output_type": "execute_result"
    }
   ],
   "source": [
    "train_labels.shape"
   ]
  },
  {
   "cell_type": "markdown",
   "metadata": {
    "id": "qPdL30l1BdUd"
   },
   "source": [
    "### Exercise 1\n",
    "**TODO**: Implement the show_image function and randomly select n different samples from the training set to display."
   ]
  },
  {
   "cell_type": "code",
   "execution_count": null,
   "metadata": {
    "id": "1rlqd3kHvN2s"
   },
   "outputs": [],
   "source": [
    "def show_image(images, labels, index):\n",
    "    # insert your code here"
   ]
  },
  {
   "cell_type": "code",
   "execution_count": null,
   "metadata": {
    "colab": {
     "base_uri": "https://localhost:8080/",
     "height": 282
    },
    "executionInfo": {
     "elapsed": 6144,
     "status": "ok",
     "timestamp": 1602058903437,
     "user": {
      "displayName": "Sam Van Rijn",
      "photoUrl": "https://lh3.googleusercontent.com/a-/AOh14GjywaIMFHffm0OcQEs3uvmPWuqTzqixChBm5GpACw=s64",
      "userId": "00448338825589433771"
     },
     "user_tz": -120
    },
    "id": "dl3lul5TvN2u",
    "outputId": "091f6310-73e1-4259-96b7-afce96572421"
   },
   "outputs": [
    {
     "data": {
      "image/png": "[encoded data removed]",
      "text/plain": [
       "<Figure size 432x288 with 1 Axes>"
      ]
     },
     "metadata": {
      "needs_background": "light"
     },
     "output_type": "display_data"
    }
   ],
   "source": [
    "# show a few random samples"
   ]
  },
  {
   "cell_type": "markdown",
   "metadata": {
    "id": "n23qvkWhvN2w"
   },
   "source": [
    "## Test data"
   ]
  },
  {
   "cell_type": "markdown",
   "metadata": {
    "id": "s2-cThCpvN2x"
   },
   "source": [
    "- Test data will be used to validate how good our network performs on data it has never seen.\n",
    "- MNIST provides 10000 test images, each 28x28.\n",
    "- It's important to note that these should never be used in the training cycle. A 'test set' should never contain images the network has already seen during training. (read more: [Model Selection and Train/Validation/Test Sets](https://www.coursera.org/lecture/machine-learning/model-selection-and-train-validation-test-sets-QGKbr) and [How (and why) to create a good validation set](https://www.fast.ai/2017/11/13/validation-sets/))"
   ]
  },
  {
   "cell_type": "markdown",
   "metadata": {
    "id": "8xc3SDAmBdUe"
   },
   "source": [
    "### Exercise 2\n",
    "\n",
    "**TODO**: Print the test images and test labels shape below:"
   ]
  },
  {
   "cell_type": "code",
   "execution_count": null,
   "metadata": {
    "colab": {
     "base_uri": "https://localhost:8080/"
    },
    "executionInfo": {
     "elapsed": 6128,
     "status": "ok",
     "timestamp": 1602058903439,
     "user": {
      "displayName": "Sam Van Rijn",
      "photoUrl": "https://lh3.googleusercontent.com/a-/AOh14GjywaIMFHffm0OcQEs3uvmPWuqTzqixChBm5GpACw=s64",
      "userId": "00448338825589433771"
     },
     "user_tz": -120
    },
    "id": "JwPxa7K_vN2x",
    "outputId": "3891ea74-7cf6-47d7-bbd6-a288a69526c2"
   },
   "outputs": [
    {
     "data": {
      "text/plain": [
       "(10000, 28, 28)"
      ]
     },
     "execution_count": 21,
     "metadata": {},
     "output_type": "execute_result"
    }
   ],
   "source": [
    "test_images."
   ]
  },
  {
   "cell_type": "code",
   "execution_count": null,
   "metadata": {
    "colab": {
     "base_uri": "https://localhost:8080/"
    },
    "executionInfo": {
     "elapsed": 6115,
     "status": "ok",
     "timestamp": 1602058903442,
     "user": {
      "displayName": "Sam Van Rijn",
      "photoUrl": "https://lh3.googleusercontent.com/a-/AOh14GjywaIMFHffm0OcQEs3uvmPWuqTzqixChBm5GpACw=s64",
      "userId": "00448338825589433771"
     },
     "user_tz": -120
    },
    "id": "e0JAO_SEvN20",
    "outputId": "12746760-bd71-47b8-f167-c2d8733785c8"
   },
   "outputs": [
    {
     "data": {
      "text/plain": [
       "(10000,)"
      ]
     },
     "execution_count": 22,
     "metadata": {},
     "output_type": "execute_result"
    }
   ],
   "source": [
    "test_labels."
   ]
  },
  {
   "cell_type": "code",
   "execution_count": null,
   "metadata": {
    "colab": {
     "base_uri": "https://localhost:8080/",
     "height": 282
    },
    "executionInfo": {
     "elapsed": 6101,
     "status": "ok",
     "timestamp": 1602058903444,
     "user": {
      "displayName": "Sam Van Rijn",
      "photoUrl": "https://lh3.googleusercontent.com/a-/AOh14GjywaIMFHffm0OcQEs3uvmPWuqTzqixChBm5GpACw=s64",
      "userId": "00448338825589433771"
     },
     "user_tz": -120
    },
    "id": "-WmIgbNnvN21",
    "outputId": "df542c77-f353-4ab1-cc3b-a7539055123c"
   },
   "outputs": [
    {
     "data": {
      "image/png": "[encoded data removed]",
      "text/plain": [
       "<Figure size 432x288 with 1 Axes>"
      ]
     },
     "metadata": {
      "needs_background": "light"
     },
     "output_type": "display_data"
    }
   ],
   "source": [
    "show_image(test_images, test_labels, 168)"
   ]
  },
  {
   "cell_type": "markdown",
   "metadata": {
    "id": "Zrd5iciQvN29"
   },
   "source": [
    "# 3. Data Preparation"
   ]
  },
  {
   "cell_type": "markdown",
   "metadata": {
    "id": "ooM1N6M_vN2-"
   },
   "source": [
    "Before feeding the data into the network for training, we make sure it is formatted properly."
   ]
  },
  {
   "cell_type": "markdown",
   "metadata": {
    "id": "F5ZPHXdlvN2_"
   },
   "source": [
    "## Prepare the images"
   ]
  },
  {
   "cell_type": "markdown",
   "metadata": {
    "id": "E28rGt9MvN2_"
   },
   "source": [
    "### Exercise 3\n",
    "**TODO**: Reshape the images to vectors of integers of size (60000, 784)"
   ]
  },
  {
   "cell_type": "code",
   "execution_count": null,
   "metadata": {
    "id": "EHxhuFBzvN3A"
   },
   "outputs": [],
   "source": [
    "train_images_reshaped = #\n",
    "test_images_reshaped = #"
   ]
  },
  {
   "cell_type": "code",
   "execution_count": null,
   "metadata": {
    "colab": {
     "base_uri": "https://localhost:8080/"
    },
    "executionInfo": {
     "elapsed": 6085,
     "status": "ok",
     "timestamp": 1602058903446,
     "user": {
      "displayName": "Sam Van Rijn",
      "photoUrl": "https://lh3.googleusercontent.com/a-/AOh14GjywaIMFHffm0OcQEs3uvmPWuqTzqixChBm5GpACw=s64",
      "userId": "00448338825589433771"
     },
     "user_tz": -120
    },
    "id": "Pea2ZJQ3vN3C",
    "outputId": "1c4ce459-1cd1-42ec-df20-36338238c5c2"
   },
   "outputs": [
    {
     "data": {
      "text/plain": [
       "(60000, 784)"
      ]
     },
     "execution_count": 25,
     "metadata": {},
     "output_type": "execute_result"
    }
   ],
   "source": [
    "train_images_reshaped.shape"
   ]
  },
  {
   "cell_type": "markdown",
   "metadata": {
    "id": "Lvx4Z6k1M2UD"
   },
   "source": [
    "**Note**\n",
    "\n",
    "An important preprocessing step for neural networks is normalisation or standardisation of the data. If you don't do this, the internal values in the network will go off the charts, because of the mathematical operations within the neural network."
   ]
  },
  {
   "cell_type": "markdown",
   "metadata": {
    "id": "_ZPmSXNwvN3D"
   },
   "source": [
    "### Exercise 4\n",
    "**TODO**: Resize the values to a value between 0 and 1"
   ]
  },
  {
   "cell_type": "code",
   "execution_count": null,
   "metadata": {
    "id": "DEJIEqXovN3E"
   },
   "outputs": [],
   "source": [
    "train_images_transformed = #\n",
    "test_images_transformed = #"
   ]
  },
  {
   "cell_type": "markdown",
   "metadata": {
    "id": "yxKuJ2LJvN3H"
   },
   "source": [
    "## Prepare the labels (one hot encoding)\n",
    "\n",
    "One-hot encoding is a method of representing categorical variables as binary vectors. It's essential for machine learning models because they typically require numerical input. For example, if we have a categorical feature like \"color\" with three categories: red, blue, and green, one-hot encoding would convert this into three features: \"is_red,\" \"is_blue,\" and \"is_green.\" If a sample is red, it would be represented as [1, 0, 0], blue as [0, 1, 0], and green as [0, 0, 1]. This encoding removes any ordinal relationship that might be mistakenly inferred by a model if the categories were just labeled with a single number (like 1, 2, 3).\n",
    "\n",
    "\n",
    "![image.png](data:image/png;base64,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)"
   ]
  },
  {
   "cell_type": "code",
   "execution_count": null,
   "metadata": {
    "colab": {
     "base_uri": "https://localhost:8080/"
    },
    "executionInfo": {
     "elapsed": 440,
     "status": "ok",
     "timestamp": 1695723233521,
     "user": {
      "displayName": "Sam Van Rijn",
      "userId": "00448338825589433771"
     },
     "user_tz": -120
    },
    "id": "omYLgxRG-h8v",
    "outputId": "7ddabf43-ff6c-40b4-826e-7658402f2a33"
   },
   "outputs": [
    {
     "data": {
      "text/plain": [
       "4"
      ]
     },
     "execution_count": 11,
     "metadata": {},
     "output_type": "execute_result"
    }
   ],
   "source": [
    "train_labels[2]"
   ]
  },
  {
   "cell_type": "code",
   "execution_count": null,
   "metadata": {
    "id": "_fbyCO_3vN3H"
   },
   "outputs": [],
   "source": [
    "train_labels_categorical = to_categorical(train_labels)\n",
    "test_labels_categorical = to_categorical(test_labels)"
   ]
  },
  {
   "cell_type": "code",
   "execution_count": null,
   "metadata": {
    "colab": {
     "base_uri": "https://localhost:8080/"
    },
    "executionInfo": {
     "elapsed": 3,
     "status": "ok",
     "timestamp": 1695723237109,
     "user": {
      "displayName": "Sam Van Rijn",
      "userId": "00448338825589433771"
     },
     "user_tz": -120
    },
    "id": "g_OUKc6PvN3K",
    "outputId": "802f33eb-097a-49b8-eeca-68e0d258c208"
   },
   "outputs": [
    {
     "data": {
      "text/plain": [
       "array([0., 0., 0., 0., 1., 0., 0., 0., 0., 0.], dtype=float32)"
      ]
     },
     "execution_count": 12,
     "metadata": {},
     "output_type": "execute_result"
    }
   ],
   "source": [
    "train_labels_categorical[2]"
   ]
  },
  {
   "cell_type": "markdown",
   "metadata": {
    "id": "OEDBaEANvN23"
   },
   "source": [
    "# 4.0 Simple network architecture\n",
    "\n",
    "Define a network with:\n",
    "\n",
    "- input layer\n",
    "- one hidden layer with 10 neurons\n",
    "- output layer"
   ]
  },
  {
   "cell_type": "code",
   "execution_count": null,
   "metadata": {
    "id": "Q5NjYolWPsPo"
   },
   "outputs": [],
   "source": [
    "# insert your code here"
   ]
  },
  {
   "cell_type": "code",
   "execution_count": null,
   "metadata": {
    "id": "XUGgDUrLSNc9"
   },
   "outputs": [],
   "source": []
  },
  {
   "cell_type": "markdown",
   "metadata": {
    "id": "rxKdHWvYPrcT"
   },
   "source": [
    "Compile this network with the following parameters:\n",
    "- optimizer: `keras.optimizers.SGD(learning_rate=1)`\n",
    "\n",
    "\n",
    "Think about which loss function and metric you should use..."
   ]
  },
  {
   "cell_type": "code",
   "execution_count": null,
   "metadata": {
    "id": "O3TDdRxoRPP2"
   },
   "outputs": [],
   "source": [
    "# insert your code here"
   ]
  },
  {
   "cell_type": "markdown",
   "metadata": {
    "id": "KVN7G34IRpUS"
   },
   "source": [
    "Train (`fit`) the network\n",
    "\n",
    "Feed the training images and labels to the network.\n",
    "\n",
    "Two additional parameters need to be supplied:\n",
    "\n",
    "- epochs: how many times the network will look at the entire dataset. i.e. 10\n",
    "- batch_size: how many images will be put through the network at one time. i.e. 32"
   ]
  },
  {
   "cell_type": "code",
   "execution_count": null,
   "metadata": {
    "id": "HlFvXYaARrei"
   },
   "outputs": [],
   "source": [
    "# insert your code here"
   ]
  },
  {
   "cell_type": "markdown",
   "metadata": {
    "id": "aLqfb5BYR6Jg"
   },
   "source": [
    "*Note*\n",
    "\n",
    "This is an _INTENTIONALLY_ bad result... Let's make a decent network with a good performance/output."
   ]
  },
  {
   "cell_type": "markdown",
   "metadata": {
    "id": "6YNCStlAPGkF"
   },
   "source": [
    "\n",
    "# 4.1 Decent network architecture\n",
    "\n",
    "\n",
    "\n"
   ]
  },
  {
   "cell_type": "markdown",
   "metadata": {
    "id": "joZ_S7QSvN24"
   },
   "source": [
    "Define the network architecture that will be used for training\n",
    "\n",
    "Look at the following [website](https://adamharley.com/nn_vis/mlp/2d.html). It has a superb visulaisation of what we are trying to achieve. Inspect the network in the website and search for the following info:\n",
    "\n",
    "- how many layers\n",
    "- how many nodes in each layer\n",
    "\n",
    "Recreate the network here. Use `relu` as the activation function in the dense layers. (The website uses `tanh`, but `relu` should give better results.)"
   ]
  },
  {
   "cell_type": "code",
   "execution_count": null,
   "metadata": {
    "id": "N1Xhk15PUHVh"
   },
   "outputs": [],
   "source": [
    "# insert your code here"
   ]
  },
  {
   "cell_type": "markdown",
   "metadata": {
    "id": "oLHRqW0bBdUh"
   },
   "source": [
    "### (optional) Exercise 5\n",
    "\n",
    "Start trying out different hyperparameters\n",
    "  \n",
    "  a. Change the 'relu' activation function to 'sigmoid'. What happens? (run the cells below to see a difference in test results)\n",
    "\n",
    "  b. What happens if you add hidden layers?\n",
    "\n",
    "  c. What happens when you try different initializers\n",
    "  \n",
    "  b. Figure out how to add \"Dropout\" to the first layer of the network.\n",
    "\n",
    "  d. What happens if you add L1 or L2 regularization to the activations?\n",
    "\n",
    "=> Start with one regularization or optimization parameter at a time.\n",
    "\n",
    "=> Experiment with extreme values\n",
    "\n",
    "=> Every time you try something new, inspect the training cycle of the model and the accompanying graphs"
   ]
  },
  {
   "cell_type": "code",
   "execution_count": null,
   "metadata": {
    "id": "23-9wdh7BdUh"
   },
   "outputs": [],
   "source": [
    "network = models.Sequential()\n",
    "network.add(layers.Dense(512, activation='relu', input_shape=(28 * 28,)))\n",
    "\n",
    "# The final layer has 10 nodes, each node represents one class of numbers\n",
    "network.add(layers.Dense(10, activation='softmax'))"
   ]
  },
  {
   "cell_type": "markdown",
   "metadata": {
    "id": "mCNJTKuBBdUh"
   },
   "source": [
    "### (optional) Exercise 5b\n",
    "Try adding a BatchNorm layer. There is some discussion in the Deep Learning community about when to apply Batch Normalization. Either in between the linear part and the nonlinear part of your neuron, or after the nonlinear part.\n",
    "\n",
    "Although there is no correct answer, the authors of Batch Normalization say that It should be applied immediately before the non-linearity of the current layer. The reason (quoted from original paper):\n",
    "\n",
    "> \"We add the BN transform immediately before the nonlinearity, by normalizing x = Wu+b. We could have also normalized the layer inputs u, but since u is likely the output of another nonlinearity, the shape of its distribution is likely to change during training, and constraining its first and second moments would not eliminate the covariate shift. In contrast, Wu + b is more likely to have a symmetric, non-sparse distribution, that is “more Gaussian” (Hyv¨arinen & Oja, 2000); normalizing it is likely to produce activations with a stable distribution.\"\n",
    "\n",
    "You can add it after the activation in the following way:\n",
    "\n",
    "`model.add(Dense(64, init='uniform', activation='relu')`\n",
    "\n",
    "`model.add(BatchNormalization())`\n",
    "\n",
    "You can add it in between the linear and nonlinear part in the following way:\n",
    "\n",
    "`model.add(Dense(64, init='uniform'))`\n",
    "\n",
    "`model.add(BatchNormalization())`\n",
    "\n",
    "`model.add(Activation('tanh'))`\n",
    "\n"
   ]
  },
  {
   "cell_type": "markdown",
   "metadata": {
    "id": "CrUziLdjvN27"
   },
   "source": [
    "# 5. Compilation Step"
   ]
  },
  {
   "cell_type": "markdown",
   "metadata": {
    "id": "Xk6rgvuMvN27"
   },
   "source": [
    "In the compilation step we define the:\n",
    "\n",
    "- the loss function: `categorical_crossentropy`\n",
    "- the optimizer: `adam`\n",
    "- the evaluation metric: `accuracy`"
   ]
  },
  {
   "cell_type": "markdown",
   "metadata": {
    "id": "Rsbw6ofjBdUh"
   },
   "source": [
    "### (optional) Exercise 6\n",
    "\n",
    "Experiment with different optimizers (SGD, Momentum, RMSProp, Adam, Nadam, etc).\n",
    "\n",
    "Do they improve the accuracy of the test set?\n",
    "\n",
    "Change the optimizer from \"RMSProp\" to \"Adam\" with good default values:\n",
    "\n",
    "- learning rate of 0.01\n",
    "- beta_1 of 0.9\n",
    "- beta_2 of 0.999\n",
    "- no epsilon\n",
    "- learning rate decay (annealing)\n",
    "\n",
    "\n",
    "What happens if you change the optimizer to good old SGD? Or to Nadam?"
   ]
  },
  {
   "cell_type": "code",
   "execution_count": null,
   "metadata": {
    "id": "pptIn4o8vN28"
   },
   "outputs": [],
   "source": [
    "network.compile(optimizer='adam',\n",
    "               loss='categorical_crossentropy',\n",
    "               metrics=['accuracy'])"
   ]
  },
  {
   "cell_type": "markdown",
   "metadata": {
    "id": "FH1Og3T_vN3M"
   },
   "source": [
    "# 6. Network summary"
   ]
  },
  {
   "cell_type": "code",
   "execution_count": null,
   "metadata": {
    "colab": {
     "base_uri": "https://localhost:8080/"
    },
    "executionInfo": {
     "elapsed": 1113,
     "status": "ok",
     "timestamp": 1602060095439,
     "user": {
      "displayName": "Sam Van Rijn",
      "photoUrl": "https://lh3.googleusercontent.com/a-/AOh14GjywaIMFHffm0OcQEs3uvmPWuqTzqixChBm5GpACw=s64",
      "userId": "00448338825589433771"
     },
     "user_tz": -120
    },
    "id": "ShJcdEUsvN3N",
    "outputId": "535cd06f-268f-40ca-9fe9-bc3b89195f9e"
   },
   "outputs": [
    {
     "name": "stdout",
     "output_type": "stream",
     "text": [
      "Model: \"sequential_1\"\n",
      "_________________________________________________________________\n",
      "Layer (type)                 Output Shape              Param #   \n",
      "=================================================================\n",
      "dense_1 (Dense)              (None, 512)               401920    \n",
      "_________________________________________________________________\n",
      "dense_2 (Dense)              (None, 10)                5130      \n",
      "=================================================================\n",
      "Total params: 407,050\n",
      "Trainable params: 407,050\n",
      "Non-trainable params: 0\n",
      "_________________________________________________________________\n"
     ]
    }
   ],
   "source": [
    "network.summary()"
   ]
  },
  {
   "cell_type": "markdown",
   "metadata": {
    "id": "QxxQCciGvN3O"
   },
   "source": [
    "# 7. Train the network"
   ]
  },
  {
   "cell_type": "markdown",
   "metadata": {
    "id": "Vu_vL5qSvN3P"
   },
   "source": [
    "Feed the training images and labels to the network.\n",
    "\n",
    "Two additional parameters need to be supplied:\n",
    "\n",
    "- epochs: how many times the network will look at the entire dataset.\n",
    "- batch_size: how many images will be put through the network at one time."
   ]
  },
  {
   "cell_type": "markdown",
   "metadata": {
    "id": "omjIBCuyBdUi"
   },
   "source": [
    "### Exercise 7\n",
    "\n",
    "- Can you train the network longer?\n",
    "- What happens when you adjust the batch size?\n",
    "- What happens to the training accuracy?\n",
    "- And the test accuracy?\n",
    "- Try adding an early stopping callback function and check the effect it has on your model"
   ]
  },
  {
   "cell_type": "code",
   "execution_count": null,
   "metadata": {
    "id": "5HQAKCSBBdUi"
   },
   "outputs": [],
   "source": [
    "from keras.regularizers import *\n",
    "from keras.callbacks import EarlyStopping"
   ]
  },
  {
   "cell_type": "code",
   "execution_count": null,
   "metadata": {
    "colab": {
     "base_uri": "https://localhost:8080/"
    },
    "executionInfo": {
     "elapsed": 68029,
     "status": "ok",
     "timestamp": 1602060164299,
     "user": {
      "displayName": "Sam Van Rijn",
      "photoUrl": "https://lh3.googleusercontent.com/a-/AOh14GjywaIMFHffm0OcQEs3uvmPWuqTzqixChBm5GpACw=s64",
      "userId": "00448338825589433771"
     },
     "user_tz": -120
    },
    "id": "Buk7OkDxvN3Q",
    "outputId": "74340868-c476-4c2c-d5cf-143535fec5ca"
   },
   "outputs": [
    {
     "name": "stdout",
     "output_type": "stream",
     "text": [
      "WARNING:tensorflow:From /usr/local/lib/python3.6/dist-packages/keras/backend/tensorflow_backend.py:422: The name tf.global_variables is deprecated. Please use tf.compat.v1.global_variables instead.\n",
      "\n",
      "Train on 40199 samples, validate on 19801 samples\n",
      "Epoch 1/50\n",
      "40199/40199 [==============================] - 1s 28us/step - loss: 1.2719 - accuracy: 0.7248 - val_loss: 0.7578 - val_accuracy: 0.8408\n",
      "Epoch 2/50\n",
      "40199/40199 [==============================] - 1s 27us/step - loss: 0.6309 - accuracy: 0.8576 - val_loss: 0.5243 - val_accuracy: 0.8736\n",
      "Epoch 3/50\n",
      "40199/40199 [==============================] - 1s 29us/step - loss: 0.4899 - accuracy: 0.8788 - val_loss: 0.4442 - val_accuracy: 0.8860\n",
      "Epoch 4/50\n",
      "40199/40199 [==============================] - 1s 27us/step - loss: 0.4276 - accuracy: 0.8888 - val_loss: 0.3989 - val_accuracy: 0.8966\n",
      "Epoch 5/50\n",
      "40199/40199 [==============================] - 1s 29us/step - loss: 0.3909 - accuracy: 0.8957 - val_loss: 0.3732 - val_accuracy: 0.9002\n",
      "Epoch 6/50\n",
      "40199/40199 [==============================] - 1s 31us/step - loss: 0.3657 - accuracy: 0.9007 - val_loss: 0.3530 - val_accuracy: 0.9046\n",
      "Epoch 7/50\n",
      "40199/40199 [==============================] - 1s 27us/step - loss: 0.3470 - accuracy: 0.9043 - val_loss: 0.3366 - val_accuracy: 0.9081\n",
      "Epoch 8/50\n",
      "40199/40199 [==============================] - 1s 27us/step - loss: 0.3318 - accuracy: 0.9088 - val_loss: 0.3261 - val_accuracy: 0.9108\n",
      "Epoch 9/50\n",
      "40199/40199 [==============================] - 1s 28us/step - loss: 0.3196 - accuracy: 0.9117 - val_loss: 0.3152 - val_accuracy: 0.9124\n",
      "Epoch 10/50\n",
      "40199/40199 [==============================] - 1s 27us/step - loss: 0.3088 - accuracy: 0.9143 - val_loss: 0.3056 - val_accuracy: 0.9159\n",
      "Epoch 11/50\n",
      "40199/40199 [==============================] - 1s 29us/step - loss: 0.2995 - accuracy: 0.9167 - val_loss: 0.2989 - val_accuracy: 0.9184\n",
      "Epoch 12/50\n",
      "40199/40199 [==============================] - 1s 29us/step - loss: 0.2912 - accuracy: 0.9196 - val_loss: 0.2907 - val_accuracy: 0.9196\n",
      "Epoch 13/50\n",
      "40199/40199 [==============================] - 1s 27us/step - loss: 0.2836 - accuracy: 0.9217 - val_loss: 0.2876 - val_accuracy: 0.9201\n",
      "Epoch 14/50\n",
      "40199/40199 [==============================] - 1s 27us/step - loss: 0.2767 - accuracy: 0.9237 - val_loss: 0.2803 - val_accuracy: 0.9218\n",
      "Epoch 15/50\n",
      "40199/40199 [==============================] - 1s 30us/step - loss: 0.2702 - accuracy: 0.9247 - val_loss: 0.2752 - val_accuracy: 0.9226\n",
      "Epoch 16/50\n",
      "40199/40199 [==============================] - 1s 29us/step - loss: 0.2641 - accuracy: 0.9273 - val_loss: 0.2684 - val_accuracy: 0.9251\n",
      "Epoch 17/50\n",
      "40199/40199 [==============================] - 1s 28us/step - loss: 0.2586 - accuracy: 0.9284 - val_loss: 0.2642 - val_accuracy: 0.9272\n",
      "Epoch 18/50\n",
      "40199/40199 [==============================] - 1s 27us/step - loss: 0.2532 - accuracy: 0.9299 - val_loss: 0.2600 - val_accuracy: 0.9270\n",
      "Epoch 19/50\n",
      "40199/40199 [==============================] - 1s 29us/step - loss: 0.2481 - accuracy: 0.9313 - val_loss: 0.2555 - val_accuracy: 0.9295\n",
      "Epoch 20/50\n",
      "40199/40199 [==============================] - 1s 30us/step - loss: 0.2434 - accuracy: 0.9328 - val_loss: 0.2526 - val_accuracy: 0.9300\n",
      "Epoch 21/50\n",
      "40199/40199 [==============================] - 1s 28us/step - loss: 0.2388 - accuracy: 0.9339 - val_loss: 0.2478 - val_accuracy: 0.9314\n",
      "Epoch 22/50\n",
      "40199/40199 [==============================] - 1s 31us/step - loss: 0.2347 - accuracy: 0.9355 - val_loss: 0.2446 - val_accuracy: 0.9319\n",
      "Epoch 23/50\n",
      "40199/40199 [==============================] - 1s 29us/step - loss: 0.2303 - accuracy: 0.9363 - val_loss: 0.2433 - val_accuracy: 0.9319\n",
      "Epoch 24/50\n",
      "40199/40199 [==============================] - 1s 27us/step - loss: 0.2264 - accuracy: 0.9378 - val_loss: 0.2378 - val_accuracy: 0.9336\n",
      "Epoch 25/50\n",
      "40199/40199 [==============================] - 1s 28us/step - loss: 0.2225 - accuracy: 0.9389 - val_loss: 0.2347 - val_accuracy: 0.9342\n",
      "Epoch 26/50\n",
      "40199/40199 [==============================] - 1s 28us/step - loss: 0.2190 - accuracy: 0.9397 - val_loss: 0.2312 - val_accuracy: 0.9357\n",
      "Epoch 27/50\n",
      "40199/40199 [==============================] - 1s 27us/step - loss: 0.2152 - accuracy: 0.9410 - val_loss: 0.2286 - val_accuracy: 0.9358\n",
      "Epoch 28/50\n",
      "40199/40199 [==============================] - 1s 27us/step - loss: 0.2119 - accuracy: 0.9417 - val_loss: 0.2265 - val_accuracy: 0.9362\n",
      "Epoch 29/50\n",
      "40199/40199 [==============================] - 1s 27us/step - loss: 0.2085 - accuracy: 0.9423 - val_loss: 0.2237 - val_accuracy: 0.9369\n",
      "Epoch 30/50\n",
      "40199/40199 [==============================] - 1s 27us/step - loss: 0.2053 - accuracy: 0.9432 - val_loss: 0.2239 - val_accuracy: 0.9365\n",
      "Epoch 31/50\n",
      "40199/40199 [==============================] - 1s 27us/step - loss: 0.2023 - accuracy: 0.9447 - val_loss: 0.2179 - val_accuracy: 0.9383\n",
      "Epoch 32/50\n",
      "40199/40199 [==============================] - 1s 27us/step - loss: 0.1991 - accuracy: 0.9451 - val_loss: 0.2160 - val_accuracy: 0.9382\n",
      "Epoch 33/50\n",
      "40199/40199 [==============================] - 1s 27us/step - loss: 0.1963 - accuracy: 0.9456 - val_loss: 0.2132 - val_accuracy: 0.9392\n",
      "Epoch 34/50\n",
      "40199/40199 [==============================] - 1s 27us/step - loss: 0.1933 - accuracy: 0.9465 - val_loss: 0.2117 - val_accuracy: 0.9398\n",
      "Epoch 35/50\n",
      "40199/40199 [==============================] - 1s 27us/step - loss: 0.1907 - accuracy: 0.9470 - val_loss: 0.2084 - val_accuracy: 0.9409\n",
      "Epoch 36/50\n",
      "40199/40199 [==============================] - 1s 27us/step - loss: 0.1879 - accuracy: 0.9477 - val_loss: 0.2054 - val_accuracy: 0.9418\n",
      "Epoch 37/50\n",
      "40199/40199 [==============================] - 1s 27us/step - loss: 0.1852 - accuracy: 0.9489 - val_loss: 0.2039 - val_accuracy: 0.9414\n",
      "Epoch 38/50\n",
      "40199/40199 [==============================] - 1s 26us/step - loss: 0.1827 - accuracy: 0.9492 - val_loss: 0.2022 - val_accuracy: 0.9431\n",
      "Epoch 39/50\n",
      "40199/40199 [==============================] - 1s 27us/step - loss: 0.1801 - accuracy: 0.9500 - val_loss: 0.2005 - val_accuracy: 0.9436\n",
      "Epoch 40/50\n",
      "40199/40199 [==============================] - 1s 28us/step - loss: 0.1778 - accuracy: 0.9507 - val_loss: 0.1976 - val_accuracy: 0.9438\n",
      "Epoch 41/50\n",
      "40199/40199 [==============================] - 1s 27us/step - loss: 0.1753 - accuracy: 0.9514 - val_loss: 0.1955 - val_accuracy: 0.9441\n",
      "Epoch 42/50\n",
      "40199/40199 [==============================] - 1s 28us/step - loss: 0.1730 - accuracy: 0.9517 - val_loss: 0.1940 - val_accuracy: 0.9445\n",
      "Epoch 43/50\n",
      "40199/40199 [==============================] - 1s 27us/step - loss: 0.1707 - accuracy: 0.9525 - val_loss: 0.1923 - val_accuracy: 0.9459\n",
      "Epoch 44/50\n",
      "40199/40199 [==============================] - 1s 29us/step - loss: 0.1685 - accuracy: 0.9533 - val_loss: 0.1900 - val_accuracy: 0.9457\n",
      "Epoch 45/50\n",
      "40199/40199 [==============================] - 1s 27us/step - loss: 0.1664 - accuracy: 0.9537 - val_loss: 0.1889 - val_accuracy: 0.9464\n",
      "Epoch 46/50\n",
      "40199/40199 [==============================] - 1s 27us/step - loss: 0.1644 - accuracy: 0.9541 - val_loss: 0.1867 - val_accuracy: 0.9470\n",
      "Epoch 47/50\n",
      "40199/40199 [==============================] - 1s 28us/step - loss: 0.1623 - accuracy: 0.9549 - val_loss: 0.1853 - val_accuracy: 0.9468\n",
      "Epoch 48/50\n",
      "40199/40199 [==============================] - 1s 29us/step - loss: 0.1600 - accuracy: 0.9555 - val_loss: 0.1838 - val_accuracy: 0.9473\n",
      "Epoch 49/50\n",
      "40199/40199 [==============================] - 1s 27us/step - loss: 0.1583 - accuracy: 0.9559 - val_loss: 0.1925 - val_accuracy: 0.9452\n",
      "Epoch 50/50\n",
      "40199/40199 [==============================] - 1s 27us/step - loss: 0.1566 - accuracy: 0.9564 - val_loss: 0.1804 - val_accuracy: 0.9489\n"
     ]
    }
   ],
   "source": [
    "history = network.fit(train_images_transformed, train_labels_categorical,\n",
    "                      validation_split=0.33, epochs=10, batch_size=128)"
   ]
  },
  {
   "cell_type": "code",
   "execution_count": null,
   "metadata": {
    "colab": {
     "base_uri": "https://localhost:8080/",
     "height": 590
    },
    "executionInfo": {
     "elapsed": 1081,
     "status": "ok",
     "timestamp": 1602060747783,
     "user": {
      "displayName": "Sam Van Rijn",
      "photoUrl": "https://lh3.googleusercontent.com/a-/AOh14GjywaIMFHffm0OcQEs3uvmPWuqTzqixChBm5GpACw=s64",
      "userId": "00448338825589433771"
     },
     "user_tz": -120
    },
    "id": "edI0dSFa1A0u",
    "outputId": "7f7a1ffb-387c-4adf-ac4b-d71505b2fc54"
   },
   "outputs": [
    {
     "name": "stdout",
     "output_type": "stream",
     "text": [
      "dict_keys(['val_loss', 'val_accuracy', 'loss', 'accuracy'])\n"
     ]
    },
    {
     "data": {
      "image/png": "[encoded data removed]",
      "text/plain": [
       "<Figure size 432x288 with 1 Axes>"
      ]
     },
     "metadata": {
      "needs_background": "light"
     },
     "output_type": "display_data"
    },
    {
     "data": {
      "image/png": "[encoded data removed]",
      "text/plain": [
       "<Figure size 432x288 with 1 Axes>"
      ]
     },
     "metadata": {
      "needs_background": "light"
     },
     "output_type": "display_data"
    }
   ],
   "source": [
    "# list all data in history\n",
    "print(history.history.keys())\n",
    "# summarize history for accuracy\n",
    "plt.plot(history.history['accuracy'])\n",
    "plt.plot(history.history['val_accuracy'])\n",
    "plt.title('model accuracy')\n",
    "plt.ylabel('accuracy')\n",
    "plt.xlabel('epoch')\n",
    "plt.legend(['train', 'validation'], loc='upper left')\n",
    "plt.show()\n",
    "# summarize history for loss\n",
    "plt.plot(history.history['loss'])\n",
    "plt.plot(history.history['val_loss'])\n",
    "plt.title('model loss')\n",
    "plt.ylabel('loss')\n",
    "plt.xlabel('epoch')\n",
    "plt.legend(['train', 'validation'], loc='upper left')\n",
    "plt.show()"
   ]
  },
  {
   "cell_type": "markdown",
   "metadata": {
    "id": "b4aMJszcvN3S"
   },
   "source": [
    "# 8. Test the network"
   ]
  },
  {
   "cell_type": "markdown",
   "metadata": {
    "id": "9TwYRdeXvN3T"
   },
   "source": [
    "Use the test set (which the network has not seen yet) to test how well the network will perform on images it has not seen yet:"
   ]
  },
  {
   "cell_type": "code",
   "execution_count": null,
   "metadata": {
    "colab": {
     "base_uri": "https://localhost:8080/",
     "height": 35
    },
    "executionInfo": {
     "elapsed": 1322,
     "status": "ok",
     "timestamp": 1601755062757,
     "user": {
      "displayName": "Sam Van Rijn",
      "photoUrl": "https://lh3.googleusercontent.com/a-/AOh14GjywaIMFHffm0OcQEs3uvmPWuqTzqixChBm5GpACw=s64",
      "userId": "00448338825589433771"
     },
     "user_tz": -120
    },
    "id": "rR2t15vQvN3T",
    "outputId": "5fc504b8-1623-40fb-9dac-0d8066dcbd70"
   },
   "outputs": [
    {
     "name": "stdout",
     "output_type": "stream",
     "text": [
      "10000/10000 [==============================] - 0s 17us/step\n"
     ]
    }
   ],
   "source": [
    "test_loss, test_acc = network.evaluate(test_images_transformed, test_labels_categorical)"
   ]
  },
  {
   "cell_type": "code",
   "execution_count": null,
   "metadata": {
    "colab": {
     "base_uri": "https://localhost:8080/",
     "height": 35
    },
    "executionInfo": {
     "elapsed": 554,
     "status": "ok",
     "timestamp": 1601755064241,
     "user": {
      "displayName": "Sam Van Rijn",
      "photoUrl": "https://lh3.googleusercontent.com/a-/AOh14GjywaIMFHffm0OcQEs3uvmPWuqTzqixChBm5GpACw=s64",
      "userId": "00448338825589433771"
     },
     "user_tz": -120
    },
    "id": "Zes3pUI5vN3V",
    "outputId": "a3002b0b-a496-4314-ad03-a41f71824bfd"
   },
   "outputs": [
    {
     "name": "stdout",
     "output_type": "stream",
     "text": [
      "test_acc;  0.9519000053405762\n"
     ]
    }
   ],
   "source": [
    "print('test_acc; ', test_acc)"
   ]
  },
  {
   "cell_type": "code",
   "execution_count": null,
   "metadata": {
    "id": "U3_NbuLWvN3X"
   },
   "outputs": [],
   "source": []
  }
 ],
 "metadata": {
  "accelerator": "GPU",
  "colab": {
   "provenance": []
  },
  "kernelspec": {
   "display_name": "Python 3 (ipykernel)",
   "language": "python",
   "name": "python3"
  },
  "language_info": {
   "codemirror_mode": {
    "name": "ipython",
    "version": 3
   },
   "file_extension": ".py",
   "mimetype": "text/x-python",
   "name": "python",
   "nbconvert_exporter": "python",
   "pygments_lexer": "ipython3",
   "version": "3.11.0rc1"
  }
 },
 "nbformat": 4,
 "nbformat_minor": 4
}
