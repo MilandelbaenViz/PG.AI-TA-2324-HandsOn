{
  "cells": [
    {
      "cell_type": "markdown",
      "source": [
        "# Introduction\n",
        "This notebook will create a small solution (NN Model) for the MNIST dataset.\n",
        "The solution (model) will be exported once with the Keras library and once with ONNX (Open Neural Network Exchange)."
      ],
      "metadata": {
        "id": "-gG4qiLrz0On"
      }
    },
    {
      "cell_type": "markdown",
      "metadata": {
        "id": "vEXMVuDZvN2Y"
      },
      "source": [
        "# 0. Import statements"
      ]
    },
    {
      "cell_type": "code",
      "execution_count": 1,
      "metadata": {
        "id": "dEMv8B3TvN2g"
      },
      "outputs": [],
      "source": [
        "import keras\n",
        "from keras import models\n",
        "from keras import layers\n",
        "from keras.datasets import mnist\n",
        "#from keras.utils import to_categorical\n",
        "import matplotlib.pyplot as plt\n",
        "import numpy as np\n",
        "import tensorflow as tf\n",
        "import pandas as pd\n",
        "import warnings\n",
        "\n",
        "warnings.filterwarnings('ignore')"
      ]
    },
    {
      "cell_type": "markdown",
      "metadata": {
        "id": "Ny6dFL2oicnV"
      },
      "source": [
        "Enable autocomplete (using tab)."
      ]
    },
    {
      "cell_type": "code",
      "execution_count": 2,
      "metadata": {
        "id": "f4xaOjTwicnX"
      },
      "outputs": [],
      "source": [
        "%config Completer.use_jedi = False"
      ]
    },
    {
      "cell_type": "markdown",
      "metadata": {
        "id": "oHhmCAZyvN2j"
      },
      "source": [
        "# 1. Load data"
      ]
    },
    {
      "cell_type": "markdown",
      "metadata": {
        "id": "Q5Wo4BblvN2j"
      },
      "source": [
        "In order to understand what happens in a computer vision model, we first have to understand how computers handle images. We'll use one of the most famous datasets in computer vision, MNIST, for our experiments. MNIST contains images of handwritten digits, collected by the National Institute of Standards and Technology and collated into a machine learning dataset by Yann Lecun and his colleagues. Lecun used MNIST in 1998 in Lenet-5, the first computer system to demonstrate practically useful recognition of handwritten digit sequences. This was one of the most important breakthroughs in the history of AI.\n",
        "\n",
        "The MNIST database of handwritten digit has a training set of 60,000 examples, and a test set of 10,000 examples. It is a subset of a larger set available from NIST. The digits have been size-normalized and centered in a fixed-size image.\n",
        "It is a good database for people who want to try learning techniques and pattern recognition methods on real-world data while spending minimal efforts on preprocessing and formatting."
      ]
    },
    {
      "cell_type": "code",
      "execution_count": 3,
      "metadata": {
        "colab": {
          "base_uri": "https://localhost:8080/"
        },
        "id": "6a-5ZoKdvN2k",
        "outputId": "43d11512-90d2-4e6a-d4e9-35c36d55bd7b"
      },
      "outputs": [
        {
          "output_type": "stream",
          "name": "stdout",
          "text": [
            "Downloading data from https://storage.googleapis.com/tensorflow/tf-keras-datasets/mnist.npz\n",
            "11490434/11490434 [==============================] - 0s 0us/step\n"
          ]
        }
      ],
      "source": [
        "(train_images, train_labels), (test_images, test_labels) = mnist.load_data()"
      ]
    },
    {
      "cell_type": "markdown",
      "metadata": {
        "id": "zM4yYI9tvN2m"
      },
      "source": [
        "# 2. Inspect data"
      ]
    },
    {
      "cell_type": "markdown",
      "metadata": {
        "id": "dLMl_T_2vN2n"
      },
      "source": [
        "Try to get a feel for the data you are using to train and test your neural network."
      ]
    },
    {
      "cell_type": "markdown",
      "metadata": {
        "id": "q_2_n2vAvN2n"
      },
      "source": [
        "## Training data"
      ]
    },
    {
      "cell_type": "markdown",
      "metadata": {
        "id": "HtiYZ7yAvN2o"
      },
      "source": [
        "- Training data will be used to train our neural network to recognize hand-written digits.\n",
        "- MNIST provides 60000 labeled training images, each 28x28 pixels"
      ]
    },
    {
      "cell_type": "code",
      "execution_count": 4,
      "metadata": {
        "colab": {
          "base_uri": "https://localhost:8080/"
        },
        "id": "vU1dadoSvN2p",
        "outputId": "a909fb7a-7794-41cf-a94f-800f0c8059e7"
      },
      "outputs": [
        {
          "output_type": "execute_result",
          "data": {
            "text/plain": [
              "(60000, 28, 28)"
            ]
          },
          "metadata": {},
          "execution_count": 4
        }
      ],
      "source": [
        "train_images.shape"
      ]
    },
    {
      "cell_type": "code",
      "execution_count": 5,
      "metadata": {
        "colab": {
          "base_uri": "https://localhost:8080/"
        },
        "id": "ikXtFQtfvN2r",
        "outputId": "9b129ffd-f064-4d02-a465-804926989be2"
      },
      "outputs": [
        {
          "output_type": "execute_result",
          "data": {
            "text/plain": [
              "(60000,)"
            ]
          },
          "metadata": {},
          "execution_count": 5
        }
      ],
      "source": [
        "train_labels.shape"
      ]
    },
    {
      "cell_type": "markdown",
      "metadata": {
        "id": "W1fmiqcFicnk"
      },
      "source": [
        "### Exercise 1\n",
        "**TODO**: Implement the show_image function and randomly select n different samples from the training set to display."
      ]
    },
    {
      "cell_type": "code",
      "execution_count": 6,
      "metadata": {
        "id": "1rlqd3kHvN2s"
      },
      "outputs": [],
      "source": [
        "def show_image(images, labels, index):\n",
        "    img = images[index].reshape((28,28))\n",
        "    label = labels[index]\n",
        "    plt.imshow(img, cmap='gray')\n",
        "    plt.title(label)\n",
        "    plt.show()"
      ]
    },
    {
      "cell_type": "code",
      "execution_count": 7,
      "metadata": {
        "colab": {
          "base_uri": "https://localhost:8080/",
          "height": 452
        },
        "id": "dl3lul5TvN2u",
        "outputId": "9226ea1f-bc3f-4be8-866b-eada5f99501f"
      },
      "outputs": [
        {
          "output_type": "display_data",
          "data": {
            "text/plain": [
              "<Figure size 640x480 with 1 Axes>"
            ],
            "image/png": "[encoded data removed]"
          },
          "metadata": {}
        }
      ],
      "source": [
        "show_image(train_images, train_labels, 1250)"
      ]
    },
    {
      "cell_type": "markdown",
      "metadata": {
        "id": "n23qvkWhvN2w"
      },
      "source": [
        "## Test data"
      ]
    },
    {
      "cell_type": "markdown",
      "metadata": {
        "id": "s2-cThCpvN2x"
      },
      "source": [
        "- Test data will be used to validate how good our network performs on data it has never seen.\n",
        "- MNIST provides 10000 test images, each 28x28.\n",
        "- It's important to note that these should never be used in the training cycle. A 'test set' should never contain images the network has already seen during training. (read more: [Model Selection and Train/Validation/Test Sets](https://www.coursera.org/lecture/machine-learning/model-selection-and-train-validation-test-sets-QGKbr) and [How (and why) to create a good validation set](https://www.fast.ai/2017/11/13/validation-sets/))"
      ]
    },
    {
      "cell_type": "markdown",
      "metadata": {
        "id": "tsqtLIcaicns"
      },
      "source": [
        "### Exercise 2\n",
        "\n",
        "**TODO**: Print the test images and test labels shape below:"
      ]
    },
    {
      "cell_type": "code",
      "execution_count": 8,
      "metadata": {
        "colab": {
          "base_uri": "https://localhost:8080/"
        },
        "id": "JwPxa7K_vN2x",
        "outputId": "bc9e0352-8211-48bc-80b0-3fefeabe2d8c"
      },
      "outputs": [
        {
          "output_type": "execute_result",
          "data": {
            "text/plain": [
              "(10000, 28, 28)"
            ]
          },
          "metadata": {},
          "execution_count": 8
        }
      ],
      "source": [
        "test_images.shape"
      ]
    },
    {
      "cell_type": "code",
      "execution_count": 9,
      "metadata": {
        "colab": {
          "base_uri": "https://localhost:8080/"
        },
        "id": "e0JAO_SEvN20",
        "outputId": "1a282382-9a8d-43b1-9fd2-4715208cc02d"
      },
      "outputs": [
        {
          "output_type": "execute_result",
          "data": {
            "text/plain": [
              "(10000,)"
            ]
          },
          "metadata": {},
          "execution_count": 9
        }
      ],
      "source": [
        "test_labels.shape"
      ]
    },
    {
      "cell_type": "code",
      "execution_count": 10,
      "metadata": {
        "colab": {
          "base_uri": "https://localhost:8080/",
          "height": 452
        },
        "id": "-WmIgbNnvN21",
        "outputId": "791145a2-2d75-46c2-d1aa-cc1a7db5e387"
      },
      "outputs": [
        {
          "output_type": "display_data",
          "data": {
            "text/plain": [
              "<Figure size 640x480 with 1 Axes>"
            ],
            "image/png": "[encoded data removed]"
          },
          "metadata": {}
        }
      ],
      "source": [
        "show_image(test_images, test_labels, 168)"
      ]
    },
    {
      "cell_type": "markdown",
      "metadata": {
        "id": "Zrd5iciQvN29"
      },
      "source": [
        "# 3. Data Preparation"
      ]
    },
    {
      "cell_type": "markdown",
      "metadata": {
        "id": "ooM1N6M_vN2-"
      },
      "source": [
        "Before feeding the data into the network for training, we make sure it is formatted properly."
      ]
    },
    {
      "cell_type": "markdown",
      "metadata": {
        "id": "F5ZPHXdlvN2_"
      },
      "source": [
        "## Prepare the images"
      ]
    },
    {
      "cell_type": "markdown",
      "metadata": {
        "id": "E28rGt9MvN2_"
      },
      "source": [
        "### Exercise 3\n",
        "**TODO**: Reshape the images to vectors of integers"
      ]
    },
    {
      "cell_type": "code",
      "execution_count": 11,
      "metadata": {
        "id": "EHxhuFBzvN3A"
      },
      "outputs": [],
      "source": [
        "train_images_reshaped = train_images.reshape((60000, 28*28))\n",
        "test_images_reshaped = test_images.reshape((10000, 28*28))"
      ]
    },
    {
      "cell_type": "code",
      "execution_count": 12,
      "metadata": {
        "colab": {
          "base_uri": "https://localhost:8080/"
        },
        "id": "Pea2ZJQ3vN3C",
        "outputId": "3ab33199-297e-4bd6-9dfb-3c7ba53dcdc8"
      },
      "outputs": [
        {
          "output_type": "execute_result",
          "data": {
            "text/plain": [
              "(60000, 784)"
            ]
          },
          "metadata": {},
          "execution_count": 12
        }
      ],
      "source": [
        "train_images_reshaped.shape"
      ]
    },
    {
      "cell_type": "markdown",
      "metadata": {
        "id": "_ZPmSXNwvN3D"
      },
      "source": [
        "### Exercise 4\n",
        "**TODO**: Resize the values to a value between 0 and 1"
      ]
    },
    {
      "cell_type": "code",
      "execution_count": 13,
      "metadata": {
        "id": "DEJIEqXovN3E"
      },
      "outputs": [],
      "source": [
        "train_images_transformed = train_images_reshaped.astype('float32') / 255\n",
        "test_images_transformed = test_images_reshaped.astype('float32') / 255"
      ]
    },
    {
      "cell_type": "markdown",
      "metadata": {
        "id": "yxKuJ2LJvN3H"
      },
      "source": [
        "## Prepare the labels (one hot encoding)"
      ]
    },
    {
      "cell_type": "code",
      "execution_count": 14,
      "metadata": {
        "id": "_fbyCO_3vN3H"
      },
      "outputs": [],
      "source": [
        "from tensorflow.keras.utils import to_categorical\n",
        "train_labels_categorical = to_categorical(train_labels)\n",
        "test_labels_categorical = to_categorical(test_labels)"
      ]
    },
    {
      "cell_type": "code",
      "execution_count": 15,
      "metadata": {
        "colab": {
          "base_uri": "https://localhost:8080/",
          "height": 452
        },
        "id": "-8YUkvctSiYr",
        "outputId": "923ffac3-df2f-48d8-dc16-5a64d56ebe53"
      },
      "outputs": [
        {
          "output_type": "display_data",
          "data": {
            "text/plain": [
              "<Figure size 640x480 with 1 Axes>"
            ],
            "image/png": "[encoded data removed]"
          },
          "metadata": {}
        }
      ],
      "source": [
        "show_image(train_images, train_labels, 0)"
      ]
    },
    {
      "cell_type": "code",
      "execution_count": 16,
      "metadata": {
        "colab": {
          "base_uri": "https://localhost:8080/"
        },
        "id": "B0hJHPGh-vDQ",
        "outputId": "a6ff49b8-fbee-4980-a1ec-417c653a16e2"
      },
      "outputs": [
        {
          "output_type": "execute_result",
          "data": {
            "text/plain": [
              "array([5, 0, 4, ..., 5, 6, 8], dtype=uint8)"
            ]
          },
          "metadata": {},
          "execution_count": 16
        }
      ],
      "source": [
        "train_labels"
      ]
    },
    {
      "cell_type": "code",
      "execution_count": 17,
      "metadata": {
        "colab": {
          "base_uri": "https://localhost:8080/"
        },
        "id": "g_OUKc6PvN3K",
        "outputId": "ba3adefb-db9e-47e5-81ae-636153675283"
      },
      "outputs": [
        {
          "output_type": "execute_result",
          "data": {
            "text/plain": [
              "array([0., 0., 0., 0., 0., 1., 0., 0., 0., 0.], dtype=float32)"
            ]
          },
          "metadata": {},
          "execution_count": 17
        }
      ],
      "source": [
        "train_labels_categorical[0]"
      ]
    },
    {
      "cell_type": "markdown",
      "metadata": {
        "id": "OEDBaEANvN23"
      },
      "source": [
        "# 4. Network architecture"
      ]
    },
    {
      "cell_type": "markdown",
      "metadata": {
        "id": "joZ_S7QSvN24"
      },
      "source": [
        "Define the network architecture that will be used for training\n",
        "\n",
        "- how many layers\n",
        "- which type of layer\n",
        "- how many nodes in each layer\n",
        "- activation function in each layer\n"
      ]
    },
    {
      "cell_type": "markdown",
      "metadata": {
        "id": "HpV8cBz7icn0"
      },
      "source": [
        "### Exercise 5\n",
        "\n",
        "1. Start with the simple Neural Network below\n",
        "2. Start trying out different hyperparameters\n",
        "  \n",
        "  a. Change the 'relu' activation function to 'sigmoid'. What happens? (run the cells below to see a difference in test results)\n",
        "\n",
        "  b. What happens if you add hidden layers? (try the visual example of the slides with a first hidden layer of 300 neurons, and a second one with 100 neurons)\n",
        "\n",
        "  c. What happens when you try different initializers\n",
        "  \n",
        "  b. Figure out how to add \"Dropout\" to the first layer of the network.\n",
        "\n",
        "  d. What happens if you add L1 or L2 regularization to the activations?\n",
        "\n",
        "=> Start with one regularization or optimization parameter at a time.\n",
        "\n",
        "=> Experiment with extreme values\n",
        "\n",
        "=> Every time you try something new, inspect the training cycle of the model and the accompanying graphs"
      ]
    },
    {
      "cell_type": "code",
      "execution_count": 18,
      "metadata": {
        "id": "n7FG4E8CvN24"
      },
      "outputs": [],
      "source": [
        "network = models.Sequential()\n",
        "network.add(layers.Dense(300, activation='relu', input_shape=(28 * 28,), kernel_regularizer=keras.regularizers.l1_l2(l1=0, l2=0.001)))\n",
        "network.add(layers.Dense(100, activation='relu'))\n",
        "\n",
        "# The final layer has 10 nodes, each node represents one class of numbers\n",
        "network.add(layers.Dense(10, activation='softmax'))"
      ]
    },
    {
      "cell_type": "markdown",
      "metadata": {
        "id": "CrUziLdjvN27"
      },
      "source": [
        "# 5. Compilation Step"
      ]
    },
    {
      "cell_type": "markdown",
      "metadata": {
        "id": "Xk6rgvuMvN27"
      },
      "source": [
        "In the compilation step we define the:\n",
        "\n",
        "- the loss function\n",
        "- the optimizer\n",
        "- the evaluation metric"
      ]
    },
    {
      "cell_type": "code",
      "execution_count": 19,
      "metadata": {
        "id": "pptIn4o8vN28"
      },
      "outputs": [],
      "source": [
        "network.compile(optimizer='SGD',\n",
        "               loss='categorical_crossentropy',\n",
        "               metrics=['accuracy'])"
      ]
    },
    {
      "cell_type": "markdown",
      "metadata": {
        "id": "FH1Og3T_vN3M"
      },
      "source": [
        "# 6. Network summary"
      ]
    },
    {
      "cell_type": "code",
      "execution_count": 20,
      "metadata": {
        "colab": {
          "base_uri": "https://localhost:8080/"
        },
        "id": "ShJcdEUsvN3N",
        "outputId": "fde36da5-1354-41d6-971f-620a5f964ec0"
      },
      "outputs": [
        {
          "output_type": "stream",
          "name": "stdout",
          "text": [
            "Model: \"sequential\"\n",
            "_________________________________________________________________\n",
            " Layer (type)                Output Shape              Param #   \n",
            "=================================================================\n",
            " dense (Dense)               (None, 300)               235500    \n",
            "                                                                 \n",
            " dense_1 (Dense)             (None, 100)               30100     \n",
            "                                                                 \n",
            " dense_2 (Dense)             (None, 10)                1010      \n",
            "                                                                 \n",
            "=================================================================\n",
            "Total params: 266610 (1.02 MB)\n",
            "Trainable params: 266610 (1.02 MB)\n",
            "Non-trainable params: 0 (0.00 Byte)\n",
            "_________________________________________________________________\n"
          ]
        }
      ],
      "source": [
        "network.summary()"
      ]
    },
    {
      "cell_type": "markdown",
      "metadata": {
        "id": "QxxQCciGvN3O"
      },
      "source": [
        "# 7. Train the network"
      ]
    },
    {
      "cell_type": "markdown",
      "metadata": {
        "id": "Vu_vL5qSvN3P"
      },
      "source": [
        "Feed the training images and labels to the network.\n",
        "\n",
        "Two additional parameters need to be supplied:\n",
        "\n",
        "- epochs: how many times the network will look at the entire dataset.\n",
        "- batch_size: how many images will be put through the network at one time."
      ]
    },
    {
      "cell_type": "markdown",
      "metadata": {
        "id": "XGFp9fXWicn7"
      },
      "source": [
        "### Exercise 7\n",
        "\n",
        "- Can you train the network longer?\n",
        "- What happens when you adjust the batch size?\n",
        "- What happens to the training accuracy?\n",
        "- And the test accuracy?\n",
        "- Try adding an early stopping callback function and check the effect it has on your model"
      ]
    },
    {
      "cell_type": "code",
      "execution_count": 21,
      "metadata": {
        "id": "Sq9AG6mficn8"
      },
      "outputs": [],
      "source": [
        "from keras.regularizers import *\n",
        "from keras.callbacks import EarlyStopping"
      ]
    },
    {
      "cell_type": "code",
      "execution_count": 22,
      "metadata": {
        "colab": {
          "base_uri": "https://localhost:8080/"
        },
        "id": "Buk7OkDxvN3Q",
        "outputId": "8255b9e9-162f-4f0d-a36e-dfd2578752e3"
      },
      "outputs": [
        {
          "output_type": "stream",
          "name": "stdout",
          "text": [
            "Epoch 1/10\n",
            "315/315 [==============================] - 9s 12ms/step - loss: 1.8246 - accuracy: 0.6628 - val_loss: 1.1736 - val_accuracy: 0.8330\n",
            "Epoch 2/10\n",
            "315/315 [==============================] - 5s 15ms/step - loss: 1.0181 - accuracy: 0.8573 - val_loss: 0.9149 - val_accuracy: 0.8725\n",
            "Epoch 3/10\n",
            "315/315 [==============================] - 3s 10ms/step - loss: 0.8636 - accuracy: 0.8852 - val_loss: 0.8176 - val_accuracy: 0.8923\n",
            "Epoch 4/10\n",
            "315/315 [==============================] - 2s 7ms/step - loss: 0.7989 - accuracy: 0.8969 - val_loss: 0.7734 - val_accuracy: 0.9020\n",
            "Epoch 5/10\n",
            "315/315 [==============================] - 1s 4ms/step - loss: 0.7597 - accuracy: 0.9051 - val_loss: 0.7448 - val_accuracy: 0.9075\n",
            "Epoch 6/10\n",
            "315/315 [==============================] - 1s 4ms/step - loss: 0.7314 - accuracy: 0.9107 - val_loss: 0.7193 - val_accuracy: 0.9127\n",
            "Epoch 7/10\n",
            "315/315 [==============================] - 1s 4ms/step - loss: 0.7087 - accuracy: 0.9163 - val_loss: 0.6998 - val_accuracy: 0.9159\n",
            "Epoch 8/10\n",
            "315/315 [==============================] - 1s 4ms/step - loss: 0.6895 - accuracy: 0.9198 - val_loss: 0.7137 - val_accuracy: 0.9101\n",
            "Epoch 9/10\n",
            "315/315 [==============================] - 2s 5ms/step - loss: 0.6731 - accuracy: 0.9230 - val_loss: 0.6759 - val_accuracy: 0.9206\n",
            "Epoch 10/10\n",
            "315/315 [==============================] - 2s 6ms/step - loss: 0.6571 - accuracy: 0.9265 - val_loss: 0.6722 - val_accuracy: 0.9186\n"
          ]
        }
      ],
      "source": [
        "es = EarlyStopping(monitor='val_loss', mode='min', verbose=1, patience=5)\n",
        "history = network.fit(train_images_transformed, train_labels_categorical,\n",
        "                      validation_split=0.33,\n",
        "                      epochs=10,\n",
        "                      batch_size=128,\n",
        "                      callbacks=[es])"
      ]
    },
    {
      "cell_type": "code",
      "execution_count": 23,
      "metadata": {
        "colab": {
          "base_uri": "https://localhost:8080/",
          "height": 945
        },
        "id": "edI0dSFa1A0u",
        "outputId": "6a3a15b6-b0fc-40f1-f2b6-83cef62891db"
      },
      "outputs": [
        {
          "output_type": "stream",
          "name": "stdout",
          "text": [
            "dict_keys(['loss', 'accuracy', 'val_loss', 'val_accuracy'])\n"
          ]
        },
        {
          "output_type": "display_data",
          "data": {
            "text/plain": [
              "<Figure size 640x480 with 1 Axes>"
            ],
            "image/png": "[encoded data removed]"
          },
          "metadata": {}
        },
        {
          "output_type": "display_data",
          "data": {
            "text/plain": [
              "<Figure size 640x480 with 1 Axes>"
            ],
            "image/png": "[encoded data removed]"
          },
          "metadata": {}
        }
      ],
      "source": [
        "# list all data in history\n",
        "print(history.history.keys())\n",
        "# summarize history for accuracy\n",
        "plt.plot(history.history['accuracy'])\n",
        "plt.plot(history.history['val_accuracy'])\n",
        "plt.title('model accuracy')\n",
        "plt.ylabel('accuracy')\n",
        "plt.xlabel('epoch')\n",
        "plt.legend(['train', 'validation'], loc='upper left')\n",
        "plt.show()\n",
        "# summarize history for loss\n",
        "plt.plot(history.history['loss'])\n",
        "plt.plot(history.history['val_loss'])\n",
        "plt.title('model loss')\n",
        "plt.ylabel('loss')\n",
        "plt.xlabel('epoch')\n",
        "plt.legend(['train', 'validation'], loc='upper left')\n",
        "plt.show()"
      ]
    },
    {
      "cell_type": "markdown",
      "metadata": {
        "id": "b4aMJszcvN3S"
      },
      "source": [
        "# 8. Test the network"
      ]
    },
    {
      "cell_type": "markdown",
      "metadata": {
        "id": "9TwYRdeXvN3T"
      },
      "source": [
        "Use the test set (which the network has not seen yet) to test how well the network will perform on images it has not seen yet:"
      ]
    },
    {
      "cell_type": "code",
      "execution_count": 24,
      "metadata": {
        "colab": {
          "base_uri": "https://localhost:8080/"
        },
        "id": "rR2t15vQvN3T",
        "outputId": "bd96b64b-cf8b-45c4-dd5d-c7fca9100641"
      },
      "outputs": [
        {
          "output_type": "stream",
          "name": "stdout",
          "text": [
            "313/313 [==============================] - 1s 2ms/step - loss: 0.6564 - accuracy: 0.9234\n"
          ]
        }
      ],
      "source": [
        "test_loss, test_acc = network.evaluate(test_images_transformed, test_labels_categorical)"
      ]
    },
    {
      "cell_type": "code",
      "execution_count": 25,
      "metadata": {
        "colab": {
          "base_uri": "https://localhost:8080/"
        },
        "id": "Zes3pUI5vN3V",
        "outputId": "1f2956cb-d531-4a9d-d84b-19612bab885e"
      },
      "outputs": [
        {
          "output_type": "stream",
          "name": "stdout",
          "text": [
            "test_acc;  0.9233999848365784\n"
          ]
        }
      ],
      "source": [
        "print('test_acc; ', test_acc)"
      ]
    },
    {
      "cell_type": "code",
      "execution_count": 26,
      "metadata": {
        "colab": {
          "base_uri": "https://localhost:8080/"
        },
        "id": "9lExfTLjNKpV",
        "outputId": "6d3573e5-aaca-4942-f385-14b982065be5"
      },
      "outputs": [
        {
          "output_type": "stream",
          "name": "stdout",
          "text": [
            "313/313 [==============================] - 1s 2ms/step\n"
          ]
        },
        {
          "output_type": "execute_result",
          "data": {
            "text/plain": [
              "array([7, 2, 1, ..., 4, 5, 6])"
            ]
          },
          "metadata": {},
          "execution_count": 26
        }
      ],
      "source": [
        "preds = np.argmax(network.predict(test_images_transformed), axis=1)\n",
        "preds"
      ]
    },
    {
      "cell_type": "markdown",
      "source": [
        "# 9. Export the network"
      ],
      "metadata": {
        "id": "XC9CZSfMP1pr"
      }
    },
    {
      "cell_type": "markdown",
      "source": [
        "Use the `save` function of Keras to export the network to a directory called `./temp`."
      ],
      "metadata": {
        "id": "P4z8VfM42dAm"
      }
    },
    {
      "cell_type": "code",
      "execution_count": 27,
      "metadata": {
        "id": "4jDcbFY9JB96"
      },
      "outputs": [],
      "source": [
        "import os\n",
        "network.save(os.path.join(\"./temp\", network.name))"
      ]
    },
    {
      "cell_type": "markdown",
      "source": [
        "## ONNX\n",
        "ONNX provides an open source format for AI models, both deep learning and traditional ML. It defines an extensible computation graph model, as well as definitions of built-in operators and standard data types. Currently we focus on the capabilities needed for inferencing (scoring).\n",
        "\n",
        "ONNX is widely supported and can be found in many frameworks, tools, and hardware. Enabling interoperability between different frameworks and streamlining the path from research to production helps increase the speed of innovation in the AI community. We invite the community to join us and further evolve ONNX."
      ],
      "metadata": {
        "id": "v28L5MWW2yhZ"
      }
    },
    {
      "cell_type": "code",
      "execution_count": 28,
      "metadata": {
        "colab": {
          "base_uri": "https://localhost:8080/"
        },
        "id": "bFQH_uuBI3eY",
        "outputId": "22b52b32-144e-43bb-ce79-c336cb80f3f8"
      },
      "outputs": [
        {
          "output_type": "stream",
          "name": "stdout",
          "text": [
            "Collecting onnx\n",
            "  Downloading onnx-1.15.0-cp310-cp310-manylinux_2_17_x86_64.manylinux2014_x86_64.whl (15.7 MB)\n",
            "\u001b[2K     \u001b[90m━━━━━━━━━━━━━━━━━━━━━━━━━━━━━━━━━━━━━━━━\u001b[0m \u001b[32m15.7/15.7 MB\u001b[0m \u001b[31m55.3 MB/s\u001b[0m eta \u001b[36m0:00:00\u001b[0m\n",
            "\u001b[?25hRequirement already satisfied: numpy in /usr/local/lib/python3.10/dist-packages (from onnx) (1.23.5)\n",
            "Requirement already satisfied: protobuf>=3.20.2 in /usr/local/lib/python3.10/dist-packages (from onnx) (3.20.3)\n",
            "Installing collected packages: onnx\n",
            "Successfully installed onnx-1.15.0\n"
          ]
        }
      ],
      "source": [
        "!pip install onnx"
      ]
    },
    {
      "cell_type": "markdown",
      "source": [
        "## tf2onnx\n",
        "tf2onnx converts TensorFlow (tf-1.x or tf-2.x), keras, tensorflow.js and tflite models to ONNX via command line or python api.\n",
        "\n",
        "Note: tensorflow.js support was just added. While we tested it with many tfjs models from tfhub, it should be considered experimental.\n",
        "\n",
        "TensorFlow has many more ops than ONNX and occasionally mapping a model to ONNX creates issues."
      ],
      "metadata": {
        "id": "G5ELfAwJ3p6r"
      }
    },
    {
      "cell_type": "code",
      "execution_count": 29,
      "metadata": {
        "colab": {
          "base_uri": "https://localhost:8080/"
        },
        "id": "iBQFRq4-JMs6",
        "outputId": "cdea93e9-9114-467d-c154-c061e6921843"
      },
      "outputs": [
        {
          "output_type": "stream",
          "name": "stdout",
          "text": [
            "Collecting tf2onnx\n",
            "  Downloading tf2onnx-1.16.0-py3-none-any.whl (455 kB)\n",
            "\u001b[2K     \u001b[90m━━━━━━━━━━━━━━━━━━━━━━━━━━━━━━━━━━━━━━━━\u001b[0m \u001b[32m455.7/455.7 kB\u001b[0m \u001b[31m3.1 MB/s\u001b[0m eta \u001b[36m0:00:00\u001b[0m\n",
            "\u001b[?25hRequirement already satisfied: numpy>=1.14.1 in /usr/local/lib/python3.10/dist-packages (from tf2onnx) (1.23.5)\n",
            "Requirement already satisfied: onnx>=1.4.1 in /usr/local/lib/python3.10/dist-packages (from tf2onnx) (1.15.0)\n",
            "Requirement already satisfied: requests in /usr/local/lib/python3.10/dist-packages (from tf2onnx) (2.31.0)\n",
            "Requirement already satisfied: six in /usr/local/lib/python3.10/dist-packages (from tf2onnx) (1.16.0)\n",
            "Requirement already satisfied: flatbuffers>=1.12 in /usr/local/lib/python3.10/dist-packages (from tf2onnx) (23.5.26)\n",
            "Requirement already satisfied: protobuf~=3.20.2 in /usr/local/lib/python3.10/dist-packages (from tf2onnx) (3.20.3)\n",
            "Requirement already satisfied: charset-normalizer<4,>=2 in /usr/local/lib/python3.10/dist-packages (from requests->tf2onnx) (3.3.2)\n",
            "Requirement already satisfied: idna<4,>=2.5 in /usr/local/lib/python3.10/dist-packages (from requests->tf2onnx) (3.6)\n",
            "Requirement already satisfied: urllib3<3,>=1.21.1 in /usr/local/lib/python3.10/dist-packages (from requests->tf2onnx) (2.0.7)\n",
            "Requirement already satisfied: certifi>=2017.4.17 in /usr/local/lib/python3.10/dist-packages (from requests->tf2onnx) (2023.11.17)\n",
            "Installing collected packages: tf2onnx\n",
            "Successfully installed tf2onnx-1.16.0\n"
          ]
        }
      ],
      "source": [
        "!pip install tf2onnx"
      ]
    },
    {
      "cell_type": "markdown",
      "source": [
        "## onnxruntime\n",
        "ONNX Runtime is a performance-focused scoring engine for Open Neural Network Exchange (ONNX) models."
      ],
      "metadata": {
        "id": "JspMY-C535Ps"
      }
    },
    {
      "cell_type": "code",
      "execution_count": 30,
      "metadata": {
        "colab": {
          "base_uri": "https://localhost:8080/"
        },
        "id": "tTAk_My0LKZP",
        "outputId": "e676dd6f-1311-4a98-d5a0-333c6256fcc0"
      },
      "outputs": [
        {
          "output_type": "stream",
          "name": "stdout",
          "text": [
            "Collecting onnxruntime\n",
            "  Downloading onnxruntime-1.16.3-cp310-cp310-manylinux_2_17_x86_64.manylinux2014_x86_64.whl (6.4 MB)\n",
            "\u001b[2K     \u001b[90m━━━━━━━━━━━━━━━━━━━━━━━━━━━━━━━━━━━━━━━━\u001b[0m \u001b[32m6.4/6.4 MB\u001b[0m \u001b[31m21.5 MB/s\u001b[0m eta \u001b[36m0:00:00\u001b[0m\n",
            "\u001b[?25hCollecting coloredlogs (from onnxruntime)\n",
            "  Downloading coloredlogs-15.0.1-py2.py3-none-any.whl (46 kB)\n",
            "\u001b[2K     \u001b[90m━━━━━━━━━━━━━━━━━━━━━━━━━━━━━━━━━━━━━━━━\u001b[0m \u001b[32m46.0/46.0 kB\u001b[0m \u001b[31m5.4 MB/s\u001b[0m eta \u001b[36m0:00:00\u001b[0m\n",
            "\u001b[?25hRequirement already satisfied: flatbuffers in /usr/local/lib/python3.10/dist-packages (from onnxruntime) (23.5.26)\n",
            "Requirement already satisfied: numpy>=1.21.6 in /usr/local/lib/python3.10/dist-packages (from onnxruntime) (1.23.5)\n",
            "Requirement already satisfied: packaging in /usr/local/lib/python3.10/dist-packages (from onnxruntime) (23.2)\n",
            "Requirement already satisfied: protobuf in /usr/local/lib/python3.10/dist-packages (from onnxruntime) (3.20.3)\n",
            "Requirement already satisfied: sympy in /usr/local/lib/python3.10/dist-packages (from onnxruntime) (1.12)\n",
            "Collecting humanfriendly>=9.1 (from coloredlogs->onnxruntime)\n",
            "  Downloading humanfriendly-10.0-py2.py3-none-any.whl (86 kB)\n",
            "\u001b[2K     \u001b[90m━━━━━━━━━━━━━━━━━━━━━━━━━━━━━━━━━━━━━━━━\u001b[0m \u001b[32m86.8/86.8 kB\u001b[0m \u001b[31m13.3 MB/s\u001b[0m eta \u001b[36m0:00:00\u001b[0m\n",
            "\u001b[?25hRequirement already satisfied: mpmath>=0.19 in /usr/local/lib/python3.10/dist-packages (from sympy->onnxruntime) (1.3.0)\n",
            "Installing collected packages: humanfriendly, coloredlogs, onnxruntime\n",
            "Successfully installed coloredlogs-15.0.1 humanfriendly-10.0 onnxruntime-1.16.3\n"
          ]
        }
      ],
      "source": [
        "!pip install onnxruntime"
      ]
    },
    {
      "cell_type": "markdown",
      "source": [
        "Let's convert the model to the ONNX format and compare the predictions with the original model."
      ],
      "metadata": {
        "id": "_DXaEFvD3-YJ"
      }
    },
    {
      "cell_type": "code",
      "execution_count": 31,
      "metadata": {
        "id": "UwT_6KZtKZeA",
        "colab": {
          "base_uri": "https://localhost:8080/"
        },
        "outputId": "cd70a7d8-c90f-46df-f0c8-fdca0016ff95"
      },
      "outputs": [
        {
          "output_type": "stream",
          "name": "stderr",
          "text": [
            "WARNING:tf2onnx.tf_loader:Could not search for non-variable resources. Concrete function internal representation may have changed.\n"
          ]
        }
      ],
      "source": [
        "import tf2onnx\n",
        "import onnxruntime as rt\n",
        "\n",
        "spec = (tf.TensorSpec((None, 784), tf.float32, name=\"input\"),)\n",
        "output_path = network.name + \".onnx\"\n",
        "\n",
        "model_proto, _ = tf2onnx.convert.from_keras(network, input_signature=spec, opset=13, output_path=output_path)\n",
        "output_names = [n.name for n in model_proto.graph.output]\n"
      ]
    },
    {
      "cell_type": "code",
      "execution_count": 32,
      "metadata": {
        "colab": {
          "base_uri": "https://localhost:8080/",
          "height": 423
        },
        "id": "4LiHcT0_Lnkz",
        "outputId": "e87076d2-1b80-42ac-eb5a-a01d741012ed"
      },
      "outputs": [
        {
          "output_type": "execute_result",
          "data": {
            "text/plain": [
              "      Keras model predictions  ONNX model predictions\n",
              "0                           7                       7\n",
              "1                           2                       2\n",
              "2                           1                       1\n",
              "3                           0                       0\n",
              "4                           4                       4\n",
              "...                       ...                     ...\n",
              "9995                        2                       2\n",
              "9996                        3                       3\n",
              "9997                        4                       4\n",
              "9998                        5                       5\n",
              "9999                        6                       6\n",
              "\n",
              "[10000 rows x 2 columns]"
            ],
            "text/html": [
              "\n",
              "  <div id=\"df-84c1899a-7436-44f6-a42b-27f65cf07e7a\" class=\"colab-df-container\">\n",
              "    <div>\n",
              "<style scoped>\n",
              "    .dataframe tbody tr th:only-of-type {\n",
              "        vertical-align: middle;\n",
              "    }\n",
              "\n",
              "    .dataframe tbody tr th {\n",
              "        vertical-align: top;\n",
              "    }\n",
              "\n",
              "    .dataframe thead th {\n",
              "        text-align: right;\n",
              "    }\n",
              "</style>\n",
              "<table border=\"1\" class=\"dataframe\">\n",
              "  <thead>\n",
              "    <tr style=\"text-align: right;\">\n",
              "      <th></th>\n",
              "      <th>Keras model predictions</th>\n",
              "      <th>ONNX model predictions</th>\n",
              "    </tr>\n",
              "  </thead>\n",
              "  <tbody>\n",
              "    <tr>\n",
              "      <th>0</th>\n",
              "      <td>7</td>\n",
              "      <td>7</td>\n",
              "    </tr>\n",
              "    <tr>\n",
              "      <th>1</th>\n",
              "      <td>2</td>\n",
              "      <td>2</td>\n",
              "    </tr>\n",
              "    <tr>\n",
              "      <th>2</th>\n",
              "      <td>1</td>\n",
              "      <td>1</td>\n",
              "    </tr>\n",
              "    <tr>\n",
              "      <th>3</th>\n",
              "      <td>0</td>\n",
              "      <td>0</td>\n",
              "    </tr>\n",
              "    <tr>\n",
              "      <th>4</th>\n",
              "      <td>4</td>\n",
              "      <td>4</td>\n",
              "    </tr>\n",
              "    <tr>\n",
              "      <th>...</th>\n",
              "      <td>...</td>\n",
              "      <td>...</td>\n",
              "    </tr>\n",
              "    <tr>\n",
              "      <th>9995</th>\n",
              "      <td>2</td>\n",
              "      <td>2</td>\n",
              "    </tr>\n",
              "    <tr>\n",
              "      <th>9996</th>\n",
              "      <td>3</td>\n",
              "      <td>3</td>\n",
              "    </tr>\n",
              "    <tr>\n",
              "      <th>9997</th>\n",
              "      <td>4</td>\n",
              "      <td>4</td>\n",
              "    </tr>\n",
              "    <tr>\n",
              "      <th>9998</th>\n",
              "      <td>5</td>\n",
              "      <td>5</td>\n",
              "    </tr>\n",
              "    <tr>\n",
              "      <th>9999</th>\n",
              "      <td>6</td>\n",
              "      <td>6</td>\n",
              "    </tr>\n",
              "  </tbody>\n",
              "</table>\n",
              "<p>10000 rows × 2 columns</p>\n",
              "</div>\n",
              "    <div class=\"colab-df-buttons\">\n",
              "\n",
              "  <div class=\"colab-df-container\">\n",
              "    <button class=\"colab-df-convert\" onclick=\"convertToInteractive('df-84c1899a-7436-44f6-a42b-27f65cf07e7a')\"\n",
              "            title=\"Convert this dataframe to an interactive table.\"\n",
              "            style=\"display:none;\">\n",
              "\n",
              "  <svg xmlns=\"http://www.w3.org/2000/svg\" height=\"24px\" viewBox=\"0 -960 960 960\">\n",
              "    <path d=\"M120-120v-720h720v720H120Zm60-500h600v-160H180v160Zm220 220h160v-160H400v160Zm0 220h160v-160H400v160ZM180-400h160v-160H180v160Zm440 0h160v-160H620v160ZM180-180h160v-160H180v160Zm440 0h160v-160H620v160Z\"/>\n",
              "  </svg>\n",
              "    </button>\n",
              "\n",
              "  <style>\n",
              "    .colab-df-container {\n",
              "      display:flex;\n",
              "      gap: 12px;\n",
              "    }\n",
              "\n",
              "    .colab-df-convert {\n",
              "      background-color: #E8F0FE;\n",
              "      border: none;\n",
              "      border-radius: 50%;\n",
              "      cursor: pointer;\n",
              "      display: none;\n",
              "      fill: #1967D2;\n",
              "      height: 32px;\n",
              "      padding: 0 0 0 0;\n",
              "      width: 32px;\n",
              "    }\n",
              "\n",
              "    .colab-df-convert:hover {\n",
              "      background-color: #E2EBFA;\n",
              "      box-shadow: 0px 1px 2px rgba(60, 64, 67, 0.3), 0px 1px 3px 1px rgba(60, 64, 67, 0.15);\n",
              "      fill: #174EA6;\n",
              "    }\n",
              "\n",
              "    .colab-df-buttons div {\n",
              "      margin-bottom: 4px;\n",
              "    }\n",
              "\n",
              "    [theme=dark] .colab-df-convert {\n",
              "      background-color: #3B4455;\n",
              "      fill: #D2E3FC;\n",
              "    }\n",
              "\n",
              "    [theme=dark] .colab-df-convert:hover {\n",
              "      background-color: #434B5C;\n",
              "      box-shadow: 0px 1px 3px 1px rgba(0, 0, 0, 0.15);\n",
              "      filter: drop-shadow(0px 1px 2px rgba(0, 0, 0, 0.3));\n",
              "      fill: #FFFFFF;\n",
              "    }\n",
              "  </style>\n",
              "\n",
              "    <script>\n",
              "      const buttonEl =\n",
              "        document.querySelector('#df-84c1899a-7436-44f6-a42b-27f65cf07e7a button.colab-df-convert');\n",
              "      buttonEl.style.display =\n",
              "        google.colab.kernel.accessAllowed ? 'block' : 'none';\n",
              "\n",
              "      async function convertToInteractive(key) {\n",
              "        const element = document.querySelector('#df-84c1899a-7436-44f6-a42b-27f65cf07e7a');\n",
              "        const dataTable =\n",
              "          await google.colab.kernel.invokeFunction('convertToInteractive',\n",
              "                                                    [key], {});\n",
              "        if (!dataTable) return;\n",
              "\n",
              "        const docLinkHtml = 'Like what you see? Visit the ' +\n",
              "          '<a target=\"_blank\" href=https://colab.research.google.com/notebooks/data_table.ipynb>data table notebook</a>'\n",
              "          + ' to learn more about interactive tables.';\n",
              "        element.innerHTML = '';\n",
              "        dataTable['output_type'] = 'display_data';\n",
              "        await google.colab.output.renderOutput(dataTable, element);\n",
              "        const docLink = document.createElement('div');\n",
              "        docLink.innerHTML = docLinkHtml;\n",
              "        element.appendChild(docLink);\n",
              "      }\n",
              "    </script>\n",
              "  </div>\n",
              "\n",
              "\n",
              "<div id=\"df-e20a2dc9-6e1b-4bfd-88da-dcba247f305c\">\n",
              "  <button class=\"colab-df-quickchart\" onclick=\"quickchart('df-e20a2dc9-6e1b-4bfd-88da-dcba247f305c')\"\n",
              "            title=\"Suggest charts\"\n",
              "            style=\"display:none;\">\n",
              "\n",
              "<svg xmlns=\"http://www.w3.org/2000/svg\" height=\"24px\"viewBox=\"0 0 24 24\"\n",
              "     width=\"24px\">\n",
              "    <g>\n",
              "        <path d=\"M19 3H5c-1.1 0-2 .9-2 2v14c0 1.1.9 2 2 2h14c1.1 0 2-.9 2-2V5c0-1.1-.9-2-2-2zM9 17H7v-7h2v7zm4 0h-2V7h2v10zm4 0h-2v-4h2v4z\"/>\n",
              "    </g>\n",
              "</svg>\n",
              "  </button>\n",
              "\n",
              "<style>\n",
              "  .colab-df-quickchart {\n",
              "      --bg-color: #E8F0FE;\n",
              "      --fill-color: #1967D2;\n",
              "      --hover-bg-color: #E2EBFA;\n",
              "      --hover-fill-color: #174EA6;\n",
              "      --disabled-fill-color: #AAA;\n",
              "      --disabled-bg-color: #DDD;\n",
              "  }\n",
              "\n",
              "  [theme=dark] .colab-df-quickchart {\n",
              "      --bg-color: #3B4455;\n",
              "      --fill-color: #D2E3FC;\n",
              "      --hover-bg-color: #434B5C;\n",
              "      --hover-fill-color: #FFFFFF;\n",
              "      --disabled-bg-color: #3B4455;\n",
              "      --disabled-fill-color: #666;\n",
              "  }\n",
              "\n",
              "  .colab-df-quickchart {\n",
              "    background-color: var(--bg-color);\n",
              "    border: none;\n",
              "    border-radius: 50%;\n",
              "    cursor: pointer;\n",
              "    display: none;\n",
              "    fill: var(--fill-color);\n",
              "    height: 32px;\n",
              "    padding: 0;\n",
              "    width: 32px;\n",
              "  }\n",
              "\n",
              "  .colab-df-quickchart:hover {\n",
              "    background-color: var(--hover-bg-color);\n",
              "    box-shadow: 0 1px 2px rgba(60, 64, 67, 0.3), 0 1px 3px 1px rgba(60, 64, 67, 0.15);\n",
              "    fill: var(--button-hover-fill-color);\n",
              "  }\n",
              "\n",
              "  .colab-df-quickchart-complete:disabled,\n",
              "  .colab-df-quickchart-complete:disabled:hover {\n",
              "    background-color: var(--disabled-bg-color);\n",
              "    fill: var(--disabled-fill-color);\n",
              "    box-shadow: none;\n",
              "  }\n",
              "\n",
              "  .colab-df-spinner {\n",
              "    border: 2px solid var(--fill-color);\n",
              "    border-color: transparent;\n",
              "    border-bottom-color: var(--fill-color);\n",
              "    animation:\n",
              "      spin 1s steps(1) infinite;\n",
              "  }\n",
              "\n",
              "  @keyframes spin {\n",
              "    0% {\n",
              "      border-color: transparent;\n",
              "      border-bottom-color: var(--fill-color);\n",
              "      border-left-color: var(--fill-color);\n",
              "    }\n",
              "    20% {\n",
              "      border-color: transparent;\n",
              "      border-left-color: var(--fill-color);\n",
              "      border-top-color: var(--fill-color);\n",
              "    }\n",
              "    30% {\n",
              "      border-color: transparent;\n",
              "      border-left-color: var(--fill-color);\n",
              "      border-top-color: var(--fill-color);\n",
              "      border-right-color: var(--fill-color);\n",
              "    }\n",
              "    40% {\n",
              "      border-color: transparent;\n",
              "      border-right-color: var(--fill-color);\n",
              "      border-top-color: var(--fill-color);\n",
              "    }\n",
              "    60% {\n",
              "      border-color: transparent;\n",
              "      border-right-color: var(--fill-color);\n",
              "    }\n",
              "    80% {\n",
              "      border-color: transparent;\n",
              "      border-right-color: var(--fill-color);\n",
              "      border-bottom-color: var(--fill-color);\n",
              "    }\n",
              "    90% {\n",
              "      border-color: transparent;\n",
              "      border-bottom-color: var(--fill-color);\n",
              "    }\n",
              "  }\n",
              "</style>\n",
              "\n",
              "  <script>\n",
              "    async function quickchart(key) {\n",
              "      const quickchartButtonEl =\n",
              "        document.querySelector('#' + key + ' button');\n",
              "      quickchartButtonEl.disabled = true;  // To prevent multiple clicks.\n",
              "      quickchartButtonEl.classList.add('colab-df-spinner');\n",
              "      try {\n",
              "        const charts = await google.colab.kernel.invokeFunction(\n",
              "            'suggestCharts', [key], {});\n",
              "      } catch (error) {\n",
              "        console.error('Error during call to suggestCharts:', error);\n",
              "      }\n",
              "      quickchartButtonEl.classList.remove('colab-df-spinner');\n",
              "      quickchartButtonEl.classList.add('colab-df-quickchart-complete');\n",
              "    }\n",
              "    (() => {\n",
              "      let quickchartButtonEl =\n",
              "        document.querySelector('#df-e20a2dc9-6e1b-4bfd-88da-dcba247f305c button');\n",
              "      quickchartButtonEl.style.display =\n",
              "        google.colab.kernel.accessAllowed ? 'block' : 'none';\n",
              "    })();\n",
              "  </script>\n",
              "</div>\n",
              "    </div>\n",
              "  </div>\n"
            ]
          },
          "metadata": {},
          "execution_count": 32
        }
      ],
      "source": [
        "providers = ['CPUExecutionProvider']\n",
        "m = rt.InferenceSession(output_path, providers=providers)\n",
        "onnx_pred =  np.argmax(m.run(output_names, {\"input\": test_images_transformed}), axis=2)\n",
        "onnx_preds = onnx_pred[0]\n",
        "\n",
        "# make sure ONNX and keras have the same results\n",
        "np.testing.assert_allclose(preds, onnx_preds, rtol=1e-10)\n",
        "\n",
        "preds_df = pd.DataFrame({'Keras model predictions': preds[:], 'ONNX model predictions': onnx_preds[:]})\n",
        "#preds_df = pd.DataFrame(np.array([preds, onnx_pred[0]]), columns=['Keras model predictions', 'ONNX model predictions'])\n",
        "preds_df"
      ]
    },
    {
      "cell_type": "markdown",
      "source": [
        "Let's make an archive of the model we saved via the Keras API."
      ],
      "metadata": {
        "id": "YoH_kvRu7zVz"
      }
    },
    {
      "cell_type": "code",
      "execution_count": 38,
      "metadata": {
        "colab": {
          "base_uri": "https://localhost:8080/"
        },
        "id": "tOt7f9aPNleE",
        "outputId": "1eb0bdf8-16f5-44e8-eaf3-cd87c50e9692"
      },
      "outputs": [
        {
          "output_type": "stream",
          "name": "stdout",
          "text": [
            "sample_data  sequential.onnx  sequential.tar.gz  temp\n"
          ]
        }
      ],
      "source": [
        "!tar cvfz sequential.tar.gz temp/sequential"
      ]
    },
    {
      "cell_type": "code",
      "source": [],
      "metadata": {
        "id": "4hryev4pJ6JX"
      },
      "execution_count": null,
      "outputs": []
    }
  ],
  "metadata": {
    "accelerator": "GPU",
    "colab": {
      "provenance": []
    },
    "kernelspec": {
      "display_name": "Python 3 (ipykernel)",
      "language": "python",
      "name": "python3"
    },
    "language_info": {
      "codemirror_mode": {
        "name": "ipython",
        "version": 3
      },
      "file_extension": ".py",
      "mimetype": "text/x-python",
      "name": "python",
      "nbconvert_exporter": "python",
      "pygments_lexer": "ipython3",
      "version": "3.11.0rc1"
    }
  },
  "nbformat": 4,
  "nbformat_minor": 0
}