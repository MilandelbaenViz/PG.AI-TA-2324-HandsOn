{
  "nbformat": 4,
  "nbformat_minor": 0,
  "metadata": {
    "kernelspec": {
      "display_name": "Python 3",
      "language": "python",
      "name": "python3"
    },
    "language_info": {
      "codemirror_mode": {
        "name": "ipython",
        "version": 3
      },
      "file_extension": ".py",
      "mimetype": "text/x-python",
      "name": "python",
      "nbconvert_exporter": "python",
      "pygments_lexer": "ipython3",
      "version": "3.5.2"
    },
    "colab": {
      "provenance": []
    }
  },
  "cells": [
    {
      "cell_type": "markdown",
      "metadata": {
        "id": "P2f8N4D-4NmU"
      },
      "source": [
        "# NLP Notebook 1: Naive IMDB Classifier"
      ]
    },
    {
      "cell_type": "code",
      "metadata": {
        "id": "dqsrt-Je4NmX"
      },
      "source": [
        "%matplotlib inline\n",
        "import keras"
      ],
      "execution_count": null,
      "outputs": []
    },
    {
      "cell_type": "markdown",
      "metadata": {
        "id": "gh2OvKQj4Nma"
      },
      "source": [
        "## The IMDB dataset\n",
        "\n",
        "\n",
        "We'll be working with \"IMDB dataset\", a set of 50,000 highly-polarized reviews from the Internet Movie Database. They are split into 25,000\n",
        "reviews for training and 25,000 reviews for testing, each set consisting in 50% negative and 50% positive reviews.\n",
        "\n",
        "Why do we have these two separate training and test sets? You should never test a machine learning model on the same data that you used to\n",
        "train it! Just because a model performs well on its training data doesn't mean that it will perform well on data it has never seen, and\n",
        "what you actually care about is your model's performance on new data (since you already know the labels of your training data -- obviously\n",
        "you don't need your model to predict those). For instance, it is possible that your model could end up merely _memorizing_ a mapping between\n",
        "your training samples and their targets -- which would be completely useless for the task of predicting targets for data never seen before.\n",
        "\n",
        "Just like the MNIST dataset, the IMDB dataset comes packaged with Keras. It has already been preprocessed: the reviews (sequences of words)\n",
        "have been turned into sequences of integers, where each integer stands for a specific word in a dictionary.\n",
        "\n",
        "The following code will load the dataset (when you run it for the first time, about 80MB of data will be downloaded to your machine):"
      ]
    },
    {
      "cell_type": "code",
      "metadata": {
        "id": "OHd724ya4Nma",
        "colab": {
          "base_uri": "https://localhost:8080/"
        },
        "outputId": "5d827f25-0954-486d-df61-206716c2d2b2"
      },
      "source": [
        "from keras.datasets import imdb\n",
        "\n",
        "vocab_size = 10000\n",
        "(train_data, train_labels), (test_data, test_labels) = imdb.load_data(num_words=vocab_size)"
      ],
      "execution_count": null,
      "outputs": [
        {
          "output_type": "stream",
          "name": "stdout",
          "text": [
            "Downloading data from https://storage.googleapis.com/tensorflow/tf-keras-datasets/imdb.npz\n",
            "17465344/17464789 [==============================] - 0s 0us/step\n",
            "17473536/17464789 [==============================] - 0s 0us/step\n"
          ]
        }
      ]
    },
    {
      "cell_type": "code",
      "metadata": {
        "colab": {
          "base_uri": "https://localhost:8080/"
        },
        "id": "lbkwpy0qsp4T",
        "outputId": "8c9d2288-61a9-4c39-edea-4231b2145c38"
      },
      "source": [
        "train_data.shape, len(train_data[0]), len(train_data[1])"
      ],
      "execution_count": null,
      "outputs": [
        {
          "output_type": "execute_result",
          "data": {
            "text/plain": [
              "((25000,), 218, 189)"
            ]
          },
          "metadata": {},
          "execution_count": 3
        }
      ]
    },
    {
      "cell_type": "markdown",
      "metadata": {
        "id": "6aUSIfy84Nmb"
      },
      "source": [
        "\n",
        "The argument `num_words=10000` means that we will only keep the top 10,000 most frequently occurring words in the training data. Rare words\n",
        "will be discarded. This allows us to work with vector data of manageable size.\n",
        "\n",
        "The variables `train_data` and `test_data` are lists of reviews, each review being a list of word indices (encoding a sequence of words).\n",
        "`train_labels` and `test_labels` are lists of 0s and 1s, where 0 stands for \"negative\" and 1 stands for \"positive\":"
      ]
    },
    {
      "cell_type": "code",
      "metadata": {
        "scrolled": false,
        "colab": {
          "base_uri": "https://localhost:8080/"
        },
        "id": "fL4RFOUV4Nmb",
        "outputId": "92e87465-2b6d-4261-bf2d-ed0d16069b90"
      },
      "source": [
        "train_data[0]"
      ],
      "execution_count": null,
      "outputs": [
        {
          "output_type": "execute_result",
          "data": {
            "text/plain": [
              "[1,\n",
              " 14,\n",
              " 22,\n",
              " 16,\n",
              " 43,\n",
              " 530,\n",
              " 973,\n",
              " 1622,\n",
              " 1385,\n",
              " 65,\n",
              " 458,\n",
              " 4468,\n",
              " 66,\n",
              " 3941,\n",
              " 4,\n",
              " 173,\n",
              " 36,\n",
              " 256,\n",
              " 5,\n",
              " 25,\n",
              " 100,\n",
              " 43,\n",
              " 838,\n",
              " 112,\n",
              " 50,\n",
              " 670,\n",
              " 2,\n",
              " 9,\n",
              " 35,\n",
              " 480,\n",
              " 284,\n",
              " 5,\n",
              " 150,\n",
              " 4,\n",
              " 172,\n",
              " 112,\n",
              " 167,\n",
              " 2,\n",
              " 336,\n",
              " 385,\n",
              " 39,\n",
              " 4,\n",
              " 172,\n",
              " 4536,\n",
              " 1111,\n",
              " 17,\n",
              " 546,\n",
              " 38,\n",
              " 13,\n",
              " 447,\n",
              " 4,\n",
              " 192,\n",
              " 50,\n",
              " 16,\n",
              " 6,\n",
              " 147,\n",
              " 2025,\n",
              " 19,\n",
              " 14,\n",
              " 22,\n",
              " 4,\n",
              " 1920,\n",
              " 4613,\n",
              " 469,\n",
              " 4,\n",
              " 22,\n",
              " 71,\n",
              " 87,\n",
              " 12,\n",
              " 16,\n",
              " 43,\n",
              " 530,\n",
              " 38,\n",
              " 76,\n",
              " 15,\n",
              " 13,\n",
              " 1247,\n",
              " 4,\n",
              " 22,\n",
              " 17,\n",
              " 515,\n",
              " 17,\n",
              " 12,\n",
              " 16,\n",
              " 626,\n",
              " 18,\n",
              " 2,\n",
              " 5,\n",
              " 62,\n",
              " 386,\n",
              " 12,\n",
              " 8,\n",
              " 316,\n",
              " 8,\n",
              " 106,\n",
              " 5,\n",
              " 4,\n",
              " 2223,\n",
              " 5244,\n",
              " 16,\n",
              " 480,\n",
              " 66,\n",
              " 3785,\n",
              " 33,\n",
              " 4,\n",
              " 130,\n",
              " 12,\n",
              " 16,\n",
              " 38,\n",
              " 619,\n",
              " 5,\n",
              " 25,\n",
              " 124,\n",
              " 51,\n",
              " 36,\n",
              " 135,\n",
              " 48,\n",
              " 25,\n",
              " 1415,\n",
              " 33,\n",
              " 6,\n",
              " 22,\n",
              " 12,\n",
              " 215,\n",
              " 28,\n",
              " 77,\n",
              " 52,\n",
              " 5,\n",
              " 14,\n",
              " 407,\n",
              " 16,\n",
              " 82,\n",
              " 2,\n",
              " 8,\n",
              " 4,\n",
              " 107,\n",
              " 117,\n",
              " 5952,\n",
              " 15,\n",
              " 256,\n",
              " 4,\n",
              " 2,\n",
              " 7,\n",
              " 3766,\n",
              " 5,\n",
              " 723,\n",
              " 36,\n",
              " 71,\n",
              " 43,\n",
              " 530,\n",
              " 476,\n",
              " 26,\n",
              " 400,\n",
              " 317,\n",
              " 46,\n",
              " 7,\n",
              " 4,\n",
              " 2,\n",
              " 1029,\n",
              " 13,\n",
              " 104,\n",
              " 88,\n",
              " 4,\n",
              " 381,\n",
              " 15,\n",
              " 297,\n",
              " 98,\n",
              " 32,\n",
              " 2071,\n",
              " 56,\n",
              " 26,\n",
              " 141,\n",
              " 6,\n",
              " 194,\n",
              " 7486,\n",
              " 18,\n",
              " 4,\n",
              " 226,\n",
              " 22,\n",
              " 21,\n",
              " 134,\n",
              " 476,\n",
              " 26,\n",
              " 480,\n",
              " 5,\n",
              " 144,\n",
              " 30,\n",
              " 5535,\n",
              " 18,\n",
              " 51,\n",
              " 36,\n",
              " 28,\n",
              " 224,\n",
              " 92,\n",
              " 25,\n",
              " 104,\n",
              " 4,\n",
              " 226,\n",
              " 65,\n",
              " 16,\n",
              " 38,\n",
              " 1334,\n",
              " 88,\n",
              " 12,\n",
              " 16,\n",
              " 283,\n",
              " 5,\n",
              " 16,\n",
              " 4472,\n",
              " 113,\n",
              " 103,\n",
              " 32,\n",
              " 15,\n",
              " 16,\n",
              " 5345,\n",
              " 19,\n",
              " 178,\n",
              " 32]"
            ]
          },
          "metadata": {},
          "execution_count": 4
        }
      ]
    },
    {
      "cell_type": "code",
      "metadata": {
        "colab": {
          "base_uri": "https://localhost:8080/"
        },
        "id": "u3GoRa104Nmb",
        "outputId": "48ce1a2b-b8a8-47b5-d406-935d14c0ef3d"
      },
      "source": [
        "train_labels[0]"
      ],
      "execution_count": null,
      "outputs": [
        {
          "output_type": "execute_result",
          "data": {
            "text/plain": [
              "1"
            ]
          },
          "metadata": {},
          "execution_count": 5
        }
      ]
    },
    {
      "cell_type": "markdown",
      "metadata": {
        "id": "E9QmNu8I4Nmc"
      },
      "source": [
        "Since we restricted ourselves to the top 10,000 most frequent words, no word index will exceed 10,000:"
      ]
    },
    {
      "cell_type": "code",
      "metadata": {
        "colab": {
          "base_uri": "https://localhost:8080/"
        },
        "id": "wbCg9RU-4Nmc",
        "outputId": "63634a18-4856-461f-8ede-490bcd365296"
      },
      "source": [
        "max([max(sequence) for sequence in train_data])"
      ],
      "execution_count": null,
      "outputs": [
        {
          "output_type": "execute_result",
          "data": {
            "text/plain": [
              "9999"
            ]
          },
          "metadata": {},
          "execution_count": 6
        }
      ]
    },
    {
      "cell_type": "markdown",
      "metadata": {
        "id": "3ffEqy014Nmc"
      },
      "source": [
        "For kicks, here's how you can quickly decode one of these reviews back to English words. First we create a function to take the first n elements of a dictionary (for display purposes)."
      ]
    },
    {
      "cell_type": "code",
      "metadata": {
        "id": "GVE49bwTw6Hv"
      },
      "source": [
        "from more_itertools import take\n",
        "\n",
        "def dict_head(dict, n):\n",
        "  return take(n, dict.items())"
      ],
      "execution_count": null,
      "outputs": []
    },
    {
      "cell_type": "code",
      "metadata": {
        "colab": {
          "base_uri": "https://localhost:8080/"
        },
        "id": "0Xofa_5T4Nmd",
        "outputId": "45e65b5d-cae0-4f4a-9b18-1e491e0474f7"
      },
      "source": [
        "# word_index is a dictionary mapping words to an integer index\n",
        "word_index = imdb.get_word_index()\n",
        "dict_head(word_index, 5), len(word_index.keys())"
      ],
      "execution_count": null,
      "outputs": [
        {
          "output_type": "stream",
          "name": "stdout",
          "text": [
            "Downloading data from https://storage.googleapis.com/tensorflow/tf-keras-datasets/imdb_word_index.json\n",
            "1646592/1641221 [==============================] - 0s 0us/step\n",
            "1654784/1641221 [==============================] - 0s 0us/step\n"
          ]
        },
        {
          "output_type": "execute_result",
          "data": {
            "text/plain": [
              "([('fawn', 34701),\n",
              "  ('tsukino', 52006),\n",
              "  ('nunnery', 52007),\n",
              "  ('sonja', 16816),\n",
              "  ('vani', 63951)],\n",
              " 88584)"
            ]
          },
          "metadata": {},
          "execution_count": 8
        }
      ]
    },
    {
      "cell_type": "markdown",
      "metadata": {
        "id": "kySNMm04SCEy"
      },
      "source": [
        "#### Exercise 1\n",
        "**TODO**: Reverse the dictionary content (switch keys and values) and display a review in English (instead of in numbers). Use 'xxunk' for an unknown token in the vocab.\n",
        "\n",
        "Note: the first 3 indices in the vocab are special tokens. You need to offset your indexing by 3."
      ]
    },
    {
      "cell_type": "code",
      "metadata": {
        "colab": {
          "base_uri": "https://localhost:8080/"
        },
        "id": "pAjzgxlxugMo",
        "outputId": "8ae8a566-ae48-4867-f6b7-c49b72382f7a"
      },
      "source": [
        "reverse_word_index = #\n",
        "dict_head(reverse_word_index, 5)"
      ],
      "execution_count": null,
      "outputs": [
        {
          "output_type": "execute_result",
          "data": {
            "text/plain": [
              "[(34701, 'fawn'),\n",
              " (52006, 'tsukino'),\n",
              " (52007, 'nunnery'),\n",
              " (16816, 'sonja'),\n",
              " (63951, 'vani')]"
            ]
          },
          "metadata": {},
          "execution_count": 9
        }
      ]
    },
    {
      "cell_type": "code",
      "metadata": {
        "colab": {
          "base_uri": "https://localhost:8080/",
          "height": 120
        },
        "id": "ZfF2SSmqw1wD",
        "outputId": "ef27001b-756d-4d0c-fb7c-1001c6c6e16f"
      },
      "source": [
        "decoded_review = #\n",
        "decoded_review"
      ],
      "execution_count": null,
      "outputs": [
        {
          "output_type": "execute_result",
          "data": {
            "application/vnd.google.colaboratory.intrinsic+json": {
              "type": "string"
            },
            "text/plain": [
              "\"xxunk this film was just brilliant casting location scenery story direction everyone's really suited the part they played and you could just imagine being there robert xxunk is an amazing actor and now the same being director xxunk father came from the same scottish island as myself so i loved the fact there was a real connection with this film the witty remarks throughout the film were great it was just brilliant so much that i bought the film as soon as it was released for xxunk and would recommend it to everyone to watch and the fly fishing was amazing really cried at the end it was so sad and you know what they say if you cry at a film it must have been good and this definitely was also xxunk to the two little boy's that played the xxunk of norman and paul they were just brilliant children are often left out of the xxunk list i think because the stars that play them all grown up are such a big profile for the whole film but these children are amazing and should be praised for what they have done don't you think the whole story was so lovely because it was true and was someone's life after all that was shared with us all\""
            ]
          },
          "metadata": {},
          "execution_count": 10
        }
      ]
    },
    {
      "cell_type": "markdown",
      "metadata": {
        "id": "V7zVvPrn4Nmd"
      },
      "source": [
        "## Preparing the data\n",
        "\n",
        "\n",
        "Next we turn our lists of indices into tensors. There are two ways we could do that - we'll cover more options in more detail later on:\n",
        "\n",
        "* We could pad our lists so that they all have the same length, and turn them into an integer tensor of shape `(samples, word_indices)`,\n",
        "then use as first layer in our network a layer capable of handling such integer tensors (the `Embedding` layer, which we will cover in\n",
        "detail later).\n",
        "* We could one-hot-encode our lists to turn them into vectors of 0s and 1s. Concretely, this would mean for instance turning the sequence\n",
        "`[3, 5]` into a 10,000-dimensional vector that would be all-zeros except for indices 3 and 5, which would be ones. Then we could use as\n",
        "first layer in our network a `Dense` layer, capable of handling floating point vector data.\n",
        "\n",
        "We will go with the latter solution. Let's vectorize our data, which we will do manually for maximum clarity."
      ]
    },
    {
      "cell_type": "markdown",
      "metadata": {
        "id": "LTne7X2FWxbr"
      },
      "source": [
        "#### Exercise 2\n",
        "**TODO**: Create a one-hot encoded representation for each review in the train- and test data."
      ]
    },
    {
      "cell_type": "code",
      "metadata": {
        "id": "TSPABNPg4Nme"
      },
      "source": [
        "import numpy as np\n",
        "\n",
        "def vectorize_sequences(sequences, dimension=vocab_size):\n",
        "    #\n",
        "\n",
        "# Our vectorized training data\n",
        "x_train = vectorize_sequences(train_data)\n",
        "# Our vectorized test data\n",
        "x_test = vectorize_sequences(test_data)"
      ],
      "execution_count": null,
      "outputs": []
    },
    {
      "cell_type": "markdown",
      "metadata": {
        "id": "n3MgKJ1j4Nme"
      },
      "source": [
        "Here's what our samples look like now:"
      ]
    },
    {
      "cell_type": "code",
      "metadata": {
        "colab": {
          "base_uri": "https://localhost:8080/"
        },
        "id": "NMl01vUx4Nme",
        "outputId": "2b801a3d-edd6-4bd7-e3d1-3e2cf294996a"
      },
      "source": [
        "x_train[0]"
      ],
      "execution_count": null,
      "outputs": [
        {
          "output_type": "execute_result",
          "data": {
            "text/plain": [
              "array([0., 1., 1., ..., 0., 0., 0.])"
            ]
          },
          "metadata": {},
          "execution_count": 12
        }
      ]
    },
    {
      "cell_type": "code",
      "metadata": {
        "colab": {
          "base_uri": "https://localhost:8080/"
        },
        "id": "vhePODWgXgqF",
        "outputId": "2336acfa-1452-4b18-a98b-e1c7384724c2"
      },
      "source": [
        "x_train.shape"
      ],
      "execution_count": null,
      "outputs": [
        {
          "output_type": "execute_result",
          "data": {
            "text/plain": [
              "(25000, 10000)"
            ]
          },
          "metadata": {},
          "execution_count": 13
        }
      ]
    },
    {
      "cell_type": "markdown",
      "metadata": {
        "id": "wWHe2rJd4Nme"
      },
      "source": [
        "We should also vectorize our labels, which is straightforward:"
      ]
    },
    {
      "cell_type": "code",
      "metadata": {
        "id": "M1xqdPdv4Nmf"
      },
      "source": [
        "# Our vectorized labels\n",
        "y_train = np.asarray(train_labels).astype('float32')\n",
        "y_test = np.asarray(test_labels).astype('float32')"
      ],
      "execution_count": null,
      "outputs": []
    },
    {
      "cell_type": "markdown",
      "metadata": {
        "id": "z-ys23DY4Nmf"
      },
      "source": [
        "Now our data is ready to be fed into a neural network."
      ]
    },
    {
      "cell_type": "markdown",
      "metadata": {
        "id": "tjglxCCL4X05"
      },
      "source": [
        "## Building our networks"
      ]
    },
    {
      "cell_type": "markdown",
      "metadata": {
        "id": "rvlzMsIU4Nmf"
      },
      "source": [
        "### Feedforward\n",
        "\n",
        "\n",
        "Our input data is simply vectors, and our labels are scalars (1s and 0s): this is the easiest setup you will ever encounter. A type of\n",
        "network that performs well on such a problem would be a simple stack of fully-connected (`Dense`) layers with `relu` activations: `Dense(16,\n",
        "activation='relu')`\n",
        "\n",
        "The argument being passed to each `Dense` layer (16) is the number of \"hidden units\" of the layer. What's a hidden unit? It's a dimension\n",
        "in the representation space of the layer. You may remember from the previous exercise that each such `Dense` layer with a `relu` activation implements\n",
        "the following chain of tensor operations:\n",
        "\n",
        "`output = relu(dot(W, input) + b)`\n",
        "\n",
        "Having 16 hidden units means that the weight matrix `W` will have shape `(input_dimension, 16)`, i.e. the dot product with `W` will project the\n",
        "input data onto a 16-dimensional representation space (and then we would add the bias vector `b` and apply the `relu` operation). You can\n",
        "intuitively understand the dimensionality of your representation space as \"how much freedom you are allowing the network to have when\n",
        "learning internal representations\". Having more hidden units (a higher-dimensional representation space) allows your network to learn more\n",
        "complex representations, but it makes your network more computationally expensive and may lead to learning unwanted patterns (patterns that\n",
        "will improve performance on the training data but not on the test data).\n",
        "\n",
        "There are two key architecture decisions to be made about such stack of dense layers:\n",
        "\n",
        "* How many layers to use.\n",
        "* How many \"hidden units\" to choose for each layer.\n",
        "\n",
        "Later on, you will learn formal principles to guide you in making these choices.\n",
        "For the time being, you will have to trust us with the following architecture choice:\n",
        "two intermediate layers with 16 hidden units each,\n",
        "and a third layer which will output the scalar prediction regarding the sentiment of the current review.\n",
        "The intermediate layers will use `relu` as their \"activation function\",\n",
        "and the final layer will use a sigmoid activation so as to output a probability\n",
        "(a score between 0 and 1, indicating how likely the sample is to have the target \"1\", i.e. how likely the review is to be positive).\n",
        "A `relu` (rectified linear unit) is a function meant to zero-out negative values,\n",
        "while a sigmoid \"squashes\" arbitrary values into the `[0, 1]` interval, thus outputting something that can be interpreted as a probability."
      ]
    },
    {
      "cell_type": "markdown",
      "metadata": {
        "id": "rvavO2wg4Nmf"
      },
      "source": [
        "Here's what our network looks like:\n",
        "\n",
        "![3-layer network](https://s3.amazonaws.com/book.keras.io/img/ch3/3_layer_network.png)"
      ]
    },
    {
      "cell_type": "markdown",
      "metadata": {
        "id": "YEaDR8o74Nmf"
      },
      "source": [
        "And here's the Keras implementation, very similar to the first MNIST example you saw previously:"
      ]
    },
    {
      "cell_type": "code",
      "metadata": {
        "id": "53VO1zJ84Nmg"
      },
      "source": [
        "from keras import models\n",
        "from keras import layers\n",
        "\n",
        "model = models.Sequential()\n",
        "model.add(layers.Dense(16, activation='relu', input_shape=(vocab_size,)))\n",
        "model.add(layers.Dense(16, activation='relu'))\n",
        "model.add(layers.Dense(1, activation='sigmoid'))"
      ],
      "execution_count": null,
      "outputs": []
    },
    {
      "cell_type": "markdown",
      "metadata": {
        "id": "RXnw5oov4Nmg"
      },
      "source": [
        "\n",
        "Lastly, we need to pick a loss function and an optimizer. Since we are facing a binary classification problem and the output of our network\n",
        "is a probability (we end our network with a single-unit layer with a sigmoid activation), is it best to use the `binary_crossentropy` loss.\n",
        "It isn't the only viable choice: you could use, for instance, `mean_squared_error`. But crossentropy is usually the best choice when you\n",
        "are dealing with models that output probabilities. Crossentropy is a quantity from the field of Information Theory, that measures the \"distance\"\n",
        "between probability distributions, or in our case, between the ground-truth distribution and our predictions.\n",
        "\n",
        "Here's the step where we configure our model with the `rmsprop` optimizer and the `binary_crossentropy` loss function. Note that we will\n",
        "also monitor accuracy during training."
      ]
    },
    {
      "cell_type": "code",
      "metadata": {
        "id": "jHolpBiO4Nmg",
        "colab": {
          "base_uri": "https://localhost:8080/",
          "height": 35
        },
        "outputId": "a98e29af-809b-4ce0-811e-1530067f389e"
      },
      "source": [
        "model.compile(optimizer='rmsprop',\n",
        "              loss='binary_crossentropy',\n",
        "              metrics=['accuracy'])\n",
        "\n",
        "'''\n",
        "or\n",
        "model.compile(optimizer=tf.keras.optimizers.RMSprop(learning_rate=0.001),\n",
        "              loss='binary_crossentropy',\n",
        "              metrics=['accuracy'])\n",
        "'''"
      ],
      "execution_count": null,
      "outputs": [
        {
          "output_type": "execute_result",
          "data": {
            "application/vnd.google.colaboratory.intrinsic+json": {
              "type": "string"
            },
            "text/plain": [
              "\"\\nor\\nmodel.compile(optimizer=tf.keras.optimizers.RMSprop(learning_rate=0.001),\\n              loss='binary_crossentropy',\\n              metrics=['accuracy'])      \\n\""
            ]
          },
          "metadata": {},
          "execution_count": 16
        }
      ]
    },
    {
      "cell_type": "markdown",
      "metadata": {
        "id": "KOA2x-Lb4Nmh"
      },
      "source": [
        "### Training the model"
      ]
    },
    {
      "cell_type": "markdown",
      "metadata": {
        "collapsed": true,
        "id": "nwuVl96r4Nmi"
      },
      "source": [
        "We will now train our model for 20 epochs (20 iterations over all samples in the `x_train` and `y_train` tensors), in mini-batches of 512\n",
        "samples. At the same time we will monitor loss and accuracy on the 10,000 samples that we set apart. This is done by passing a percentage as the `validation_split` argument:"
      ]
    },
    {
      "cell_type": "code",
      "metadata": {
        "scrolled": true,
        "colab": {
          "base_uri": "https://localhost:8080/"
        },
        "id": "k9fg-zTd4Nmi",
        "outputId": "2d30f8d8-38bd-4afa-d8cf-3797ee104845"
      },
      "source": [
        "history = model.fit(x_train, y_train,\n",
        "                    epochs=20,\n",
        "                    batch_size=512,\n",
        "                    validation_split=0.2)"
      ],
      "execution_count": null,
      "outputs": [
        {
          "output_type": "stream",
          "name": "stdout",
          "text": [
            "Epoch 1/20\n",
            "40/40 [==============================] - 3s 37ms/step - loss: 0.4810 - accuracy: 0.8128 - val_loss: 0.3452 - val_accuracy: 0.8840\n",
            "Epoch 2/20\n",
            "40/40 [==============================] - 1s 31ms/step - loss: 0.2767 - accuracy: 0.9097 - val_loss: 0.3265 - val_accuracy: 0.8670\n",
            "Epoch 3/20\n",
            "40/40 [==============================] - 1s 31ms/step - loss: 0.2101 - accuracy: 0.9276 - val_loss: 0.2685 - val_accuracy: 0.8948\n",
            "Epoch 4/20\n",
            "40/40 [==============================] - 1s 30ms/step - loss: 0.1724 - accuracy: 0.9413 - val_loss: 0.2945 - val_accuracy: 0.8844\n",
            "Epoch 5/20\n",
            "40/40 [==============================] - 1s 31ms/step - loss: 0.1445 - accuracy: 0.9505 - val_loss: 0.2975 - val_accuracy: 0.8846\n",
            "Epoch 6/20\n",
            "40/40 [==============================] - 1s 31ms/step - loss: 0.1237 - accuracy: 0.9590 - val_loss: 0.3107 - val_accuracy: 0.8860\n",
            "Epoch 7/20\n",
            "40/40 [==============================] - 1s 30ms/step - loss: 0.1063 - accuracy: 0.9654 - val_loss: 0.3204 - val_accuracy: 0.8846\n",
            "Epoch 8/20\n",
            "40/40 [==============================] - 1s 30ms/step - loss: 0.0919 - accuracy: 0.9710 - val_loss: 0.3401 - val_accuracy: 0.8858\n",
            "Epoch 9/20\n",
            "40/40 [==============================] - 1s 30ms/step - loss: 0.0786 - accuracy: 0.9762 - val_loss: 0.3667 - val_accuracy: 0.8822\n",
            "Epoch 10/20\n",
            "40/40 [==============================] - 1s 30ms/step - loss: 0.0644 - accuracy: 0.9815 - val_loss: 0.3920 - val_accuracy: 0.8800\n",
            "Epoch 11/20\n",
            "40/40 [==============================] - 1s 31ms/step - loss: 0.0552 - accuracy: 0.9848 - val_loss: 0.4221 - val_accuracy: 0.8768\n",
            "Epoch 12/20\n",
            "40/40 [==============================] - 1s 30ms/step - loss: 0.0473 - accuracy: 0.9871 - val_loss: 0.4666 - val_accuracy: 0.8710\n",
            "Epoch 13/20\n",
            "40/40 [==============================] - 1s 30ms/step - loss: 0.0404 - accuracy: 0.9896 - val_loss: 0.4737 - val_accuracy: 0.8744\n",
            "Epoch 14/20\n",
            "40/40 [==============================] - 1s 30ms/step - loss: 0.0336 - accuracy: 0.9921 - val_loss: 0.5070 - val_accuracy: 0.8750\n",
            "Epoch 15/20\n",
            "40/40 [==============================] - 1s 30ms/step - loss: 0.0253 - accuracy: 0.9949 - val_loss: 0.5479 - val_accuracy: 0.8690\n",
            "Epoch 16/20\n",
            "40/40 [==============================] - 1s 30ms/step - loss: 0.0227 - accuracy: 0.9951 - val_loss: 0.5694 - val_accuracy: 0.8706\n",
            "Epoch 17/20\n",
            "40/40 [==============================] - 1s 30ms/step - loss: 0.0180 - accuracy: 0.9963 - val_loss: 0.5983 - val_accuracy: 0.8686\n",
            "Epoch 18/20\n",
            "40/40 [==============================] - 1s 30ms/step - loss: 0.0143 - accuracy: 0.9975 - val_loss: 0.6325 - val_accuracy: 0.8702\n",
            "Epoch 19/20\n",
            "40/40 [==============================] - 1s 30ms/step - loss: 0.0105 - accuracy: 0.9987 - val_loss: 0.6697 - val_accuracy: 0.8702\n",
            "Epoch 20/20\n",
            "40/40 [==============================] - 1s 30ms/step - loss: 0.0104 - accuracy: 0.9977 - val_loss: 0.7076 - val_accuracy: 0.8702\n"
          ]
        }
      ]
    },
    {
      "cell_type": "markdown",
      "metadata": {
        "id": "Xz6Alp2W4Nmi"
      },
      "source": [
        "On CPU, this will take less than two seconds per epoch -- training is over in 20 seconds. At the end of every epoch, there is a slight pause\n",
        "as the model computes its loss and accuracy on the 10,000 samples of the validation data.\n",
        "\n"
      ]
    },
    {
      "cell_type": "code",
      "metadata": {
        "colab": {
          "base_uri": "https://localhost:8080/"
        },
        "id": "RT7wUuOl4Nmj",
        "outputId": "267b0d63-d6c2-4fa5-dde9-7ea997213203"
      },
      "source": [
        "history_dict = history.history\n",
        "history_dict.keys()"
      ],
      "execution_count": null,
      "outputs": [
        {
          "output_type": "execute_result",
          "data": {
            "text/plain": [
              "dict_keys(['loss', 'accuracy', 'val_loss', 'val_accuracy'])"
            ]
          },
          "metadata": {},
          "execution_count": 18
        }
      ]
    },
    {
      "cell_type": "markdown",
      "metadata": {
        "id": "0wYcoVcu4Nmj"
      },
      "source": [
        "It contains 4 entries: one per metric that was being monitored, during training and during validation. Let's use Matplotlib to plot the\n",
        "training and validation loss side by side, as well as the training and validation accuracy:"
      ]
    },
    {
      "cell_type": "code",
      "metadata": {
        "scrolled": false,
        "colab": {
          "base_uri": "https://localhost:8080/",
          "height": 295
        },
        "id": "L4zMbuc94Nmj",
        "outputId": "1fd93a63-2b7b-464f-8db0-c76bd5edd641"
      },
      "source": [
        "import matplotlib.pyplot as plt\n",
        "\n",
        "loss = history.history['loss']\n",
        "val_loss = history.history['val_loss']\n",
        "\n",
        "epochs = range(1, len(loss) + 1)\n",
        "\n",
        "plt.plot(epochs, loss, label='Training loss')\n",
        "plt.plot(epochs, val_loss, label='Validation loss')\n",
        "plt.title('Training and validation loss')\n",
        "plt.xlabel('Epochs')\n",
        "plt.ylabel('Loss')\n",
        "plt.legend()\n",
        "\n",
        "plt.show()"
      ],
      "execution_count": null,
      "outputs": [
        {
          "output_type": "display_data",
          "data": {
            "image/png": "[encoded data removed]",
            "text/plain": [
              "<Figure size 432x288 with 1 Axes>"
            ]
          },
          "metadata": {
            "needs_background": "light"
          }
        }
      ]
    },
    {
      "cell_type": "code",
      "metadata": {
        "colab": {
          "base_uri": "https://localhost:8080/",
          "height": 295
        },
        "id": "shCB995u4Nmj",
        "outputId": "fcc91464-986b-41da-af6c-c4393bc14cc7"
      },
      "source": [
        "plt.clf()   # clear figure\n",
        "acc = history.history['accuracy']\n",
        "val_acc = history.history['val_accuracy']\n",
        "\n",
        "plt.plot(epochs, acc, label='Training acc')\n",
        "plt.plot(epochs, val_acc, label='Validation acc')\n",
        "plt.title('Training and validation accuracy')\n",
        "plt.xlabel('Epochs')\n",
        "plt.ylabel('Loss')\n",
        "plt.legend()\n",
        "\n",
        "plt.show()"
      ],
      "execution_count": null,
      "outputs": [
        {
          "output_type": "display_data",
          "data": {
            "image/png": "[encoded data removed]",
            "text/plain": [
              "<Figure size 432x288 with 1 Axes>"
            ]
          },
          "metadata": {
            "needs_background": "light"
          }
        }
      ]
    },
    {
      "cell_type": "markdown",
      "metadata": {
        "id": "Mr9MKYWd4Nml"
      },
      "source": [
        "Our fairly naive approach achieves an accuracy of around 87%. With state-of-the-art approaches, one should be able to get close to 95%."
      ]
    },
    {
      "cell_type": "markdown",
      "metadata": {
        "id": "PiIZ7hA24Nml"
      },
      "source": [
        "### Using a trained network to generate predictions on new data\n",
        "\n",
        "After having trained a network, you will want to use it in a practical setting. You can generate the likelihood of reviews being positive\n",
        "by using the `predict` method:"
      ]
    },
    {
      "cell_type": "code",
      "metadata": {
        "colab": {
          "base_uri": "https://localhost:8080/"
        },
        "id": "snx9JWg14Nml",
        "outputId": "257cf7a7-5271-40bb-a570-c97405f54620"
      },
      "source": [
        "model.predict(x_test)"
      ],
      "execution_count": null,
      "outputs": [
        {
          "output_type": "execute_result",
          "data": {
            "text/plain": [
              "array([[0.04039168],\n",
              "       [1.        ],\n",
              "       [0.7644507 ],\n",
              "       ...,\n",
              "       [0.02527058],\n",
              "       [0.00225222],\n",
              "       [0.07414556]], dtype=float32)"
            ]
          },
          "metadata": {},
          "execution_count": 21
        }
      ]
    },
    {
      "cell_type": "markdown",
      "metadata": {
        "id": "dQE8AYgZ4Nmm"
      },
      "source": [
        "As you can see, the network is very confident for some samples (0.99 or more, or 0.01 or less) but less confident for others (0.6, 0.4).\n"
      ]
    },
    {
      "cell_type": "markdown",
      "metadata": {
        "id": "la19phRI4rW7"
      },
      "source": [
        "### Embeddings"
      ]
    },
    {
      "cell_type": "markdown",
      "metadata": {
        "id": "hus_meajAFVP"
      },
      "source": [
        "#### Exercise 3\n",
        "\n",
        "**TODO**: So far, we've been using one-hot encoded vectors to represent our text. Try to use an embedding layer instead. Check the keras documentation for the specifics of an embedding layer."
      ]
    },
    {
      "cell_type": "markdown",
      "metadata": {
        "id": "e44tG5GVa43x"
      },
      "source": [
        "All of our reviews have different lengths, and the longest of the bunch is 2494 words long. In order to not have to wait forever, we will limit our maximum review size to 500."
      ]
    },
    {
      "cell_type": "code",
      "metadata": {
        "colab": {
          "base_uri": "https://localhost:8080/"
        },
        "id": "GSkWzqWMZzdl",
        "outputId": "9e3ee947-e8c3-40b5-ca5b-5785eccf2a7f"
      },
      "source": [
        "max([len(x) for x in train_data])"
      ],
      "execution_count": null,
      "outputs": [
        {
          "output_type": "execute_result",
          "data": {
            "text/plain": [
              "2494"
            ]
          },
          "metadata": {},
          "execution_count": 22
        }
      ]
    },
    {
      "cell_type": "code",
      "metadata": {
        "colab": {
          "base_uri": "https://localhost:8080/"
        },
        "id": "gu2MBIin643w",
        "outputId": "72c10b77-45be-4680-9745-f7fdc0bed0b1"
      },
      "source": [
        "from keras.preprocessing import sequence\n",
        "\n",
        "maxlen = 500\n",
        "\n",
        "print('Pad sequences (samples x time)')\n",
        "input_train = sequence.pad_sequences(train_data, maxlen=maxlen)\n",
        "input_test = sequence.pad_sequences(test_data, maxlen=maxlen)\n",
        "print('input_train shape:', input_train.shape)\n",
        "print('input_test shape:', input_test.shape)"
      ],
      "execution_count": null,
      "outputs": [
        {
          "output_type": "stream",
          "name": "stdout",
          "text": [
            "Pad sequences (samples x time)\n",
            "input_train shape: (25000, 500)\n",
            "input_test shape: (25000, 500)\n"
          ]
        }
      ]
    },
    {
      "cell_type": "code",
      "metadata": {
        "id": "hhAssq3YaGyp"
      },
      "source": [
        "from keras.layers import Dense, Embedding\n",
        "from keras.models import Sequential\n",
        "\n",
        "# start with a small embedding size if you don't want to wait 17 years\n",
        "embedding_size = 32\n",
        "\n",
        "model = models.Sequential()\n",
        "model.add()"
      ],
      "execution_count": null,
      "outputs": []
    },
    {
      "cell_type": "code",
      "metadata": {
        "id": "T6W7MKNzaYQ9"
      },
      "source": [
        "model.compile(optimizer='rmsprop',\n",
        "              loss='binary_crossentropy',\n",
        "              metrics=['accuracy'])"
      ],
      "execution_count": null,
      "outputs": []
    },
    {
      "cell_type": "code",
      "metadata": {
        "colab": {
          "base_uri": "https://localhost:8080/"
        },
        "id": "BGBCUH5hadOr",
        "outputId": "d07cd971-7fde-494c-e3d5-b294558ab3b6"
      },
      "source": [
        "history = model.fit(input_train, y_train,\n",
        "                    epochs=20,\n",
        "                    batch_size=512,\n",
        "                    validation_split=0.2)"
      ],
      "execution_count": null,
      "outputs": [
        {
          "output_type": "stream",
          "name": "stdout",
          "text": [
            "Epoch 1/20\n",
            "40/40 [==============================] - 6s 130ms/step - loss: 0.6921 - accuracy: 0.5144 - val_loss: 0.6909 - val_accuracy: 0.5199\n",
            "Epoch 2/20\n",
            "40/40 [==============================] - 5s 126ms/step - loss: 0.6898 - accuracy: 0.5252 - val_loss: 0.6890 - val_accuracy: 0.5237\n",
            "Epoch 3/20\n",
            "40/40 [==============================] - 5s 128ms/step - loss: 0.6882 - accuracy: 0.5238 - val_loss: 0.6891 - val_accuracy: 0.5183\n",
            "Epoch 4/20\n",
            "40/40 [==============================] - 5s 129ms/step - loss: 0.6874 - accuracy: 0.5213 - val_loss: 0.6875 - val_accuracy: 0.5237\n",
            "Epoch 5/20\n",
            "40/40 [==============================] - 5s 127ms/step - loss: 0.6868 - accuracy: 0.5251 - val_loss: 0.6877 - val_accuracy: 0.5227\n",
            "Epoch 6/20\n",
            "40/40 [==============================] - 5s 126ms/step - loss: 0.6867 - accuracy: 0.5260 - val_loss: 0.6871 - val_accuracy: 0.5249\n",
            "Epoch 7/20\n",
            "40/40 [==============================] - 5s 126ms/step - loss: 0.6864 - accuracy: 0.5239 - val_loss: 0.6873 - val_accuracy: 0.5257\n",
            "Epoch 8/20\n",
            "40/40 [==============================] - 5s 128ms/step - loss: 0.6864 - accuracy: 0.5239 - val_loss: 0.6875 - val_accuracy: 0.5214\n",
            "Epoch 9/20\n",
            "40/40 [==============================] - 5s 125ms/step - loss: 0.6863 - accuracy: 0.5214 - val_loss: 0.6870 - val_accuracy: 0.5248\n",
            "Epoch 10/20\n",
            "40/40 [==============================] - 5s 126ms/step - loss: 0.6863 - accuracy: 0.5232 - val_loss: 0.6870 - val_accuracy: 0.5253\n",
            "Epoch 11/20\n",
            "40/40 [==============================] - 5s 125ms/step - loss: 0.6862 - accuracy: 0.5267 - val_loss: 0.6872 - val_accuracy: 0.5243\n",
            "Epoch 12/20\n",
            "40/40 [==============================] - 5s 128ms/step - loss: 0.6862 - accuracy: 0.5239 - val_loss: 0.6873 - val_accuracy: 0.5223\n",
            "Epoch 13/20\n",
            "40/40 [==============================] - 5s 127ms/step - loss: 0.6862 - accuracy: 0.5237 - val_loss: 0.6873 - val_accuracy: 0.5243\n",
            "Epoch 14/20\n",
            "40/40 [==============================] - 5s 126ms/step - loss: 0.6861 - accuracy: 0.5253 - val_loss: 0.6873 - val_accuracy: 0.5221\n",
            "Epoch 15/20\n",
            "40/40 [==============================] - 5s 124ms/step - loss: 0.6862 - accuracy: 0.5241 - val_loss: 0.6878 - val_accuracy: 0.5205\n",
            "Epoch 16/20\n",
            "40/40 [==============================] - 5s 126ms/step - loss: 0.6862 - accuracy: 0.5243 - val_loss: 0.6872 - val_accuracy: 0.5225\n",
            "Epoch 17/20\n",
            "40/40 [==============================] - 5s 127ms/step - loss: 0.6861 - accuracy: 0.5225 - val_loss: 0.6878 - val_accuracy: 0.5227\n",
            "Epoch 18/20\n",
            "40/40 [==============================] - 5s 127ms/step - loss: 0.6861 - accuracy: 0.5254 - val_loss: 0.6872 - val_accuracy: 0.5226\n",
            "Epoch 19/20\n",
            "40/40 [==============================] - 5s 128ms/step - loss: 0.6861 - accuracy: 0.5232 - val_loss: 0.6870 - val_accuracy: 0.5256\n",
            "Epoch 20/20\n",
            "40/40 [==============================] - 5s 128ms/step - loss: 0.6861 - accuracy: 0.5272 - val_loss: 0.6871 - val_accuracy: 0.5250\n"
          ]
        }
      ]
    },
    {
      "cell_type": "markdown",
      "metadata": {
        "id": "95y4Omho4gLZ"
      },
      "source": [
        "### Recurrent Neural Network"
      ]
    },
    {
      "cell_type": "markdown",
      "metadata": {
        "id": "-Q-vc8RObbOg"
      },
      "source": [
        "Now we're going to use a recurrent neural network (RNN) for this task. An RNN can handle input sequences of arbitrary length and is good for tasks where the history of a sequence needs to be remembered. For this \"simple\" classification task it will most probably fall short of the performance of our simple linear neural network above, but when we will be using language models, some kind of recurrent neural network will be our best choice.\n",
        "\n",
        "RNNs will be further developed in the coming classes."
      ]
    },
    {
      "cell_type": "markdown",
      "source": [
        "#### Exercise 4\n",
        "\n",
        "**TODO**: use the SimpleRNN layer to add a recurring neural network to our model. As in the previous model, start with an embedding layer. Then train the network."
      ],
      "metadata": {
        "id": "-cD5q3cMwqIJ"
      }
    },
    {
      "cell_type": "code",
      "metadata": {
        "id": "Npy7SIto4e0f"
      },
      "source": [
        "from keras.layers import Dense, Embedding, SimpleRNN\n",
        "from keras.models import Sequential\n",
        "\n",
        "embedding_size = 32\n",
        "\n",
        "model = Sequential()\n",
        "model.add(...)"
      ],
      "execution_count": null,
      "outputs": []
    },
    {
      "cell_type": "code",
      "metadata": {
        "id": "LT-kpgKP4rj7"
      },
      "source": [
        "model.compile(optimizer='rmsprop',\n",
        "              loss='binary_crossentropy',\n",
        "              metrics=['accuracy'])"
      ],
      "execution_count": null,
      "outputs": []
    },
    {
      "cell_type": "code",
      "metadata": {
        "colab": {
          "base_uri": "https://localhost:8080/"
        },
        "id": "0hBa33Le4tXD",
        "outputId": "5e633361-64d2-406f-853e-a748419dcd07"
      },
      "source": [
        "history = model.fit(input_train, y_train,\n",
        "                    epochs=10,\n",
        "                    batch_size=512,\n",
        "                    validation_split=0.2)"
      ],
      "execution_count": null,
      "outputs": [
        {
          "output_type": "stream",
          "name": "stdout",
          "text": [
            "Epoch 1/10\n",
            "40/40 [==============================] - 15s 349ms/step - loss: 0.6842 - accuracy: 0.5548 - val_loss: 0.6660 - val_accuracy: 0.5922\n",
            "Epoch 2/10\n",
            "40/40 [==============================] - 14s 346ms/step - loss: 0.5610 - accuracy: 0.7552 - val_loss: 0.5856 - val_accuracy: 0.6890\n",
            "Epoch 3/10\n",
            "40/40 [==============================] - 14s 341ms/step - loss: 0.4312 - accuracy: 0.8288 - val_loss: 0.5285 - val_accuracy: 0.7382\n",
            "Epoch 4/10\n",
            "40/40 [==============================] - 13s 336ms/step - loss: 0.3673 - accuracy: 0.8505 - val_loss: 0.3765 - val_accuracy: 0.8456\n",
            "Epoch 5/10\n",
            "40/40 [==============================] - 14s 344ms/step - loss: 0.2907 - accuracy: 0.8905 - val_loss: 0.4854 - val_accuracy: 0.7864\n",
            "Epoch 6/10\n",
            "40/40 [==============================] - 14s 339ms/step - loss: 0.2495 - accuracy: 0.9056 - val_loss: 0.4130 - val_accuracy: 0.8146\n",
            "Epoch 7/10\n",
            "40/40 [==============================] - 14s 344ms/step - loss: 0.1990 - accuracy: 0.9302 - val_loss: 0.3825 - val_accuracy: 0.8408\n",
            "Epoch 8/10\n",
            "40/40 [==============================] - 14s 346ms/step - loss: 0.1632 - accuracy: 0.9440 - val_loss: 0.3781 - val_accuracy: 0.8558\n",
            "Epoch 9/10\n",
            "40/40 [==============================] - 14s 340ms/step - loss: 0.1317 - accuracy: 0.9579 - val_loss: 0.4344 - val_accuracy: 0.8596\n",
            "Epoch 10/10\n",
            "40/40 [==============================] - 14s 338ms/step - loss: 0.1372 - accuracy: 0.9561 - val_loss: 0.4120 - val_accuracy: 0.8362\n"
          ]
        }
      ]
    },
    {
      "cell_type": "code",
      "metadata": {
        "colab": {
          "base_uri": "https://localhost:8080/"
        },
        "id": "SxUw4hFO7zG7",
        "outputId": "9609ecaa-ce03-420b-be21-f2fee759a72e"
      },
      "source": [
        "import matplotlib.pyplot as plt\n",
        "\n",
        "loss = history.history['loss']\n",
        "val_loss = history.history['val_loss']\n",
        "\n",
        "epochs = range(1, len(loss) + 1)\n",
        "\n",
        "plt.plot(epochs, loss, label='Training loss')\n",
        "plt.plot(epochs, val_loss, label='Validation loss')\n",
        "plt.title('Training and validation loss')\n",
        "plt.xlabel('Epochs')\n",
        "plt.ylabel('Loss')\n",
        "plt.legend()\n",
        "\n",
        "plt.show()"
      ],
      "execution_count": null,
      "outputs": [
        {
          "output_type": "display_data",
          "data": {
            "image/png": "[encoded data removed]",
            "text/plain": [
              "<Figure size 432x288 with 1 Axes>"
            ]
          },
          "metadata": {
            "needs_background": "light"
          }
        }
      ]
    },
    {
      "cell_type": "code",
      "metadata": {
        "colab": {
          "base_uri": "https://localhost:8080/"
        },
        "id": "goEmXPml7zmc",
        "outputId": "f42607cc-9241-43dd-c9cf-452b66de739c"
      },
      "source": [
        "plt.clf()   # clear figure\n",
        "acc = history.history['accuracy']\n",
        "val_acc = history.history['val_accuracy']\n",
        "\n",
        "plt.plot(epochs, acc, label='Training acc')\n",
        "plt.plot(epochs, val_acc, label='Validation acc')\n",
        "plt.title('Training and validation accuracy')\n",
        "plt.xlabel('Epochs')\n",
        "plt.ylabel('Loss')\n",
        "plt.legend()\n",
        "\n",
        "plt.show()"
      ],
      "execution_count": null,
      "outputs": [
        {
          "output_type": "display_data",
          "data": {
            "image/png": "[encoded data removed]",
            "text/plain": [
              "<Figure size 432x288 with 1 Axes>"
            ]
          },
          "metadata": {
            "needs_background": "light"
          }
        }
      ]
    },
    {
      "cell_type": "markdown",
      "metadata": {
        "id": "vGnF8sTU1s9x"
      },
      "source": [
        "As a reminder, our very first naive approach to this very dataset got us to 88% test accuracy. Unfortunately, our small\n",
        "recurrent network doesn't perform very well at all compared to this baseline (only up to 85% validation accuracy). Part of the problem is\n",
        "that our inputs only consider the first 500 words rather the full sequences --\n",
        "hence our RNN has access to less information than our earlier baseline model. The remainder of the problem is simply that `SimpleRNN` isn't very good at processing long sequences, like text."
      ]
    },
    {
      "cell_type": "markdown",
      "source": [
        "#### Exercise 5\n",
        "**TODO**: Use pretrained word embeddings to optimize your model even further."
      ],
      "metadata": {
        "id": "GWh0PPb8wZnw"
      }
    },
    {
      "cell_type": "markdown",
      "source": [
        "#### Exercise 6\n",
        "\n",
        "Come up with other ways of solving the problem. You are free to use whatever you like:\n",
        "* Other optimizations or embeddings\n",
        "* LSTMs\n",
        "* Transfer Learning with HuggingFace Transformers\n",
        "* LLMs"
      ],
      "metadata": {
        "id": "L7WWGEbWywK3"
      }
    }
  ]
}